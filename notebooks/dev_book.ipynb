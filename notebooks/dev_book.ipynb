{
 "cells": [
  {
   "cell_type": "markdown",
   "metadata": {},
   "source": [
    "# Development scratchbook"
   ]
  },
  {
   "cell_type": "code",
   "execution_count": 1,
   "metadata": {
    "scrolled": true
   },
   "outputs": [],
   "source": [
    "%load_ext autoreload\n",
    "%autoreload 2"
   ]
  },
  {
   "cell_type": "code",
   "execution_count": 2,
   "metadata": {},
   "outputs": [
    {
     "name": "stderr",
     "output_type": "stream",
     "text": [
      "/Users/akuepper/anaconda/envs/etfs_dev/lib/python3.6/importlib/_bootstrap.py:219: RuntimeWarning: numpy.dtype size changed, may indicate binary incompatibility. Expected 96, got 88\n",
      "  return f(*args, **kwds)\n",
      "/Users/akuepper/anaconda/envs/etfs_dev/lib/python3.6/importlib/_bootstrap.py:219: RuntimeWarning: numpy.dtype size changed, may indicate binary incompatibility. Expected 96, got 88\n",
      "  return f(*args, **kwds)\n",
      "/Users/akuepper/anaconda/envs/etfs_dev/lib/python3.6/importlib/_bootstrap.py:219: RuntimeWarning: numpy.dtype size changed, may indicate binary incompatibility. Expected 96, got 88\n",
      "  return f(*args, **kwds)\n",
      "/Users/akuepper/anaconda/envs/etfs_dev/lib/python3.6/importlib/_bootstrap.py:219: RuntimeWarning: numpy.dtype size changed, may indicate binary incompatibility. Expected 96, got 88\n",
      "  return f(*args, **kwds)\n"
     ]
    }
   ],
   "source": [
    "import numpy as np\n",
    "import pandas as pd\n",
    "import matplotlib.pyplot as plt\n",
    "import seaborn as sns\n",
    "import etfs as et"
   ]
  },
  {
   "cell_type": "code",
   "execution_count": 3,
   "metadata": {},
   "outputs": [],
   "source": [
    "from etfs.security.io import read_yahoo_csv, retrieve_yahoo_quote, get_company_name\n",
    "from etfs.stats.basics import resample_df, runrate_column, shift_column, returns_column, \\\n",
    "                              difference, rsq, beta, alpha, standard_deviation_column\n",
    "from etfs.utils.helpers import todays_date\n",
    "from etfs.visualization.trends import plot_trend, plot_candlestick, plot_ewm\n",
    "from etfs.treasury.io import retrieve_treasury_yield_curve_rates"
   ]
  },
  {
   "cell_type": "code",
   "execution_count": null,
   "metadata": {},
   "outputs": [],
   "source": []
  },
  {
   "cell_type": "code",
   "execution_count": null,
   "metadata": {},
   "outputs": [],
   "source": []
  },
  {
   "cell_type": "markdown",
   "metadata": {},
   "source": [
    "## Retrieve quotes from Yahoo! Finance"
   ]
  },
  {
   "cell_type": "code",
   "execution_count": null,
   "metadata": {
    "scrolled": true
   },
   "outputs": [],
   "source": [
    "df = retrieve_yahoo_quote(ticker='VO', startdate='19000101', enddate='20180204')"
   ]
  },
  {
   "cell_type": "code",
   "execution_count": null,
   "metadata": {},
   "outputs": [],
   "source": [
    "df.head()"
   ]
  },
  {
   "cell_type": "code",
   "execution_count": null,
   "metadata": {},
   "outputs": [],
   "source": []
  },
  {
   "cell_type": "code",
   "execution_count": null,
   "metadata": {},
   "outputs": [],
   "source": []
  },
  {
   "cell_type": "markdown",
   "metadata": {},
   "source": [
    "## Alternatively: read in files"
   ]
  },
  {
   "cell_type": "code",
   "execution_count": null,
   "metadata": {},
   "outputs": [],
   "source": [
    "filepath = '../data/VO.csv'"
   ]
  },
  {
   "cell_type": "code",
   "execution_count": null,
   "metadata": {},
   "outputs": [],
   "source": [
    "df = read_yahoo_csv(path=filepath)"
   ]
  },
  {
   "cell_type": "code",
   "execution_count": null,
   "metadata": {},
   "outputs": [],
   "source": [
    "df.head(5)"
   ]
  },
  {
   "cell_type": "code",
   "execution_count": null,
   "metadata": {},
   "outputs": [],
   "source": []
  },
  {
   "cell_type": "code",
   "execution_count": null,
   "metadata": {},
   "outputs": [],
   "source": []
  },
  {
   "cell_type": "markdown",
   "metadata": {},
   "source": [
    "## First look at the data"
   ]
  },
  {
   "cell_type": "code",
   "execution_count": null,
   "metadata": {
    "scrolled": true
   },
   "outputs": [],
   "source": [
    "df[['Close', 'Adj Close']].plot()"
   ]
  },
  {
   "cell_type": "code",
   "execution_count": null,
   "metadata": {},
   "outputs": [],
   "source": []
  },
  {
   "cell_type": "code",
   "execution_count": null,
   "metadata": {},
   "outputs": [],
   "source": []
  },
  {
   "cell_type": "markdown",
   "metadata": {},
   "source": [
    "## Compare several securities"
   ]
  },
  {
   "cell_type": "code",
   "execution_count": null,
   "metadata": {},
   "outputs": [],
   "source": [
    "#filepath = '../data/VOO.csv'\n",
    "#df2 = read_yahoo_csv(path=filepath)\n",
    "df2 = retrieve_yahoo_quote(ticker='VOO', enddate=todays_date())"
   ]
  },
  {
   "cell_type": "code",
   "execution_count": null,
   "metadata": {},
   "outputs": [],
   "source": [
    "#filepath = '../data/VNQ.csv'\n",
    "#df3 = read_yahoo_csv(path=filepath)\n",
    "df3 = retrieve_yahoo_quote(ticker='VNQ', enddate=todays_date())"
   ]
  },
  {
   "cell_type": "code",
   "execution_count": null,
   "metadata": {
    "scrolled": false
   },
   "outputs": [],
   "source": [
    "plt.plot(df.index, df.Close, label='VO')\n",
    "plt.plot(df2.index, df2.Close, label = 'VOO')\n",
    "plt.plot(df3.index, df3.Close, label='VNQ')\n",
    "plt.legend()"
   ]
  },
  {
   "cell_type": "code",
   "execution_count": null,
   "metadata": {},
   "outputs": [],
   "source": []
  },
  {
   "cell_type": "code",
   "execution_count": null,
   "metadata": {},
   "outputs": [],
   "source": []
  },
  {
   "cell_type": "markdown",
   "metadata": {},
   "source": [
    "## Play with some basic time series functions"
   ]
  },
  {
   "cell_type": "markdown",
   "metadata": {},
   "source": [
    "### Run rate"
   ]
  },
  {
   "cell_type": "code",
   "execution_count": null,
   "metadata": {
    "scrolled": true
   },
   "outputs": [],
   "source": [
    "df = runrate_column(df, column='Close', window=50)\n",
    "df = runrate_column(df, column='Close', window=200)"
   ]
  },
  {
   "cell_type": "code",
   "execution_count": null,
   "metadata": {},
   "outputs": [],
   "source": [
    "plt.plot(df.index, df.Close)\n",
    "plt.plot(df.index, df.Close_rr50)\n",
    "plt.plot(df.index, df.Close_rr200)"
   ]
  },
  {
   "cell_type": "code",
   "execution_count": null,
   "metadata": {},
   "outputs": [],
   "source": []
  },
  {
   "cell_type": "code",
   "execution_count": null,
   "metadata": {},
   "outputs": [],
   "source": []
  },
  {
   "cell_type": "markdown",
   "metadata": {},
   "source": [
    "### Resampling"
   ]
  },
  {
   "cell_type": "code",
   "execution_count": null,
   "metadata": {},
   "outputs": [],
   "source": [
    "df_m = resample_df(df, column='Close', resolution='M')\n",
    "df_y = resample_df(df, column='Close', resolution='12M')"
   ]
  },
  {
   "cell_type": "code",
   "execution_count": null,
   "metadata": {},
   "outputs": [],
   "source": [
    "plt.plot(df.index, df.Close)\n",
    "plt.plot(df_m.index, df_m.Close['mean'])\n",
    "plt.plot(df_y.index, df_y.Close['mean'])"
   ]
  },
  {
   "cell_type": "code",
   "execution_count": null,
   "metadata": {
    "scrolled": false
   },
   "outputs": [],
   "source": [
    "df_y.head(5)"
   ]
  },
  {
   "cell_type": "code",
   "execution_count": null,
   "metadata": {},
   "outputs": [],
   "source": []
  },
  {
   "cell_type": "code",
   "execution_count": null,
   "metadata": {},
   "outputs": [],
   "source": []
  },
  {
   "cell_type": "markdown",
   "metadata": {},
   "source": [
    "### Volatility"
   ]
  },
  {
   "cell_type": "code",
   "execution_count": null,
   "metadata": {
    "scrolled": false
   },
   "outputs": [],
   "source": [
    "df = standard_deviation_column(df, column='Close', window=1, shift=1)"
   ]
  },
  {
   "cell_type": "code",
   "execution_count": null,
   "metadata": {},
   "outputs": [],
   "source": [
    "df2 = standard_deviation_column(df2, column='Close', window=1, shift=1)"
   ]
  },
  {
   "cell_type": "code",
   "execution_count": null,
   "metadata": {
    "scrolled": true
   },
   "outputs": [],
   "source": [
    "df3 = standard_deviation_column(df3, column='Close', window=1, shift=1)"
   ]
  },
  {
   "cell_type": "code",
   "execution_count": null,
   "metadata": {},
   "outputs": [],
   "source": [
    "df_m = resample_df(df, column='Close_sh1_sqerr', resolution='7D')\n",
    "df2_m = resample_df(df2, column='Close_sh1_sqerr', resolution='7D')\n",
    "df3_m = resample_df(df3, column='Close_sh1_sqerr', resolution='7D')"
   ]
  },
  {
   "cell_type": "code",
   "execution_count": null,
   "metadata": {},
   "outputs": [],
   "source": [
    "plt.plot(df3_m.index, np.sqrt(df3_m.Close_sh1_sqerr['mean'])+.2, label='VNQ')\n",
    "plt.plot(df_m.index, np.sqrt(df_m.Close_sh1_sqerr['mean'])+.1, label='VO')\n",
    "plt.plot(df2_m.index, np.sqrt(df2_m.Close_sh1_sqerr['mean']), label='VOO')\n",
    "plt.legend()\n",
    "plt.ylabel('Volatility')\n",
    "plt.yticks([]);"
   ]
  },
  {
   "cell_type": "code",
   "execution_count": null,
   "metadata": {},
   "outputs": [],
   "source": []
  },
  {
   "cell_type": "code",
   "execution_count": null,
   "metadata": {},
   "outputs": [],
   "source": []
  },
  {
   "cell_type": "markdown",
   "metadata": {},
   "source": [
    "## Differences in time"
   ]
  },
  {
   "cell_type": "code",
   "execution_count": null,
   "metadata": {},
   "outputs": [],
   "source": [
    "startdate = '2017-01-03'\n",
    "enddate   = '2017-02-09'"
   ]
  },
  {
   "cell_type": "code",
   "execution_count": null,
   "metadata": {},
   "outputs": [],
   "source": [
    "df_plot = df.loc[(df.index >= startdate) & (df.index <= enddate), :]\n",
    "plt.plot(df_plot.index, df_plot.Close)"
   ]
  },
  {
   "cell_type": "code",
   "execution_count": null,
   "metadata": {},
   "outputs": [],
   "source": [
    "difference(df=df, column='Close', start=startdate, end=enddate)"
   ]
  },
  {
   "cell_type": "code",
   "execution_count": null,
   "metadata": {},
   "outputs": [],
   "source": []
  },
  {
   "cell_type": "code",
   "execution_count": null,
   "metadata": {},
   "outputs": [],
   "source": []
  },
  {
   "cell_type": "markdown",
   "metadata": {},
   "source": [
    "## Security class"
   ]
  },
  {
   "cell_type": "code",
   "execution_count": null,
   "metadata": {},
   "outputs": [],
   "source": [
    "VO = et.Security('VO', start='2017-01-01', end='2017-12-31')\n",
    "VOO = et.Security('VOO', start='2017-01-01', end='2017-12-31')\n",
    "VNQ = et.Security('VNQ', start='2017-01-01', end='2017-12-31')"
   ]
  },
  {
   "cell_type": "code",
   "execution_count": null,
   "metadata": {
    "scrolled": true
   },
   "outputs": [],
   "source": [
    "VO.ticker, VOO.ticker, VNQ.ticker"
   ]
  },
  {
   "cell_type": "code",
   "execution_count": null,
   "metadata": {
    "scrolled": true
   },
   "outputs": [],
   "source": [
    "VNQ.refresh()"
   ]
  },
  {
   "cell_type": "code",
   "execution_count": null,
   "metadata": {},
   "outputs": [],
   "source": []
  },
  {
   "cell_type": "code",
   "execution_count": null,
   "metadata": {},
   "outputs": [],
   "source": []
  },
  {
   "cell_type": "markdown",
   "metadata": {},
   "source": [
    "### Load data either from file or from Yahoo!"
   ]
  },
  {
   "cell_type": "code",
   "execution_count": null,
   "metadata": {},
   "outputs": [],
   "source": [
    "VO.load(start='2017-01-01', end='2017-12-31')\n",
    "VOO.load(start='2017-01-01', end='2017-12-31')"
   ]
  },
  {
   "cell_type": "code",
   "execution_count": null,
   "metadata": {},
   "outputs": [],
   "source": [
    "difference(df=VO.data, column='Close', start='2017-01-01', end='2017-01-30')"
   ]
  },
  {
   "cell_type": "code",
   "execution_count": null,
   "metadata": {
    "scrolled": true
   },
   "outputs": [],
   "source": [
    "difference(df=VOO.data, column='Close', start='2017-01-01', end='2017-01-30')"
   ]
  },
  {
   "cell_type": "code",
   "execution_count": null,
   "metadata": {},
   "outputs": [],
   "source": []
  },
  {
   "cell_type": "code",
   "execution_count": null,
   "metadata": {},
   "outputs": [],
   "source": []
  },
  {
   "cell_type": "markdown",
   "metadata": {},
   "source": [
    "### Name class instance"
   ]
  },
  {
   "cell_type": "code",
   "execution_count": null,
   "metadata": {},
   "outputs": [],
   "source": [
    "VO.name = 'Vanguard Mid Cap ETF'"
   ]
  },
  {
   "cell_type": "code",
   "execution_count": null,
   "metadata": {
    "scrolled": true
   },
   "outputs": [],
   "source": [
    "VO.name"
   ]
  },
  {
   "cell_type": "code",
   "execution_count": null,
   "metadata": {},
   "outputs": [],
   "source": [
    "VO.set_name('VO')"
   ]
  },
  {
   "cell_type": "code",
   "execution_count": null,
   "metadata": {
    "scrolled": true
   },
   "outputs": [],
   "source": [
    "VO.name"
   ]
  },
  {
   "cell_type": "code",
   "execution_count": null,
   "metadata": {},
   "outputs": [],
   "source": [
    "print(VO)"
   ]
  },
  {
   "cell_type": "code",
   "execution_count": null,
   "metadata": {},
   "outputs": [],
   "source": []
  },
  {
   "cell_type": "markdown",
   "metadata": {},
   "source": [
    "### Last price in data"
   ]
  },
  {
   "cell_type": "code",
   "execution_count": null,
   "metadata": {
    "scrolled": true
   },
   "outputs": [],
   "source": [
    "VO.get_last_price('Close')"
   ]
  },
  {
   "cell_type": "code",
   "execution_count": null,
   "metadata": {},
   "outputs": [],
   "source": [
    "VO.last_price"
   ]
  },
  {
   "cell_type": "code",
   "execution_count": null,
   "metadata": {},
   "outputs": [],
   "source": []
  },
  {
   "cell_type": "code",
   "execution_count": null,
   "metadata": {},
   "outputs": [],
   "source": []
  },
  {
   "cell_type": "markdown",
   "metadata": {},
   "source": [
    "### Plot outliers"
   ]
  },
  {
   "cell_type": "code",
   "execution_count": null,
   "metadata": {},
   "outputs": [],
   "source": [
    "df_high = VNQ.data.loc[VNQ.data.Close >= VNQ.mean_price + VNQ.std_price]\n",
    "df_low = VNQ.data.loc[VNQ.data.Close <= VNQ.mean_price - VNQ.std_price]"
   ]
  },
  {
   "cell_type": "code",
   "execution_count": null,
   "metadata": {},
   "outputs": [],
   "source": [
    "plt.plot(VNQ.data.index, VNQ.data.Close)\n",
    "plt.scatter(df_high.index, df_high.Close)\n",
    "plt.scatter(df_low.index, df_low.Close)"
   ]
  },
  {
   "cell_type": "code",
   "execution_count": null,
   "metadata": {},
   "outputs": [],
   "source": []
  },
  {
   "cell_type": "code",
   "execution_count": null,
   "metadata": {},
   "outputs": [],
   "source": []
  },
  {
   "cell_type": "markdown",
   "metadata": {},
   "source": [
    "### Refresh data (and save as csv)"
   ]
  },
  {
   "cell_type": "code",
   "execution_count": null,
   "metadata": {
    "scrolled": true
   },
   "outputs": [],
   "source": [
    "VO.refresh()"
   ]
  },
  {
   "cell_type": "code",
   "execution_count": null,
   "metadata": {
    "scrolled": true
   },
   "outputs": [],
   "source": [
    "VOO.refresh()"
   ]
  },
  {
   "cell_type": "code",
   "execution_count": null,
   "metadata": {},
   "outputs": [],
   "source": []
  },
  {
   "cell_type": "code",
   "execution_count": null,
   "metadata": {},
   "outputs": [],
   "source": []
  },
  {
   "cell_type": "markdown",
   "metadata": {},
   "source": [
    "### Calculate returns"
   ]
  },
  {
   "cell_type": "code",
   "execution_count": null,
   "metadata": {},
   "outputs": [],
   "source": [
    "returns_column(df=VO.data, column='Close').head()"
   ]
  },
  {
   "cell_type": "code",
   "execution_count": null,
   "metadata": {},
   "outputs": [],
   "source": [
    "VO.get_returns()"
   ]
  },
  {
   "cell_type": "code",
   "execution_count": null,
   "metadata": {},
   "outputs": [],
   "source": []
  },
  {
   "cell_type": "code",
   "execution_count": null,
   "metadata": {},
   "outputs": [],
   "source": []
  },
  {
   "cell_type": "markdown",
   "metadata": {},
   "source": [
    "### R squared between two securities"
   ]
  },
  {
   "cell_type": "code",
   "execution_count": null,
   "metadata": {
    "scrolled": true
   },
   "outputs": [],
   "source": [
    "rsq(sec1=VOO, sec2=VO, col1='Close', col2='Close')"
   ]
  },
  {
   "cell_type": "code",
   "execution_count": null,
   "metadata": {},
   "outputs": [],
   "source": [
    "rsq(sec1=VNQ, sec2=VO, col1='Close', col2='Close')"
   ]
  },
  {
   "cell_type": "code",
   "execution_count": null,
   "metadata": {},
   "outputs": [],
   "source": [
    "VO.get_returns()"
   ]
  },
  {
   "cell_type": "code",
   "execution_count": null,
   "metadata": {},
   "outputs": [],
   "source": [
    "VOO.get_returns()"
   ]
  },
  {
   "cell_type": "code",
   "execution_count": null,
   "metadata": {},
   "outputs": [],
   "source": [
    "VNQ.get_returns()"
   ]
  },
  {
   "cell_type": "code",
   "execution_count": null,
   "metadata": {},
   "outputs": [],
   "source": [
    "rsq(sec1=VOO, sec2=VO, col1='Return', col2='Return')"
   ]
  },
  {
   "cell_type": "code",
   "execution_count": null,
   "metadata": {},
   "outputs": [],
   "source": [
    "rsq(sec1=VNQ, sec2=VO, col1='Return', col2='Return')"
   ]
  },
  {
   "cell_type": "code",
   "execution_count": null,
   "metadata": {},
   "outputs": [],
   "source": []
  },
  {
   "cell_type": "code",
   "execution_count": null,
   "metadata": {},
   "outputs": [],
   "source": []
  },
  {
   "cell_type": "markdown",
   "metadata": {},
   "source": [
    "### Calculate beta of a security against a benchmark"
   ]
  },
  {
   "cell_type": "code",
   "execution_count": null,
   "metadata": {},
   "outputs": [],
   "source": [
    "VO.get_benchmark()"
   ]
  },
  {
   "cell_type": "code",
   "execution_count": null,
   "metadata": {},
   "outputs": [],
   "source": [
    "VO.benchmark.get_returns()"
   ]
  },
  {
   "cell_type": "code",
   "execution_count": null,
   "metadata": {
    "scrolled": true
   },
   "outputs": [],
   "source": [
    "beta(sec1=VO, sec2=VO.benchmark, col1='Return', col2='Return')"
   ]
  },
  {
   "cell_type": "code",
   "execution_count": null,
   "metadata": {},
   "outputs": [],
   "source": [
    "VOO.get_benchmark()"
   ]
  },
  {
   "cell_type": "code",
   "execution_count": null,
   "metadata": {},
   "outputs": [],
   "source": [
    "VOO.benchmark.get_returns()"
   ]
  },
  {
   "cell_type": "code",
   "execution_count": null,
   "metadata": {},
   "outputs": [],
   "source": [
    "beta(sec1=VOO, sec2=VOO.benchmark, col1='Return', col2='Return')"
   ]
  },
  {
   "cell_type": "code",
   "execution_count": null,
   "metadata": {},
   "outputs": [],
   "source": []
  },
  {
   "cell_type": "code",
   "execution_count": null,
   "metadata": {},
   "outputs": [],
   "source": []
  },
  {
   "cell_type": "markdown",
   "metadata": {},
   "source": [
    "### Calculate alpha of a security against a benchmark"
   ]
  },
  {
   "cell_type": "code",
   "execution_count": null,
   "metadata": {},
   "outputs": [],
   "source": [
    "VO = et.Security('VO', start='2015-01-01', end='2017-12-31')"
   ]
  },
  {
   "cell_type": "code",
   "execution_count": null,
   "metadata": {},
   "outputs": [],
   "source": [
    "VO.get_benchmark()"
   ]
  },
  {
   "cell_type": "code",
   "execution_count": null,
   "metadata": {},
   "outputs": [],
   "source": [
    "VO.get_returns()"
   ]
  },
  {
   "cell_type": "code",
   "execution_count": null,
   "metadata": {},
   "outputs": [],
   "source": [
    "alpha(sec1=VO, sec2=VO.benchmark, col1='Return', col2='Return', risk_free_rate=.004484)"
   ]
  },
  {
   "cell_type": "code",
   "execution_count": null,
   "metadata": {},
   "outputs": [],
   "source": []
  },
  {
   "cell_type": "code",
   "execution_count": null,
   "metadata": {},
   "outputs": [],
   "source": []
  },
  {
   "cell_type": "markdown",
   "metadata": {},
   "source": [
    "### 50-day and 200-day rolling weighted averages for securities "
   ]
  },
  {
   "cell_type": "code",
   "execution_count": 29,
   "metadata": {
    "scrolled": true
   },
   "outputs": [
    {
     "name": "stdout",
     "output_type": "stream",
     "text": [
      "Checking ../data/NFLX.csv\n",
      "Saving ../data/NFLX.csv\n"
     ]
    }
   ],
   "source": [
    "NFLX = et.Security('NFLX')"
   ]
  },
  {
   "cell_type": "code",
   "execution_count": 30,
   "metadata": {},
   "outputs": [
    {
     "data": {
      "image/png": "[encoded data removed]",
      "text/plain": [
       "<Figure size 432x288 with 1 Axes>"
      ]
     },
     "metadata": {},
     "output_type": "display_data"
    }
   ],
   "source": [
    "plot_trend(security=NFLX, windows=[50, 200], ndays=1000)"
   ]
  },
  {
   "cell_type": "code",
   "execution_count": 6,
   "metadata": {},
   "outputs": [
    {
     "name": "stdout",
     "output_type": "stream",
     "text": [
      "Checking ../data/AMD.csv\n",
      "Saving ../data/AMD.csv\n"
     ]
    }
   ],
   "source": [
    "AMD = et.Security('AMD')"
   ]
  },
  {
   "cell_type": "code",
   "execution_count": 7,
   "metadata": {},
   "outputs": [
    {
     "data": {
      "image/png": "[encoded data removed]",
      "text/plain": [
       "<Figure size 432x288 with 1 Axes>"
      ]
     },
     "metadata": {},
     "output_type": "display_data"
    }
   ],
   "source": [
    "plot_trend(security=AMD, windows=[10, 30])"
   ]
  },
  {
   "cell_type": "code",
   "execution_count": 11,
   "metadata": {},
   "outputs": [
    {
     "name": "stdout",
     "output_type": "stream",
     "text": [
      "Checking ../data/BIDU.csv\n",
      "Saving ../data/BIDU.csv\n"
     ]
    }
   ],
   "source": [
    "BIDU = et.Security('BIDU')"
   ]
  },
  {
   "cell_type": "code",
   "execution_count": 28,
   "metadata": {},
   "outputs": [
    {
     "data": {
      "image/png": "[encoded data removed]",
      "text/plain": [
       "<Figure size 432x288 with 1 Axes>"
      ]
     },
     "metadata": {},
     "output_type": "display_data"
    }
   ],
   "source": [
    "plot_trend(security=BIDU, windows=[50, 200], ndays=1000)"
   ]
  },
  {
   "cell_type": "code",
   "execution_count": 13,
   "metadata": {},
   "outputs": [
    {
     "name": "stdout",
     "output_type": "stream",
     "text": [
      "Checking ../data/BABA.csv\n",
      "Saving ../data/BABA.csv\n"
     ]
    }
   ],
   "source": [
    "BABA = et.Security('BABA')"
   ]
  },
  {
   "cell_type": "code",
   "execution_count": 27,
   "metadata": {},
   "outputs": [
    {
     "data": {
      "image/png": "[encoded data removed]",
      "text/plain": [
       "<Figure size 432x288 with 1 Axes>"
      ]
     },
     "metadata": {},
     "output_type": "display_data"
    }
   ],
   "source": [
    "plot_trend(security=BABA, windows=[50, 200], ndays=1000)"
   ]
  },
  {
   "cell_type": "code",
   "execution_count": 24,
   "metadata": {},
   "outputs": [
    {
     "name": "stdout",
     "output_type": "stream",
     "text": [
      "Checking ../data/W.csv\n",
      "Saving ../data/W.csv\n"
     ]
    }
   ],
   "source": [
    "W = et.Security('W')"
   ]
  },
  {
   "cell_type": "code",
   "execution_count": 26,
   "metadata": {
    "scrolled": true
   },
   "outputs": [
    {
     "data": {
      "image/png": "[encoded data removed]",
      "text/plain": [
       "<Figure size 432x288 with 1 Axes>"
      ]
     },
     "metadata": {},
     "output_type": "display_data"
    }
   ],
   "source": [
    "plot_trend(security=W, ndays=1000)"
   ]
  },
  {
   "cell_type": "code",
   "execution_count": 12,
   "metadata": {},
   "outputs": [
    {
     "name": "stdout",
     "output_type": "stream",
     "text": [
      "Checking ../data/^GSPC.csv\n",
      "Saving ../data/^GSPC.csv\n"
     ]
    }
   ],
   "source": [
    "SP500 = et.Security('^GSPC')"
   ]
  },
  {
   "cell_type": "code",
   "execution_count": 14,
   "metadata": {},
   "outputs": [
    {
     "data": {
      "image/png": "[encoded data removed]",
      "text/plain": [
       "<Figure size 432x288 with 1 Axes>"
      ]
     },
     "metadata": {},
     "output_type": "display_data"
    }
   ],
   "source": [
    "plot_trend(security=SP500, windows=[50, 200])"
   ]
  },
  {
   "cell_type": "code",
   "execution_count": 21,
   "metadata": {},
   "outputs": [
    {
     "name": "stdout",
     "output_type": "stream",
     "text": [
      "Checking ../data/IQ.csv\n",
      "Saving ../data/IQ.csv\n"
     ]
    }
   ],
   "source": [
    "IQ = et.Security('IQ')"
   ]
  },
  {
   "cell_type": "code",
   "execution_count": 23,
   "metadata": {},
   "outputs": [
    {
     "data": {
      "image/png": "[encoded data removed]",
      "text/plain": [
       "<Figure size 432x288 with 1 Axes>"
      ]
     },
     "metadata": {},
     "output_type": "display_data"
    }
   ],
   "source": [
    "plot_trend(security=IQ, windows=[50, 200])"
   ]
  },
  {
   "cell_type": "code",
   "execution_count": 19,
   "metadata": {},
   "outputs": [
    {
     "name": "stdout",
     "output_type": "stream",
     "text": [
      "Checking ../data/JD.csv\n",
      "Saving ../data/JD.csv\n"
     ]
    }
   ],
   "source": [
    "JD = et.Security('JD')"
   ]
  },
  {
   "cell_type": "code",
   "execution_count": 20,
   "metadata": {},
   "outputs": [
    {
     "data": {
      "image/png": "[encoded data removed]",
      "text/plain": [
       "<Figure size 432x288 with 1 Axes>"
      ]
     },
     "metadata": {},
     "output_type": "display_data"
    }
   ],
   "source": [
    "plot_trend(security=JD, windows=[50, 200])"
   ]
  },
  {
   "cell_type": "code",
   "execution_count": 17,
   "metadata": {
    "scrolled": true
   },
   "outputs": [
    {
     "name": "stdout",
     "output_type": "stream",
     "text": [
      "Checking ../data/SONO.csv\n",
      "Saving ../data/SONO.csv\n"
     ]
    }
   ],
   "source": [
    "SONO = et.Security('SONO', start='2018-01-01')"
   ]
  },
  {
   "cell_type": "code",
   "execution_count": 18,
   "metadata": {},
   "outputs": [
    {
     "data": {
      "image/png": "[encoded data removed]",
      "text/plain": [
       "<Figure size 432x288 with 1 Axes>"
      ]
     },
     "metadata": {},
     "output_type": "display_data"
    }
   ],
   "source": [
    "plot_trend(security=SONO, windows=[20, 50])"
   ]
  },
  {
   "cell_type": "code",
   "execution_count": 6,
   "metadata": {},
   "outputs": [
    {
     "name": "stdout",
     "output_type": "stream",
     "text": [
      "Checking ../data/VOO.csv\n",
      "Saving ../data/VOO.csv\n"
     ]
    }
   ],
   "source": [
    "VOO = et.Security('VOO', start='2018-01-01')"
   ]
  },
  {
   "cell_type": "code",
   "execution_count": 8,
   "metadata": {},
   "outputs": [
    {
     "data": {
      "image/png": "[encoded data removed]",
      "text/plain": [
       "<Figure size 432x288 with 1 Axes>"
      ]
     },
     "metadata": {},
     "output_type": "display_data"
    }
   ],
   "source": [
    "plot_trend(security=VOO, windows=[50, 200])"
   ]
  },
  {
   "cell_type": "code",
   "execution_count": 15,
   "metadata": {},
   "outputs": [
    {
     "name": "stdout",
     "output_type": "stream",
     "text": [
      "Checking ../data/SNE.csv\n",
      "Saving ../data/SNE.csv\n"
     ]
    }
   ],
   "source": [
    "SNE = et.Security('SNE')"
   ]
  },
  {
   "cell_type": "code",
   "execution_count": 31,
   "metadata": {},
   "outputs": [
    {
     "data": {
      "image/png": "[encoded data removed]",
      "text/plain": [
       "<Figure size 432x288 with 1 Axes>"
      ]
     },
     "metadata": {},
     "output_type": "display_data"
    }
   ],
   "source": [
    "plot_trend(security=SNE, windows=[50, 200], ndays=1000)"
   ]
  },
  {
   "cell_type": "code",
   "execution_count": null,
   "metadata": {},
   "outputs": [],
   "source": []
  },
  {
   "cell_type": "code",
   "execution_count": null,
   "metadata": {},
   "outputs": [],
   "source": []
  },
  {
   "cell_type": "markdown",
   "metadata": {},
   "source": [
    "### Exponentially weighted moving averages"
   ]
  },
  {
   "cell_type": "code",
   "execution_count": 4,
   "metadata": {},
   "outputs": [
    {
     "name": "stdout",
     "output_type": "stream",
     "text": [
      "Checking ../data/FB.csv\n",
      "Saving ../data/FB.csv\n"
     ]
    }
   ],
   "source": [
    "FB = et.Security('FB')"
   ]
  },
  {
   "cell_type": "code",
   "execution_count": null,
   "metadata": {},
   "outputs": [],
   "source": [
    "plot_ewm(security=FB, alphas=[.5, .1])"
   ]
  },
  {
   "cell_type": "code",
   "execution_count": null,
   "metadata": {},
   "outputs": [],
   "source": [
    "plot_trend(security=FB, windows=[10, 30])"
   ]
  },
  {
   "cell_type": "code",
   "execution_count": null,
   "metadata": {},
   "outputs": [],
   "source": []
  },
  {
   "cell_type": "code",
   "execution_count": null,
   "metadata": {},
   "outputs": [],
   "source": []
  },
  {
   "cell_type": "markdown",
   "metadata": {},
   "source": [
    "### Candlestick plot"
   ]
  },
  {
   "cell_type": "code",
   "execution_count": 4,
   "metadata": {},
   "outputs": [
    {
     "name": "stdout",
     "output_type": "stream",
     "text": [
      "Checking ../data/AAPL.csv\n"
     ]
    }
   ],
   "source": [
    "AAPL = et.Security('AAPL', start='2008-01-02', end='2017-12-29')"
   ]
  },
  {
   "cell_type": "code",
   "execution_count": 6,
   "metadata": {},
   "outputs": [
    {
     "data": {
      "text/html": [
       "<div>\n",
       "<style scoped>\n",
       "    .dataframe tbody tr th:only-of-type {\n",
       "        vertical-align: middle;\n",
       "    }\n",
       "\n",
       "    .dataframe tbody tr th {\n",
       "        vertical-align: top;\n",
       "    }\n",
       "\n",
       "    .dataframe thead th {\n",
       "        text-align: right;\n",
       "    }\n",
       "</style>\n",
       "<table border=\"1\" class=\"dataframe\">\n",
       "  <thead>\n",
       "    <tr style=\"text-align: right;\">\n",
       "      <th></th>\n",
       "      <th>Open</th>\n",
       "      <th>High</th>\n",
       "      <th>Low</th>\n",
       "      <th>Close</th>\n",
       "      <th>Adj Close</th>\n",
       "      <th>Volume</th>\n",
       "    </tr>\n",
       "    <tr>\n",
       "      <th>Date</th>\n",
       "      <th></th>\n",
       "      <th></th>\n",
       "      <th></th>\n",
       "      <th></th>\n",
       "      <th></th>\n",
       "      <th></th>\n",
       "    </tr>\n",
       "  </thead>\n",
       "  <tbody>\n",
       "    <tr>\n",
       "      <th>2008-01-02</th>\n",
       "      <td>28.467142</td>\n",
       "      <td>28.608572</td>\n",
       "      <td>27.507143</td>\n",
       "      <td>27.834286</td>\n",
       "      <td>24.383644</td>\n",
       "      <td>269794688</td>\n",
       "    </tr>\n",
       "    <tr>\n",
       "      <th>2008-01-03</th>\n",
       "      <td>27.915714</td>\n",
       "      <td>28.198572</td>\n",
       "      <td>27.527143</td>\n",
       "      <td>27.847143</td>\n",
       "      <td>24.394909</td>\n",
       "      <td>210516608</td>\n",
       "    </tr>\n",
       "    <tr>\n",
       "      <th>2008-01-04</th>\n",
       "      <td>27.350000</td>\n",
       "      <td>27.571428</td>\n",
       "      <td>25.555714</td>\n",
       "      <td>25.721428</td>\n",
       "      <td>22.532711</td>\n",
       "      <td>363958016</td>\n",
       "    </tr>\n",
       "    <tr>\n",
       "      <th>2008-01-07</th>\n",
       "      <td>25.892857</td>\n",
       "      <td>26.228571</td>\n",
       "      <td>24.318571</td>\n",
       "      <td>25.377142</td>\n",
       "      <td>22.231115</td>\n",
       "      <td>518048288</td>\n",
       "    </tr>\n",
       "    <tr>\n",
       "      <th>2008-01-08</th>\n",
       "      <td>25.734285</td>\n",
       "      <td>26.065714</td>\n",
       "      <td>24.400000</td>\n",
       "      <td>24.464285</td>\n",
       "      <td>21.431419</td>\n",
       "      <td>380953984</td>\n",
       "    </tr>\n",
       "    <tr>\n",
       "      <th>2008-01-09</th>\n",
       "      <td>24.471428</td>\n",
       "      <td>25.642857</td>\n",
       "      <td>24.042856</td>\n",
       "      <td>25.628571</td>\n",
       "      <td>22.451372</td>\n",
       "      <td>453470496</td>\n",
       "    </tr>\n",
       "    <tr>\n",
       "      <th>2008-01-10</th>\n",
       "      <td>25.368572</td>\n",
       "      <td>25.857143</td>\n",
       "      <td>25.058571</td>\n",
       "      <td>25.431429</td>\n",
       "      <td>22.278667</td>\n",
       "      <td>370743808</td>\n",
       "    </tr>\n",
       "    <tr>\n",
       "      <th>2008-01-11</th>\n",
       "      <td>25.142857</td>\n",
       "      <td>25.407143</td>\n",
       "      <td>24.285715</td>\n",
       "      <td>24.670000</td>\n",
       "      <td>21.611633</td>\n",
       "      <td>308071392</td>\n",
       "    </tr>\n",
       "    <tr>\n",
       "      <th>2008-01-14</th>\n",
       "      <td>25.360001</td>\n",
       "      <td>25.631428</td>\n",
       "      <td>25.024286</td>\n",
       "      <td>25.540001</td>\n",
       "      <td>22.373783</td>\n",
       "      <td>275112608</td>\n",
       "    </tr>\n",
       "    <tr>\n",
       "      <th>2008-01-15</th>\n",
       "      <td>25.388571</td>\n",
       "      <td>25.602858</td>\n",
       "      <td>23.522858</td>\n",
       "      <td>24.148571</td>\n",
       "      <td>21.154844</td>\n",
       "      <td>585819520</td>\n",
       "    </tr>\n",
       "    <tr>\n",
       "      <th>2008-01-16</th>\n",
       "      <td>23.604286</td>\n",
       "      <td>24.144285</td>\n",
       "      <td>22.385714</td>\n",
       "      <td>22.805714</td>\n",
       "      <td>19.978466</td>\n",
       "      <td>553461312</td>\n",
       "    </tr>\n",
       "    <tr>\n",
       "      <th>2008-01-17</th>\n",
       "      <td>23.072857</td>\n",
       "      <td>23.622858</td>\n",
       "      <td>22.631428</td>\n",
       "      <td>22.984285</td>\n",
       "      <td>20.134907</td>\n",
       "      <td>439464896</td>\n",
       "    </tr>\n",
       "    <tr>\n",
       "      <th>2008-01-18</th>\n",
       "      <td>23.101429</td>\n",
       "      <td>23.678572</td>\n",
       "      <td>22.801428</td>\n",
       "      <td>23.051428</td>\n",
       "      <td>20.193722</td>\n",
       "      <td>431085888</td>\n",
       "    </tr>\n",
       "    <tr>\n",
       "      <th>2008-01-22</th>\n",
       "      <td>21.151428</td>\n",
       "      <td>22.854286</td>\n",
       "      <td>20.857143</td>\n",
       "      <td>22.234285</td>\n",
       "      <td>19.477880</td>\n",
       "      <td>608688512</td>\n",
       "    </tr>\n",
       "    <tr>\n",
       "      <th>2008-01-23</th>\n",
       "      <td>19.455715</td>\n",
       "      <td>20.000000</td>\n",
       "      <td>18.020000</td>\n",
       "      <td>19.867144</td>\n",
       "      <td>17.404198</td>\n",
       "      <td>843242368</td>\n",
       "    </tr>\n",
       "    <tr>\n",
       "      <th>2008-01-24</th>\n",
       "      <td>19.998571</td>\n",
       "      <td>20.100000</td>\n",
       "      <td>18.858572</td>\n",
       "      <td>19.371429</td>\n",
       "      <td>16.969934</td>\n",
       "      <td>501466688</td>\n",
       "    </tr>\n",
       "    <tr>\n",
       "      <th>2008-01-25</th>\n",
       "      <td>19.855715</td>\n",
       "      <td>19.870001</td>\n",
       "      <td>18.515715</td>\n",
       "      <td>18.572857</td>\n",
       "      <td>16.270361</td>\n",
       "      <td>388684800</td>\n",
       "    </tr>\n",
       "    <tr>\n",
       "      <th>2008-01-28</th>\n",
       "      <td>18.308571</td>\n",
       "      <td>19.028572</td>\n",
       "      <td>18.064285</td>\n",
       "      <td>18.572857</td>\n",
       "      <td>16.270361</td>\n",
       "      <td>368711008</td>\n",
       "    </tr>\n",
       "    <tr>\n",
       "      <th>2008-01-29</th>\n",
       "      <td>18.735714</td>\n",
       "      <td>18.969999</td>\n",
       "      <td>18.435715</td>\n",
       "      <td>18.791430</td>\n",
       "      <td>16.461838</td>\n",
       "      <td>274995712</td>\n",
       "    </tr>\n",
       "    <tr>\n",
       "      <th>2008-01-30</th>\n",
       "      <td>18.767143</td>\n",
       "      <td>19.350000</td>\n",
       "      <td>18.571428</td>\n",
       "      <td>18.882856</td>\n",
       "      <td>16.541931</td>\n",
       "      <td>310762912</td>\n",
       "    </tr>\n",
       "    <tr>\n",
       "      <th>2008-01-31</th>\n",
       "      <td>18.492857</td>\n",
       "      <td>19.521429</td>\n",
       "      <td>18.485714</td>\n",
       "      <td>19.337143</td>\n",
       "      <td>16.939903</td>\n",
       "      <td>336418592</td>\n",
       "    </tr>\n",
       "    <tr>\n",
       "      <th>2008-02-01</th>\n",
       "      <td>19.462856</td>\n",
       "      <td>19.512857</td>\n",
       "      <td>18.882856</td>\n",
       "      <td>19.107143</td>\n",
       "      <td>16.738411</td>\n",
       "      <td>252686000</td>\n",
       "    </tr>\n",
       "    <tr>\n",
       "      <th>2008-02-04</th>\n",
       "      <td>19.172857</td>\n",
       "      <td>19.414286</td>\n",
       "      <td>18.774286</td>\n",
       "      <td>18.807142</td>\n",
       "      <td>16.475605</td>\n",
       "      <td>224808496</td>\n",
       "    </tr>\n",
       "    <tr>\n",
       "      <th>2008-02-05</th>\n",
       "      <td>18.632856</td>\n",
       "      <td>19.142857</td>\n",
       "      <td>18.414286</td>\n",
       "      <td>18.480000</td>\n",
       "      <td>16.189018</td>\n",
       "      <td>285260512</td>\n",
       "    </tr>\n",
       "    <tr>\n",
       "      <th>2008-02-06</th>\n",
       "      <td>18.690001</td>\n",
       "      <td>18.845715</td>\n",
       "      <td>17.395714</td>\n",
       "      <td>17.428572</td>\n",
       "      <td>15.267937</td>\n",
       "      <td>393318112</td>\n",
       "    </tr>\n",
       "    <tr>\n",
       "      <th>2008-02-07</th>\n",
       "      <td>17.138571</td>\n",
       "      <td>17.825714</td>\n",
       "      <td>16.752857</td>\n",
       "      <td>17.320000</td>\n",
       "      <td>15.172824</td>\n",
       "      <td>520832896</td>\n",
       "    </tr>\n",
       "    <tr>\n",
       "      <th>2008-02-08</th>\n",
       "      <td>17.440001</td>\n",
       "      <td>17.957144</td>\n",
       "      <td>17.371429</td>\n",
       "      <td>17.925714</td>\n",
       "      <td>15.703448</td>\n",
       "      <td>338993216</td>\n",
       "    </tr>\n",
       "    <tr>\n",
       "      <th>2008-02-11</th>\n",
       "      <td>18.287144</td>\n",
       "      <td>18.568571</td>\n",
       "      <td>18.171429</td>\n",
       "      <td>18.492857</td>\n",
       "      <td>16.200283</td>\n",
       "      <td>300358112</td>\n",
       "    </tr>\n",
       "    <tr>\n",
       "      <th>2008-02-12</th>\n",
       "      <td>18.671429</td>\n",
       "      <td>18.714285</td>\n",
       "      <td>17.660000</td>\n",
       "      <td>17.837143</td>\n",
       "      <td>15.625856</td>\n",
       "      <td>306495008</td>\n",
       "    </tr>\n",
       "    <tr>\n",
       "      <th>2008-02-13</th>\n",
       "      <td>18.097143</td>\n",
       "      <td>18.540001</td>\n",
       "      <td>17.947144</td>\n",
       "      <td>18.485714</td>\n",
       "      <td>16.194025</td>\n",
       "      <td>242133504</td>\n",
       "    </tr>\n",
       "    <tr>\n",
       "      <th>...</th>\n",
       "      <td>...</td>\n",
       "      <td>...</td>\n",
       "      <td>...</td>\n",
       "      <td>...</td>\n",
       "      <td>...</td>\n",
       "      <td>...</td>\n",
       "    </tr>\n",
       "    <tr>\n",
       "      <th>2017-11-16</th>\n",
       "      <td>171.179993</td>\n",
       "      <td>171.869995</td>\n",
       "      <td>170.300003</td>\n",
       "      <td>171.100006</td>\n",
       "      <td>167.205475</td>\n",
       "      <td>23637500</td>\n",
       "    </tr>\n",
       "    <tr>\n",
       "      <th>2017-11-17</th>\n",
       "      <td>171.039993</td>\n",
       "      <td>171.389999</td>\n",
       "      <td>169.639999</td>\n",
       "      <td>170.149994</td>\n",
       "      <td>166.277084</td>\n",
       "      <td>21899500</td>\n",
       "    </tr>\n",
       "    <tr>\n",
       "      <th>2017-11-20</th>\n",
       "      <td>170.289993</td>\n",
       "      <td>170.559998</td>\n",
       "      <td>169.559998</td>\n",
       "      <td>169.979996</td>\n",
       "      <td>166.110947</td>\n",
       "      <td>16262400</td>\n",
       "    </tr>\n",
       "    <tr>\n",
       "      <th>2017-11-21</th>\n",
       "      <td>170.779999</td>\n",
       "      <td>173.699997</td>\n",
       "      <td>170.779999</td>\n",
       "      <td>173.139999</td>\n",
       "      <td>169.199020</td>\n",
       "      <td>25131300</td>\n",
       "    </tr>\n",
       "    <tr>\n",
       "      <th>2017-11-22</th>\n",
       "      <td>173.360001</td>\n",
       "      <td>175.000000</td>\n",
       "      <td>173.050003</td>\n",
       "      <td>174.960007</td>\n",
       "      <td>170.977585</td>\n",
       "      <td>25588900</td>\n",
       "    </tr>\n",
       "    <tr>\n",
       "      <th>2017-11-24</th>\n",
       "      <td>175.100006</td>\n",
       "      <td>175.500000</td>\n",
       "      <td>174.649994</td>\n",
       "      <td>174.970001</td>\n",
       "      <td>170.987366</td>\n",
       "      <td>14026700</td>\n",
       "    </tr>\n",
       "    <tr>\n",
       "      <th>2017-11-27</th>\n",
       "      <td>175.050003</td>\n",
       "      <td>175.080002</td>\n",
       "      <td>173.339996</td>\n",
       "      <td>174.089996</td>\n",
       "      <td>170.127380</td>\n",
       "      <td>20716800</td>\n",
       "    </tr>\n",
       "    <tr>\n",
       "      <th>2017-11-28</th>\n",
       "      <td>174.300003</td>\n",
       "      <td>174.869995</td>\n",
       "      <td>171.860001</td>\n",
       "      <td>173.070007</td>\n",
       "      <td>169.130630</td>\n",
       "      <td>26428800</td>\n",
       "    </tr>\n",
       "    <tr>\n",
       "      <th>2017-11-29</th>\n",
       "      <td>172.630005</td>\n",
       "      <td>172.919998</td>\n",
       "      <td>167.160004</td>\n",
       "      <td>169.479996</td>\n",
       "      <td>165.622330</td>\n",
       "      <td>41666400</td>\n",
       "    </tr>\n",
       "    <tr>\n",
       "      <th>2017-11-30</th>\n",
       "      <td>170.429993</td>\n",
       "      <td>172.139999</td>\n",
       "      <td>168.440002</td>\n",
       "      <td>171.850006</td>\n",
       "      <td>167.938385</td>\n",
       "      <td>41527200</td>\n",
       "    </tr>\n",
       "    <tr>\n",
       "      <th>2017-12-01</th>\n",
       "      <td>169.949997</td>\n",
       "      <td>171.669998</td>\n",
       "      <td>168.500000</td>\n",
       "      <td>171.050003</td>\n",
       "      <td>167.156601</td>\n",
       "      <td>39759300</td>\n",
       "    </tr>\n",
       "    <tr>\n",
       "      <th>2017-12-04</th>\n",
       "      <td>172.479996</td>\n",
       "      <td>172.619995</td>\n",
       "      <td>169.630005</td>\n",
       "      <td>169.800003</td>\n",
       "      <td>165.935043</td>\n",
       "      <td>32542400</td>\n",
       "    </tr>\n",
       "    <tr>\n",
       "      <th>2017-12-05</th>\n",
       "      <td>169.059998</td>\n",
       "      <td>171.520004</td>\n",
       "      <td>168.399994</td>\n",
       "      <td>169.639999</td>\n",
       "      <td>165.778687</td>\n",
       "      <td>27350200</td>\n",
       "    </tr>\n",
       "    <tr>\n",
       "      <th>2017-12-06</th>\n",
       "      <td>167.500000</td>\n",
       "      <td>170.199997</td>\n",
       "      <td>166.460007</td>\n",
       "      <td>169.009995</td>\n",
       "      <td>165.163025</td>\n",
       "      <td>28560000</td>\n",
       "    </tr>\n",
       "    <tr>\n",
       "      <th>2017-12-07</th>\n",
       "      <td>169.029999</td>\n",
       "      <td>170.440002</td>\n",
       "      <td>168.910004</td>\n",
       "      <td>169.320007</td>\n",
       "      <td>165.465988</td>\n",
       "      <td>25673300</td>\n",
       "    </tr>\n",
       "    <tr>\n",
       "      <th>2017-12-08</th>\n",
       "      <td>170.490005</td>\n",
       "      <td>171.000000</td>\n",
       "      <td>168.820007</td>\n",
       "      <td>169.369995</td>\n",
       "      <td>165.514832</td>\n",
       "      <td>23355200</td>\n",
       "    </tr>\n",
       "    <tr>\n",
       "      <th>2017-12-11</th>\n",
       "      <td>169.199997</td>\n",
       "      <td>172.889999</td>\n",
       "      <td>168.789993</td>\n",
       "      <td>172.669998</td>\n",
       "      <td>168.739731</td>\n",
       "      <td>35273800</td>\n",
       "    </tr>\n",
       "    <tr>\n",
       "      <th>2017-12-12</th>\n",
       "      <td>172.149994</td>\n",
       "      <td>172.389999</td>\n",
       "      <td>171.460007</td>\n",
       "      <td>171.699997</td>\n",
       "      <td>167.791794</td>\n",
       "      <td>19409200</td>\n",
       "    </tr>\n",
       "    <tr>\n",
       "      <th>2017-12-13</th>\n",
       "      <td>172.500000</td>\n",
       "      <td>173.539993</td>\n",
       "      <td>172.000000</td>\n",
       "      <td>172.270004</td>\n",
       "      <td>168.348831</td>\n",
       "      <td>23818400</td>\n",
       "    </tr>\n",
       "    <tr>\n",
       "      <th>2017-12-14</th>\n",
       "      <td>172.399994</td>\n",
       "      <td>173.130005</td>\n",
       "      <td>171.649994</td>\n",
       "      <td>172.220001</td>\n",
       "      <td>168.299973</td>\n",
       "      <td>20476500</td>\n",
       "    </tr>\n",
       "    <tr>\n",
       "      <th>2017-12-15</th>\n",
       "      <td>173.630005</td>\n",
       "      <td>174.169998</td>\n",
       "      <td>172.460007</td>\n",
       "      <td>173.970001</td>\n",
       "      <td>170.010132</td>\n",
       "      <td>40169300</td>\n",
       "    </tr>\n",
       "    <tr>\n",
       "      <th>2017-12-18</th>\n",
       "      <td>174.880005</td>\n",
       "      <td>177.199997</td>\n",
       "      <td>174.860001</td>\n",
       "      <td>176.419998</td>\n",
       "      <td>172.404373</td>\n",
       "      <td>29421100</td>\n",
       "    </tr>\n",
       "    <tr>\n",
       "      <th>2017-12-19</th>\n",
       "      <td>175.029999</td>\n",
       "      <td>175.389999</td>\n",
       "      <td>174.089996</td>\n",
       "      <td>174.539993</td>\n",
       "      <td>170.567154</td>\n",
       "      <td>27436400</td>\n",
       "    </tr>\n",
       "    <tr>\n",
       "      <th>2017-12-20</th>\n",
       "      <td>174.869995</td>\n",
       "      <td>175.419998</td>\n",
       "      <td>173.250000</td>\n",
       "      <td>174.350006</td>\n",
       "      <td>170.381485</td>\n",
       "      <td>23475600</td>\n",
       "    </tr>\n",
       "    <tr>\n",
       "      <th>2017-12-21</th>\n",
       "      <td>174.169998</td>\n",
       "      <td>176.020004</td>\n",
       "      <td>174.100006</td>\n",
       "      <td>175.009995</td>\n",
       "      <td>171.026459</td>\n",
       "      <td>20949900</td>\n",
       "    </tr>\n",
       "    <tr>\n",
       "      <th>2017-12-22</th>\n",
       "      <td>174.679993</td>\n",
       "      <td>175.419998</td>\n",
       "      <td>174.500000</td>\n",
       "      <td>175.009995</td>\n",
       "      <td>171.026459</td>\n",
       "      <td>16349400</td>\n",
       "    </tr>\n",
       "    <tr>\n",
       "      <th>2017-12-26</th>\n",
       "      <td>170.800003</td>\n",
       "      <td>171.470001</td>\n",
       "      <td>169.679993</td>\n",
       "      <td>170.570007</td>\n",
       "      <td>166.687531</td>\n",
       "      <td>33185500</td>\n",
       "    </tr>\n",
       "    <tr>\n",
       "      <th>2017-12-27</th>\n",
       "      <td>170.100006</td>\n",
       "      <td>170.779999</td>\n",
       "      <td>169.710007</td>\n",
       "      <td>170.600006</td>\n",
       "      <td>166.716858</td>\n",
       "      <td>21498200</td>\n",
       "    </tr>\n",
       "    <tr>\n",
       "      <th>2017-12-28</th>\n",
       "      <td>171.000000</td>\n",
       "      <td>171.850006</td>\n",
       "      <td>170.479996</td>\n",
       "      <td>171.080002</td>\n",
       "      <td>167.185913</td>\n",
       "      <td>16480200</td>\n",
       "    </tr>\n",
       "    <tr>\n",
       "      <th>2017-12-29</th>\n",
       "      <td>170.520004</td>\n",
       "      <td>170.589996</td>\n",
       "      <td>169.220001</td>\n",
       "      <td>169.229996</td>\n",
       "      <td>165.378021</td>\n",
       "      <td>25999900</td>\n",
       "    </tr>\n",
       "  </tbody>\n",
       "</table>\n",
       "<p>2518 rows × 6 columns</p>\n",
       "</div>"
      ],
      "text/plain": [
       "                  Open        High         Low       Close   Adj Close  \\\n",
       "Date                                                                     \n",
       "2008-01-02   28.467142   28.608572   27.507143   27.834286   24.383644   \n",
       "2008-01-03   27.915714   28.198572   27.527143   27.847143   24.394909   \n",
       "2008-01-04   27.350000   27.571428   25.555714   25.721428   22.532711   \n",
       "2008-01-07   25.892857   26.228571   24.318571   25.377142   22.231115   \n",
       "2008-01-08   25.734285   26.065714   24.400000   24.464285   21.431419   \n",
       "2008-01-09   24.471428   25.642857   24.042856   25.628571   22.451372   \n",
       "2008-01-10   25.368572   25.857143   25.058571   25.431429   22.278667   \n",
       "2008-01-11   25.142857   25.407143   24.285715   24.670000   21.611633   \n",
       "2008-01-14   25.360001   25.631428   25.024286   25.540001   22.373783   \n",
       "2008-01-15   25.388571   25.602858   23.522858   24.148571   21.154844   \n",
       "2008-01-16   23.604286   24.144285   22.385714   22.805714   19.978466   \n",
       "2008-01-17   23.072857   23.622858   22.631428   22.984285   20.134907   \n",
       "2008-01-18   23.101429   23.678572   22.801428   23.051428   20.193722   \n",
       "2008-01-22   21.151428   22.854286   20.857143   22.234285   19.477880   \n",
       "2008-01-23   19.455715   20.000000   18.020000   19.867144   17.404198   \n",
       "2008-01-24   19.998571   20.100000   18.858572   19.371429   16.969934   \n",
       "2008-01-25   19.855715   19.870001   18.515715   18.572857   16.270361   \n",
       "2008-01-28   18.308571   19.028572   18.064285   18.572857   16.270361   \n",
       "2008-01-29   18.735714   18.969999   18.435715   18.791430   16.461838   \n",
       "2008-01-30   18.767143   19.350000   18.571428   18.882856   16.541931   \n",
       "2008-01-31   18.492857   19.521429   18.485714   19.337143   16.939903   \n",
       "2008-02-01   19.462856   19.512857   18.882856   19.107143   16.738411   \n",
       "2008-02-04   19.172857   19.414286   18.774286   18.807142   16.475605   \n",
       "2008-02-05   18.632856   19.142857   18.414286   18.480000   16.189018   \n",
       "2008-02-06   18.690001   18.845715   17.395714   17.428572   15.267937   \n",
       "2008-02-07   17.138571   17.825714   16.752857   17.320000   15.172824   \n",
       "2008-02-08   17.440001   17.957144   17.371429   17.925714   15.703448   \n",
       "2008-02-11   18.287144   18.568571   18.171429   18.492857   16.200283   \n",
       "2008-02-12   18.671429   18.714285   17.660000   17.837143   15.625856   \n",
       "2008-02-13   18.097143   18.540001   17.947144   18.485714   16.194025   \n",
       "...                ...         ...         ...         ...         ...   \n",
       "2017-11-16  171.179993  171.869995  170.300003  171.100006  167.205475   \n",
       "2017-11-17  171.039993  171.389999  169.639999  170.149994  166.277084   \n",
       "2017-11-20  170.289993  170.559998  169.559998  169.979996  166.110947   \n",
       "2017-11-21  170.779999  173.699997  170.779999  173.139999  169.199020   \n",
       "2017-11-22  173.360001  175.000000  173.050003  174.960007  170.977585   \n",
       "2017-11-24  175.100006  175.500000  174.649994  174.970001  170.987366   \n",
       "2017-11-27  175.050003  175.080002  173.339996  174.089996  170.127380   \n",
       "2017-11-28  174.300003  174.869995  171.860001  173.070007  169.130630   \n",
       "2017-11-29  172.630005  172.919998  167.160004  169.479996  165.622330   \n",
       "2017-11-30  170.429993  172.139999  168.440002  171.850006  167.938385   \n",
       "2017-12-01  169.949997  171.669998  168.500000  171.050003  167.156601   \n",
       "2017-12-04  172.479996  172.619995  169.630005  169.800003  165.935043   \n",
       "2017-12-05  169.059998  171.520004  168.399994  169.639999  165.778687   \n",
       "2017-12-06  167.500000  170.199997  166.460007  169.009995  165.163025   \n",
       "2017-12-07  169.029999  170.440002  168.910004  169.320007  165.465988   \n",
       "2017-12-08  170.490005  171.000000  168.820007  169.369995  165.514832   \n",
       "2017-12-11  169.199997  172.889999  168.789993  172.669998  168.739731   \n",
       "2017-12-12  172.149994  172.389999  171.460007  171.699997  167.791794   \n",
       "2017-12-13  172.500000  173.539993  172.000000  172.270004  168.348831   \n",
       "2017-12-14  172.399994  173.130005  171.649994  172.220001  168.299973   \n",
       "2017-12-15  173.630005  174.169998  172.460007  173.970001  170.010132   \n",
       "2017-12-18  174.880005  177.199997  174.860001  176.419998  172.404373   \n",
       "2017-12-19  175.029999  175.389999  174.089996  174.539993  170.567154   \n",
       "2017-12-20  174.869995  175.419998  173.250000  174.350006  170.381485   \n",
       "2017-12-21  174.169998  176.020004  174.100006  175.009995  171.026459   \n",
       "2017-12-22  174.679993  175.419998  174.500000  175.009995  171.026459   \n",
       "2017-12-26  170.800003  171.470001  169.679993  170.570007  166.687531   \n",
       "2017-12-27  170.100006  170.779999  169.710007  170.600006  166.716858   \n",
       "2017-12-28  171.000000  171.850006  170.479996  171.080002  167.185913   \n",
       "2017-12-29  170.520004  170.589996  169.220001  169.229996  165.378021   \n",
       "\n",
       "               Volume  \n",
       "Date                   \n",
       "2008-01-02  269794688  \n",
       "2008-01-03  210516608  \n",
       "2008-01-04  363958016  \n",
       "2008-01-07  518048288  \n",
       "2008-01-08  380953984  \n",
       "2008-01-09  453470496  \n",
       "2008-01-10  370743808  \n",
       "2008-01-11  308071392  \n",
       "2008-01-14  275112608  \n",
       "2008-01-15  585819520  \n",
       "2008-01-16  553461312  \n",
       "2008-01-17  439464896  \n",
       "2008-01-18  431085888  \n",
       "2008-01-22  608688512  \n",
       "2008-01-23  843242368  \n",
       "2008-01-24  501466688  \n",
       "2008-01-25  388684800  \n",
       "2008-01-28  368711008  \n",
       "2008-01-29  274995712  \n",
       "2008-01-30  310762912  \n",
       "2008-01-31  336418592  \n",
       "2008-02-01  252686000  \n",
       "2008-02-04  224808496  \n",
       "2008-02-05  285260512  \n",
       "2008-02-06  393318112  \n",
       "2008-02-07  520832896  \n",
       "2008-02-08  338993216  \n",
       "2008-02-11  300358112  \n",
       "2008-02-12  306495008  \n",
       "2008-02-13  242133504  \n",
       "...               ...  \n",
       "2017-11-16   23637500  \n",
       "2017-11-17   21899500  \n",
       "2017-11-20   16262400  \n",
       "2017-11-21   25131300  \n",
       "2017-11-22   25588900  \n",
       "2017-11-24   14026700  \n",
       "2017-11-27   20716800  \n",
       "2017-11-28   26428800  \n",
       "2017-11-29   41666400  \n",
       "2017-11-30   41527200  \n",
       "2017-12-01   39759300  \n",
       "2017-12-04   32542400  \n",
       "2017-12-05   27350200  \n",
       "2017-12-06   28560000  \n",
       "2017-12-07   25673300  \n",
       "2017-12-08   23355200  \n",
       "2017-12-11   35273800  \n",
       "2017-12-12   19409200  \n",
       "2017-12-13   23818400  \n",
       "2017-12-14   20476500  \n",
       "2017-12-15   40169300  \n",
       "2017-12-18   29421100  \n",
       "2017-12-19   27436400  \n",
       "2017-12-20   23475600  \n",
       "2017-12-21   20949900  \n",
       "2017-12-22   16349400  \n",
       "2017-12-26   33185500  \n",
       "2017-12-27   21498200  \n",
       "2017-12-28   16480200  \n",
       "2017-12-29   25999900  \n",
       "\n",
       "[2518 rows x 6 columns]"
      ]
     },
     "execution_count": 6,
     "metadata": {},
     "output_type": "execute_result"
    }
   ],
   "source": [
    "AAPL.data"
   ]
  },
  {
   "cell_type": "code",
   "execution_count": 5,
   "metadata": {},
   "outputs": [
    {
     "data": {
      "text/plain": [
       "Timestamp('2017-12-29 00:00:00')"
      ]
     },
     "execution_count": 5,
     "metadata": {},
     "output_type": "execute_result"
    }
   ],
   "source": [
    "AAPL.data.index.max()"
   ]
  },
  {
   "cell_type": "code",
   "execution_count": null,
   "metadata": {
    "scrolled": false
   },
   "outputs": [],
   "source": [
    "plot_candlestick(security=AAPL, \n",
    "                 open_col='Open',\n",
    "                 close_col='Close',\n",
    "                 high_col='High',\n",
    "                 low_col='Low',\n",
    "                 ndays=100,\n",
    "                 heikin=False\n",
    "                )"
   ]
  },
  {
   "cell_type": "code",
   "execution_count": null,
   "metadata": {},
   "outputs": [],
   "source": []
  },
  {
   "cell_type": "code",
   "execution_count": null,
   "metadata": {},
   "outputs": [],
   "source": []
  },
  {
   "cell_type": "markdown",
   "metadata": {},
   "source": [
    "### Heikin-Ashi candlestick plot"
   ]
  },
  {
   "cell_type": "code",
   "execution_count": null,
   "metadata": {},
   "outputs": [],
   "source": [
    "plot_candlestick(security=AAPL, \n",
    "                 open_col='Open',\n",
    "                 close_col='Close',\n",
    "                 high_col='High',\n",
    "                 low_col='Low',\n",
    "                 ndays=100,\n",
    "                 heikin=True\n",
    "                )"
   ]
  },
  {
   "cell_type": "code",
   "execution_count": null,
   "metadata": {},
   "outputs": [],
   "source": []
  },
  {
   "cell_type": "code",
   "execution_count": null,
   "metadata": {},
   "outputs": [],
   "source": []
  },
  {
   "cell_type": "markdown",
   "metadata": {},
   "source": [
    "## Get Treasury Yield Curve rates"
   ]
  },
  {
   "cell_type": "code",
   "execution_count": null,
   "metadata": {},
   "outputs": [],
   "source": [
    "df = retrieve_treasury_yield_curve_rates(startdate='20010101', enddate='20190105')"
   ]
  },
  {
   "cell_type": "code",
   "execution_count": 29,
   "metadata": {
    "scrolled": true
   },
   "outputs": [
    {
     "name": "stdout",
     "output_type": "stream",
     "text": [
      "Checking ../data/UST.csv\n",
      "Saving ../data/UST.csv\n"
     ]
    }
   ],
   "source": [
    "UST = et.Treasury(name='UST', start='2001-01-01')"
   ]
  },
  {
   "cell_type": "code",
   "execution_count": 30,
   "metadata": {},
   "outputs": [
    {
     "data": {
      "image/png": "[encoded data removed]",
      "text/plain": [
       "<Figure size 432x288 with 1 Axes>"
      ]
     },
     "metadata": {},
     "output_type": "display_data"
    }
   ],
   "source": [
    "plt.plot(UST.data.index, UST.data['3 mo'])\n",
    "plt.plot(UST.data.index, UST.data['1 yr'])\n",
    "plt.legend()\n",
    "plt.ylabel('')\n",
    "plt.title('U.S. Treasuries yield rates [%]', loc='left', fontsize=12)\n",
    "sns.despine(offset=10)\n",
    "plt.tight_layout()"
   ]
  },
  {
   "cell_type": "code",
   "execution_count": 31,
   "metadata": {},
   "outputs": [
    {
     "data": {
      "image/png": "[encoded data removed]",
      "text/plain": [
       "<Figure size 432x288 with 1 Axes>"
      ]
     },
     "metadata": {},
     "output_type": "display_data"
    }
   ],
   "source": [
    "plt.plot(UST.data.index, UST.data['3 mo']/UST.data['1 yr'])\n",
    "plt.hlines([1], xmin=UST.data.index.min(), xmax=UST.data.index.max(), linestyles='--')\n",
    "plt.ylabel('')\n",
    "plt.title('Ratio of U.S. Treasuries yield rates 3 mo / 1 yr', loc='left', fontsize=12)\n",
    "sns.despine(offset=10)\n",
    "plt.tight_layout()\n"
   ]
  },
  {
   "cell_type": "code",
   "execution_count": null,
   "metadata": {},
   "outputs": [],
   "source": []
  },
  {
   "cell_type": "code",
   "execution_count": null,
   "metadata": {},
   "outputs": [],
   "source": []
  },
  {
   "cell_type": "markdown",
   "metadata": {},
   "source": [
    "## Portfolios"
   ]
  },
  {
   "cell_type": "code",
   "execution_count": 7,
   "metadata": {},
   "outputs": [],
   "source": [
    "from etfs.portfolio.io import import_portfolio"
   ]
  },
  {
   "cell_type": "code",
   "execution_count": 29,
   "metadata": {},
   "outputs": [],
   "source": [
    "test = et.Portfolio(name=\"test portfolio\")"
   ]
  },
  {
   "cell_type": "code",
   "execution_count": 30,
   "metadata": {
    "scrolled": false
   },
   "outputs": [
    {
     "name": "stdout",
     "output_type": "stream",
     "text": [
      "Reading in ../data/portfolio_test.csv\n",
      "depositing 1000.00 USD (new balance: 1000.00 USD)\n",
      "Checking ../data/VOO.csv\n",
      "Saving ../data/VOO.csv\n",
      "Checking ../data/VOO.csv\n",
      "Saving ../data/VOO.csv\n",
      "buying 3.00 VOO (new balance: 196.27 USD)\n",
      "Checking ../data/VO.csv\n",
      "Saving ../data/VO.csv\n",
      "Checking ../data/VO.csv\n",
      "Saving ../data/VO.csv\n",
      "buying 4.00 VO (new balance: -387.37 USD)\n",
      "dividend VOO 5.92 USD (new balance: -381.45 USD)\n",
      "selling 2.00 VO (new balance: -87.63 USD)\n",
      "selling 1.00 VO (new balance: 60.26 USD)\n",
      "dividend VO 0.92 USD (new balance: 61.16 USD)\n",
      "selling 1.00 VOO (new balance: 427.18 USD)\n",
      "depositing 1000.00 USD (new balance: 1427.16 USD)\n",
      "Checking ../data/VNQ.csv\n",
      "Saving ../data/VNQ.csv\n",
      "Checking ../data/VNQ.csv\n",
      "Saving ../data/VNQ.csv\n",
      "buying 10.00 VNQ (new balance: 227.06 USD)\n",
      "selling 5.00 VNQ (new balance: 892.26 USD)\n"
     ]
    }
   ],
   "source": [
    "test = import_portfolio(path=\"../data/portfolio_test.csv\", name=\"Test Portfolio\")"
   ]
  },
  {
   "cell_type": "code",
   "execution_count": 31,
   "metadata": {
    "scrolled": true
   },
   "outputs": [
    {
     "name": "stdout",
     "output_type": "stream",
     "text": [
      "        Quantity  AvgPriceAll  AvgPriceFiFo  AvgPriceLiFo  AvgPrice  \\\n",
      "Ticker                                                                \n",
      "VNQ          5.0       120.01        120.01        120.01   106.980   \n",
      "VO           1.0       145.91        145.91        145.91   141.910   \n",
      "VOO          2.0       267.91        267.91        267.91   218.855   \n",
      "\n",
      "         LastPrice  TradeValue  CurrentValue  Dividends      Return  \\\n",
      "Ticker                                                                \n",
      "VNQ      87.400002      534.90    437.000008       0.00  -97.899992   \n",
      "VO      167.160004      141.91    167.160004       0.92   26.170004   \n",
      "VOO     269.149994      437.71    538.299988       5.92  106.509988   \n",
      "\n",
      "                                       Description  \n",
      "Ticker                                              \n",
      "VNQ     Vanguard Real Estate Index Fund ETF Shares  \n",
      "VO          Vanguard Mid-Cap Index Fund ETF Shares  \n",
      "VOO                           Vanguard S&P 500 ETF  \n",
      "\n",
      "Total portfolio value:\t 2034.72 USD\n",
      "Total security value:\t 1142.46 USD\n",
      "Cash in wallet:\t\t  892.26 USD\n",
      "Total return:\t\t   34.72 USD\t(1.71%)\n"
     ]
    }
   ],
   "source": [
    "test.overview()"
   ]
  },
  {
   "cell_type": "code",
   "execution_count": 32,
   "metadata": {
    "scrolled": true
   },
   "outputs": [
    {
     "name": "stdout",
     "output_type": "stream",
     "text": [
      "        Quantity  Bought  Sold  CurrentValue  Invested  Devested  Dividends  \\\n",
      "Ticker                                                                        \n",
      "VOO          2.0     3.0  -1.0    538.299988    803.73   -366.02       5.92   \n",
      "VNQ          5.0    10.0  -5.0    437.000008   1200.10   -665.20       0.00   \n",
      "VO           1.0     4.0  -3.0    167.160004    583.64   -441.73       0.92   \n",
      "\n",
      "            Return  PercentGrowth                                 Description  \n",
      "Ticker                                                                         \n",
      "VOO     106.509988      13.251961                        Vanguard S&P 500 ETF  \n",
      "VNQ     -97.899992      -8.157653  Vanguard Real Estate Index Fund ETF Shares  \n",
      "VO       26.170004       4.483929      Vanguard Mid-Cap Index Fund ETF Shares  \n"
     ]
    }
   ],
   "source": [
    "test.positions()"
   ]
  },
  {
   "cell_type": "code",
   "execution_count": 33,
   "metadata": {},
   "outputs": [],
   "source": [
    "test.get_timeseries()"
   ]
  },
  {
   "cell_type": "code",
   "execution_count": 34,
   "metadata": {
    "scrolled": true
   },
   "outputs": [
    {
     "data": {
      "text/plain": [
       "<matplotlib.axes._subplots.AxesSubplot at 0x1a1d015080>"
      ]
     },
     "execution_count": 34,
     "metadata": {},
     "output_type": "execute_result"
    },
    {
     "data": {
      "image/png": "[encoded data removed]",
      "text/plain": [
       "<Figure size 432x288 with 1 Axes>"
      ]
     },
     "metadata": {},
     "output_type": "display_data"
    }
   ],
   "source": [
    "test.data_growth.plot(y='Growth')"
   ]
  },
  {
   "cell_type": "code",
   "execution_count": null,
   "metadata": {},
   "outputs": [],
   "source": []
  },
  {
   "cell_type": "code",
   "execution_count": 28,
   "metadata": {},
   "outputs": [
    {
     "data": {
      "text/plain": [
       "Total              1955.720003\n",
       "Total_deposited    2000.000000\n",
       "Growth                0.977860\n",
       "Name: 2018-06-04 00:00:00, dtype: float64"
      ]
     },
     "execution_count": 28,
     "metadata": {},
     "output_type": "execute_result"
    }
   ],
   "source": [
    "test.data_growth.loc['2018-06-4', :]"
   ]
  },
  {
   "cell_type": "code",
   "execution_count": null,
   "metadata": {},
   "outputs": [],
   "source": []
  }
 ],
 "metadata": {
  "kernelspec": {
   "display_name": "Python 3",
   "language": "python",
   "name": "python3"
  },
  "language_info": {
   "codemirror_mode": {
    "name": "ipython",
    "version": 3
   },
   "file_extension": ".py",
   "mimetype": "text/x-python",
   "name": "python",
   "nbconvert_exporter": "python",
   "pygments_lexer": "ipython3",
   "version": "3.6.5"
  }
 },
 "nbformat": 4,
 "nbformat_minor": 2
}

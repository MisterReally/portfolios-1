{
 "cells": [
  {
   "cell_type": "markdown",
   "metadata": {},
   "source": [
    "# Optimal portfolio"
   ]
  },
  {
   "cell_type": "markdown",
   "metadata": {},
   "source": [
    "1. Connect to RH,\n",
    "2. get securities, \n",
    "3. get value, \n",
    "4. calculate optimal portfolio, \n",
    "5. calculate diff, \n",
    "6. sell positions, \n",
    "7. buy positions, \n",
    "8. stop loss"
   ]
  },
  {
   "cell_type": "markdown",
   "metadata": {},
   "source": [
    "Things to try:\n",
    "\n",
    "- sample from large pool of securities, give equal weights, calculate sharpe ratio, maximize\n",
    "- same as above but with exponentially smoothed sharpe ratios\n",
    "- set stop loss to Close_ewm0.1_mean-1*Close_ewm0.1_std and initiate limit buy at Close_ewm0.1_mean\n",
    "\n",
    "Alternative:\n",
    "\n",
    "- take all V etfs, give random weights, calculate sharpe ratio, maximize\n"
   ]
  },
  {
   "cell_type": "code",
   "execution_count": 1,
   "metadata": {
    "scrolled": true
   },
   "outputs": [
    {
     "ename": "ModuleNotFoundError",
     "evalue": "No module named 'pulp'",
     "output_type": "error",
     "traceback": [
      "\u001b[0;31m---------------------------------------------------------------------------\u001b[0m",
      "\u001b[0;31mModuleNotFoundError\u001b[0m                       Traceback (most recent call last)",
      "\u001b[0;32m<ipython-input-1-a8a2163551b6>\u001b[0m in \u001b[0;36m<module>\u001b[0;34m()\u001b[0m\n\u001b[0;32m----> 1\u001b[0;31m \u001b[0;32mimport\u001b[0m \u001b[0mpulp\u001b[0m\u001b[0;34m\u001b[0m\u001b[0m\n\u001b[0m",
      "\u001b[0;31mModuleNotFoundError\u001b[0m: No module named 'pulp'"
     ]
    }
   ],
   "source": [
    "import pulp"
   ]
  },
  {
   "cell_type": "code",
   "execution_count": null,
   "metadata": {},
   "outputs": [],
   "source": [
    "def optimal_portfolio(df=None, price_col='Close'):\n",
    "\n",
    "    # Create variables for all players\n",
    "    QB_ID = df[df['Position'] == 'QB']['GID'].values.tolist()\n",
    "    TE_ID = df[df['Position'] == 'TE']['GID'].values.tolist()\n",
    "    RB_ID = df[df['Position'] == 'RB']['GID'].values.tolist()\n",
    "    WR_ID = df[df['Position'] == 'WR']['GID'].values.tolist()\n",
    "    DST_ID = df[df['Position'] == 'DST']['GID'].values.tolist()\n",
    "    POS_ID = QB_ID + TE_ID + RB_ID + WR_ID + DST_ID\n",
    "\n",
    "    # create dictionaries for salaries and performance\n",
    "    x = LpVariable.dicts(\"%s\", POS_ID, 0, 1, LpInteger)\n",
    "    points = pd.Series(df[points_col].values, index=df['GID']).to_dict()\n",
    "    salary = pd.Series(df['Salary'].values, index=df['GID']).to_dict()\n",
    "\n",
    "    dk_solve = LpProblem(\"ILP\", LpMaximize)\n",
    "\n",
    "    # ****************************************************************\n",
    "    # Objective\n",
    "    # ****************************************************************\n",
    "    dk_solve += sum([points[i] * x[i] for i in sorted(POS_ID)])\n",
    "\n",
    "    # ****************************************************************\n",
    "    # Constraints\n",
    "    # ****************************************************************\n",
    "\n",
    "    # Salary Cap at $50k\n",
    "    dk_solve += sum([salary[i] * x[i] for i in sorted(POS_ID)]) <= 50000\n",
    "\n",
    "    # Only 1 Quaterback\n",
    "    dk_solve += sum([x[i] for i in sorted(QB_ID)]) == 1\n",
    "\n",
    "    # Between 1 and 2 Tight Ends\n",
    "    dk_solve += sum([x[i] for i in sorted(TE_ID)]) <= 2\n",
    "    dk_solve += sum([x[i] for i in sorted(TE_ID)]) >= 1\n",
    "\n",
    "    # Between 3 and 4 Wide Receivers\n",
    "    dk_solve += sum([x[i] for i in sorted(WR_ID)]) <= 4\n",
    "    dk_solve += sum([x[i] for i in sorted(WR_ID)]) >= 3\n",
    "    # dk_solve += sum([x[i] for i in sorted(WR_ID)])  == 3\n",
    "\n",
    "    # Between 2 and 3 Running Backs\n",
    "    dk_solve += sum([x[i] for i in sorted(RB_ID)]) <= 3\n",
    "    dk_solve += sum([x[i] for i in sorted(RB_ID)]) >= 2\n",
    "\n",
    "    # Only 1 Defence / Special Teams\n",
    "    dk_solve += sum([x[i] for i in sorted(DST_ID)]) == 1\n",
    "\n",
    "    # Require 9 players\n",
    "    dk_solve += sum([x[i] for i in sorted(POS_ID)]) == 9\n",
    "\n",
    "    # ****************************************************************\n",
    "    # Solve\n",
    "    # ****************************************************************\n",
    "    LpSolverDefault.msg = 1\n",
    "    dk_solve.solve()\n",
    "\n",
    "    # ****************************************************************\n",
    "    # Results\n",
    "    # ****************************************************************\n",
    "\n",
    "    print(\"Solution Status: \" + LpStatus[dk_solve.status])\n",
    "\n",
    "    # Get Selected Player IDs\n",
    "    team = [v.name for v in dk_solve.variables() if v.varValue == 1]\n",
    "\n",
    "    return team"
   ]
  }
 ],
 "metadata": {
  "kernelspec": {
   "display_name": "Python 3",
   "language": "python",
   "name": "python3"
  },
  "language_info": {
   "codemirror_mode": {
    "name": "ipython",
    "version": 3
   },
   "file_extension": ".py",
   "mimetype": "text/x-python",
   "name": "python",
   "nbconvert_exporter": "python",
   "pygments_lexer": "ipython3",
   "version": "3.6.5"
  }
 },
 "nbformat": 4,
 "nbformat_minor": 2
}

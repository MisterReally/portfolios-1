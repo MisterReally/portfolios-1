{
 "cells": [
  {
   "cell_type": "markdown",
   "metadata": {},
   "source": [
    "# My portfolios"
   ]
  },
  {
   "cell_type": "code",
   "execution_count": 1,
   "metadata": {
    "scrolled": true
   },
   "outputs": [],
   "source": [
    "%load_ext autoreload\n",
    "%autoreload 2"
   ]
  },
  {
   "cell_type": "code",
   "execution_count": 7,
   "metadata": {},
   "outputs": [],
   "source": [
    "import pandas as pd\n",
    "import matplotlib.pyplot as plt\n",
    "import robin_stocks as r\n",
    "import etfs as et"
   ]
  },
  {
   "cell_type": "code",
   "execution_count": 14,
   "metadata": {},
   "outputs": [],
   "source": [
    "from etfs.portfolio.io import import_portfolio, import_portfolio_robinhood, import_portfolio_vanguard, \\\n",
    "                              parse_portfolio, parse_portfolio_vanguard\n",
    "from etfs.stats.basics import resample_df, runrate_column, shift_column, \\\n",
    "                              standard_deviation_column, difference, rsq, beta, alpha\n",
    "from etfs.utils.helpers import todays_date\n",
    "from etfs.visualization.trends import plot_composition\n",
    "from etfs.visualization.analysis import plot_cross_correlation_matrix"
   ]
  },
  {
   "cell_type": "code",
   "execution_count": null,
   "metadata": {},
   "outputs": [],
   "source": []
  },
  {
   "cell_type": "code",
   "execution_count": null,
   "metadata": {},
   "outputs": [],
   "source": []
  },
  {
   "cell_type": "markdown",
   "metadata": {},
   "source": [
    "## RobinHood"
   ]
  },
  {
   "cell_type": "code",
   "execution_count": 18,
   "metadata": {},
   "outputs": [],
   "source": [
    "# access password file\n",
    "f = open(\"../../../.etfs.txt\",\"r\")\n",
    "lines = f.readlines()\n",
    "username = lines[0].strip().split('\\n', 0)\n",
    "password = lines[1].strip().split('\\n', 0)\n",
    "f.close()"
   ]
  },
  {
   "cell_type": "code",
   "execution_count": 19,
   "metadata": {},
   "outputs": [],
   "source": [
    "access_token = r.login(username, password)"
   ]
  },
  {
   "cell_type": "code",
   "execution_count": null,
   "metadata": {
    "scrolled": false
   },
   "outputs": [
    {
     "name": "stdout",
     "output_type": "stream",
     "text": [
      "Found Additional pages.\n",
      "Loading page 2 ...\n",
      "Loading page 3 ...\n",
      "Loading page 4 ...\n",
      "Loading page 5 ...\n",
      "Loading page 6 ...\n",
      "Loading page 7 ...\n",
      "Loading page 8 ...\n",
      "Loading page 9 ...\n",
      "Loading page 10 ...\n",
      "Loading page 11 ...\n",
      "Loading page 12 ...\n",
      "Loading page 13 ...\n",
      "Loading page 14 ...\n",
      "Loading page 15 ...\n",
      "Loading page 16 ...\n",
      "Loading page 17 ...\n",
      "Loading page 18 ...\n",
      "Loading page 19 ...\n",
      "Loading page 20 ...\n",
      "Parsing orders ...\n",
      "Parsing bank transfers ...\n",
      "Parsing dividends ...\n",
      "Adding promotional stock ...\n",
      "depositing 550.00 USD (new balance: 550.00 USD)\n",
      "Checking ../data/MSFT.csv\n",
      "Saving ../data/MSFT.csv\n",
      "Checking ../data/MSFT.csv\n",
      "Saving ../data/MSFT.csv\n",
      "buying 1.00 MSFT (new balance: 455.88 USD)\n",
      "buying 1.00 MSFT (new balance: 361.52 USD)\n",
      "Checking ../data/AAPL.csv\n",
      "Saving ../data/AAPL.csv\n",
      "Checking ../data/AAPL.csv\n",
      "Saving ../data/AAPL.csv\n",
      "buying 1.00 AAPL (new balance: 193.84 USD)\n",
      "Checking ../data/BABA.csv\n",
      "Saving ../data/BABA.csv\n",
      "Checking ../data/BABA.csv\n",
      "Saving ../data/BABA.csv\n",
      "buying 1.00 BABA (new balance: 0.50 USD)\n",
      "Checking ../data/CHK.csv\n",
      "Saving ../data/CHK.csv\n",
      "Checking ../data/CHK.csv\n",
      "Saving ../data/CHK.csv\n",
      "buying 1.00 CHK (new balance: 0.50 USD)\n",
      "dividend AAPL 0.63 USD (new balance: 1.13 USD)\n",
      "depositing 550.00 USD (new balance: 551.13 USD)\n",
      "Checking ../data/W.csv\n",
      "Saving ../data/W.csv\n",
      "Checking ../data/W.csv\n",
      "Saving ../data/W.csv\n",
      "buying 7.00 W (new balance: 23.26 USD)\n",
      "dividend MSFT 0.84 USD (new balance: 24.10 USD)\n",
      "Checking ../data/DB.csv\n",
      "Saving ../data/DB.csv\n",
      "Checking ../data/DB.csv\n",
      "Saving ../data/DB.csv\n",
      "buying 1.00 DB (new balance: 9.74 USD)\n",
      "buying 1.00 DB (new balance: -3.30 USD)\n",
      "selling 1.00 CHK (new balance: 0.40 USD)\n",
      "dividend AAPL 0.73 USD (new balance: 1.13 USD)\n",
      "dividend DB 0.25 USD (new balance: 1.38 USD)\n",
      "dividend MSFT 0.84 USD (new balance: 2.22 USD)\n",
      "depositing 550.00 USD (new balance: 552.22 USD)\n",
      "Checking ../data/AMD.csv\n",
      "Saving ../data/AMD.csv\n",
      "Checking ../data/AMD.csv\n",
      "Saving ../data/AMD.csv\n",
      "buying 14.00 AMD (new balance: 316.88 USD)\n",
      "buying 3.00 AMD (new balance: 266.19 USD)\n",
      "Checking ../data/IQ.csv\n",
      "Saving ../data/IQ.csv\n",
      "Checking ../data/IQ.csv\n",
      "Saving ../data/IQ.csv\n",
      "buying 6.00 IQ (new balance: 2.57 USD)\n",
      "Checking ../data/JD.csv\n",
      "Saving ../data/JD.csv\n",
      "Checking ../data/JD.csv\n",
      "Saving ../data/JD.csv\n",
      "buying 6.00 JD (new balance: -249.43 USD)\n",
      "selling 2.00 W (new balance: -21.51 USD)\n",
      "selling 2.00 DB (new balance: 0.77 USD)\n",
      "depositing 220.00 USD (new balance: 220.77 USD)\n",
      "buying 2.00 IQ (new balance: 147.64 USD)\n",
      "buying 2.00 IQ (new balance: 76.12 USD)\n",
      "buying 2.00 IQ (new balance: 5.60 USD)\n",
      "depositing 180.00 USD (new balance: 185.60 USD)\n",
      "buying 6.00 IQ (new balance: 5.06 USD)\n",
      "Checking ../data/TSM.csv\n",
      "Saving ../data/TSM.csv\n",
      "Checking ../data/TSM.csv\n",
      "Saving ../data/TSM.csv\n",
      "buying 3.00 TSM (new balance: -108.97 USD)\n",
      "selling 1.00 W (new balance: 15.94 USD)\n",
      "buying 1.00 DB (new balance: 3.95 USD)\n",
      "buying 4.00 JD (new balance: -138.01 USD)\n",
      "selling 1.00 DB (new balance: -125.95 USD)\n",
      "selling 1.00 W (new balance: 0.72 USD)\n",
      "depositing 360.00 USD (new balance: 360.72 USD)\n",
      "Checking ../data/FB.csv\n",
      "Saving ../data/FB.csv\n",
      "Checking ../data/FB.csv\n",
      "Saving ../data/FB.csv\n",
      "buying 2.00 FB (new balance: 12.27 USD)\n",
      "buying 3.00 JD (new balance: -94.38 USD)\n",
      "selling 3.00 TSM (new balance: 29.13 USD)\n",
      "selling 2.00 MSFT (new balance: 241.40 USD)\n",
      "selling 1.00 AAPL (new balance: 441.76 USD)\n",
      "selling 17.00 AMD (new balance: 756.86 USD)\n",
      "Checking ../data/SONO.csv\n",
      "Saving ../data/SONO.csv\n",
      "Checking ../data/SONO.csv\n",
      "Saving ../data/SONO.csv\n",
      "buying 16.00 SONO (new balance: 422.46 USD)\n",
      "buying 2.00 IQ (new balance: 361.76 USD)\n",
      "Checking ../data/BIDU.csv\n",
      "Saving ../data/BIDU.csv\n",
      "Checking ../data/BIDU.csv\n",
      "Saving ../data/BIDU.csv\n",
      "buying 3.00 BIDU (new balance: -328.66 USD)\n",
      "selling 3.00 W (new balance: 18.08 USD)\n",
      "depositing 550.00 USD (new balance: 568.08 USD)\n",
      "buying 19.00 IQ (new balance: 18.98 USD)\n",
      "depositing 300.00 USD (new balance: 318.98 USD)\n",
      "buying 18.00 SONO (new balance: 14.44 USD)\n",
      "buying 11.00 JD (new balance: -334.21 USD)\n",
      "selling 2.00 FB (new balance: 19.03 USD)\n",
      "buying 1.00 SONO (new balance: 1.34 USD)\n",
      "depositing 30.00 USD (new balance: 31.34 USD)\n",
      "Checking ../data/DIS.csv\n",
      "Saving ../data/DIS.csv\n",
      "Checking ../data/DIS.csv\n",
      "Saving ../data/DIS.csv\n",
      "buying 5.00 DIS (new balance: -528.74 USD)\n",
      "selling 19.00 IQ (new balance: 22.67 USD)\n",
      "depositing 350.00 USD (new balance: 372.67 USD)\n",
      "buying 2.00 BABA (new balance: 18.31 USD)\n",
      "depositing 600.00 USD (new balance: 618.31 USD)\n",
      "buying 21.00 JD (new balance: 5.53 USD)\n",
      "depositing 600.00 USD (new balance: 605.53 USD)\n",
      "buying 15.00 JD (new balance: 201.28 USD)\n",
      "buying 7.00 IQ (new balance: 15.08 USD)\n",
      "buying 3.00 SONO (new balance: -28.86 USD)\n",
      "Checking ../data/SQ.csv\n",
      "Saving ../data/SQ.csv\n",
      "Checking ../data/SQ.csv\n",
      "Saving ../data/SQ.csv\n",
      "buying 6.00 SQ (new balance: -537.18 USD)\n",
      "selling 1.00 DIS (new balance: -427.20 USD)\n",
      "selling 1.00 BIDU (new balance: -203.42 USD)\n",
      "selling 2.00 DIS (new balance: 16.54 USD)\n",
      "buying 16.00 SONO (new balance: -206.79 USD)\n",
      "selling 2.00 DIS (new balance: 15.99 USD)\n",
      "depositing 620.00 USD (new balance: 635.99 USD)\n",
      "Checking ../data/TCEHY.csv\n",
      "Saving ../data/TCEHY.csv\n",
      "Checking ../data/TCEHY.csv\n",
      "Saving ../data/TCEHY.csv\n",
      "buying 15.00 TCEHY (new balance: 14.09 USD)\n",
      "depositing 1000.00 USD (new balance: 1014.09 USD)\n",
      "buying 2.00 JD (new balance: 966.81 USD)\n",
      "buying 18.00 JD (new balance: 531.21 USD)\n",
      "buying 1.00 BIDU (new balance: 322.64 USD)\n",
      "buying 2.00 BABA (new balance: 10.36 USD)\n",
      "depositing 2000.00 USD (new balance: 2010.36 USD)\n",
      "buying 5.00 TCEHY (new balance: 1835.16 USD)\n",
      "buying 2.00 BABA (new balance: 1558.12 USD)\n",
      "buying 6.00 SQ (new balance: 1140.59 USD)\n",
      "buying 13.00 SONO (new balance: 969.37 USD)\n",
      "buying 2.00 IQ (new balance: 918.13 USD)\n",
      "buying 2.00 BIDU (new balance: 516.37 USD)\n",
      "buying 7.00 TCEHY (new balance: 261.01 USD)\n",
      "buying 10.00 IQ (new balance: 4.31 USD)\n",
      "depositing 1000.00 USD (new balance: 1004.31 USD)\n",
      "buying 46.00 IQ (new balance: 13.57 USD)\n",
      "depositing 1100.00 USD (new balance: 1113.57 USD)\n",
      "Checking ../data/GOOG.csv\n",
      "Saving ../data/GOOG.csv\n",
      "Checking ../data/GOOG.csv\n",
      "Saving ../data/GOOG.csv\n",
      "buying 1.00 GOOG (new balance: 43.60 USD)\n",
      "buying 6.00 FB (new balance: -863.90 USD)\n",
      "selling 1.00 SQ (new balance: -786.04 USD)\n",
      "selling 67.00 SONO (new balance: 114.44 USD)\n",
      "Checking ../data/NFLX.csv\n",
      "Saving ../data/NFLX.csv\n",
      "Checking ../data/NFLX.csv\n",
      "Saving ../data/NFLX.csv\n",
      "buying 3.00 NFLX (new balance: -806.40 USD)\n",
      "buying 10.00 W (new balance: -1744.88 USD)\n",
      "selling 1.00 IQ (new balance: -1723.96 USD)\n",
      "selling 42.00 IQ (new balance: -846.10 USD)\n",
      "selling 40.00 JD (new balance: 114.70 USD)\n",
      "buying 54.00 SONO (new balance: -831.16 USD)\n",
      "selling 6.00 FB (new balance: 11.42 USD)\n",
      "depositing 1000.00 USD (new balance: 1011.42 USD)\n",
      "buying 17.00 IQ (new balance: 679.78 USD)\n",
      "buying 30.00 SONO (new balance: 318.70 USD)\n",
      "buying 5.00 SQ (new balance: 4.80 USD)\n",
      "depositing 1000.00 USD (new balance: 1004.80 USD)\n",
      "Checking ../data/NIO.csv\n",
      "Saving ../data/NIO.csv\n",
      "Checking ../data/NIO.csv\n",
      "Refresh failed\n",
      "buying 4.00 NIO (new balance: 974.52 USD)\n",
      "Checking ../data/ZTO.csv\n",
      "Refresh failed\n",
      "Checking ../data/ZTO.csv\n",
      "Refresh failed\n",
      "buying 2.00 ZTO (new balance: 942.10 USD)\n",
      "Checking ../data/UNH.csv\n",
      "Refresh failed\n",
      "Checking ../data/UNH.csv\n",
      "Refresh failed\n",
      "buying 1.00 UNH (new balance: 672.67 USD)\n",
      "buying 1.00 SQ (new balance: 610.99 USD)\n",
      "buying 1.00 NFLX (new balance: 339.65 USD)\n",
      "buying 7.00 JD (new balance: 181.59 USD)\n",
      "buying 1.00 BIDU (new balance: 3.45 USD)\n",
      "depositing 1000.00 USD (new balance: 1003.45 USD)\n",
      "buying 1.00 UNH (new balance: 758.95 USD)\n",
      "buying 15.00 NIO (new balance: 658.93 USD)\n",
      "buying 16.00 SONO (new balance: 491.49 USD)\n",
      "buying 9.00 IQ (new balance: 352.13 USD)\n",
      "buying 5.00 JD (new balance: 251.58 USD)\n",
      "buying 1.00 SQ (new balance: 193.04 USD)\n",
      "buying 2.00 W (new balance: 16.58 USD)\n",
      "depositing 1000.00 USD (new balance: 1016.58 USD)\n",
      "buying 8.00 ZTO (new balance: 887.94 USD)\n",
      "buying 1.00 UNH (new balance: 641.89 USD)\n",
      "buying 21.00 NIO (new balance: 507.35 USD)\n",
      "buying 1.00 BIDU (new balance: 344.88 USD)\n",
      "buying 1.00 SQ (new balance: 288.65 USD)\n",
      "buying 15.00 SONO (new balance: 141.50 USD)\n",
      "buying 1.00 BABA (new balance: 4.13 USD)\n",
      "buying 1.00 UNH (new balance: -239.01 USD)\n",
      "selling 1.00 JD (new balance: -215.25 USD)\n",
      "selling 1.00 BABA (new balance: -62.38 USD)\n",
      "selling 2.00 SONO (new balance: -40.34 USD)\n",
      "selling 1.00 SQ (new balance: 25.74 USD)\n",
      "selling 5.00 SONO (new balance: 79.82 USD)\n",
      "selling 1.00 JD (new balance: 103.44 USD)\n"
     ]
    },
    {
     "name": "stdout",
     "output_type": "stream",
     "text": [
      "Checking ../data/NTDOY.csv\n",
      "Refresh failed\n",
      "Checking ../data/NTDOY.csv\n",
      "Refresh failed\n",
      "buying 1.00 NTDOY (new balance: 68.54 USD)\n",
      "buying 5.00 NIO (new balance: 35.90 USD)\n",
      "Checking ../data/CVS.csv\n",
      "Refresh failed\n",
      "Checking ../data/CVS.csv\n",
      "Refresh failed\n",
      "buying 1.00 CVS (new balance: -30.12 USD)\n",
      "selling 2.00 IQ (new balance: 6.16 USD)\n",
      "buying 4.00 NIO (new balance: -20.08 USD)\n",
      "buying 9.00 NTDOY (new balance: -332.79 USD)\n",
      "selling 1.00 NFLX (new balance: 4.21 USD)\n",
      "buying 2.00 ZTO (new balance: -30.23 USD)\n",
      "selling 3.00 SONO (new balance: 3.55 USD)\n",
      "depositing 1000.00 USD (new balance: 1003.55 USD)\n",
      "buying 1.00 CVS (new balance: 940.02 USD)\n",
      "buying 5.00 CVS (new balance: 622.17 USD)\n",
      "buying 5.00 CVS (new balance: 302.12 USD)\n",
      "buying 1.00 UNH (new balance: 51.26 USD)\n",
      "buying 45.00 NIO (new balance: -252.41 USD)\n",
      "selling 1.00 UNH (new balance: 7.26 USD)\n",
      "selling 1.00 NTDOY (new balance: 45.56 USD)\n",
      "selling 1.00 SQ (new balance: 117.00 USD)\n",
      "Checking ../data/CRSP.csv\n",
      "Refresh failed\n",
      "Checking ../data/CRSP.csv\n",
      "Refresh failed\n",
      "buying 3.00 CRSP (new balance: 18.21 USD)\n",
      "Checking ../data/HUYA.csv\n",
      "Refresh failed\n",
      "Checking ../data/HUYA.csv\n",
      "Refresh failed\n",
      "buying 2.00 HUYA (new balance: -26.16 USD)\n",
      "Checking ../data/AYX.csv\n",
      "Refresh failed\n",
      "Checking ../data/AYX.csv\n",
      "Refresh failed\n",
      "buying 1.00 AYX (new balance: -96.59 USD)\n",
      "selling 1.00 IQ (new balance: -76.88 USD)\n",
      "selling 1.00 SQ (new balance: 1.04 USD)\n",
      "buying 2.00 HUYA (new balance: -38.95 USD)\n"
     ]
    }
   ],
   "source": [
    "rh = import_portfolio_robinhood(access_token=access_token,  \n",
    "                                name=\"Robinhood\", \n",
    "                                free_stock=True)"
   ]
  },
  {
   "cell_type": "code",
   "execution_count": null,
   "metadata": {},
   "outputs": [],
   "source": [
    "rh.overview()"
   ]
  },
  {
   "cell_type": "code",
   "execution_count": null,
   "metadata": {
    "scrolled": false
   },
   "outputs": [],
   "source": [
    "rh.overview_archive()"
   ]
  },
  {
   "cell_type": "code",
   "execution_count": null,
   "metadata": {
    "scrolled": true
   },
   "outputs": [],
   "source": [
    "# parse alternative (SP500) portfolio first\n",
    "rh_alt = import_portfolio(path=\"../data/portfolio_rh_alt.csv\", name=\"RobinHood\")"
   ]
  },
  {
   "cell_type": "code",
   "execution_count": null,
   "metadata": {},
   "outputs": [],
   "source": [
    "rh_alt.overview()"
   ]
  },
  {
   "cell_type": "code",
   "execution_count": null,
   "metadata": {
    "scrolled": false
   },
   "outputs": [],
   "source": [
    "rh.payments.sum()"
   ]
  },
  {
   "cell_type": "code",
   "execution_count": null,
   "metadata": {},
   "outputs": [],
   "source": [
    "rh_alt.payments.sum()"
   ]
  },
  {
   "cell_type": "code",
   "execution_count": null,
   "metadata": {
    "scrolled": true
   },
   "outputs": [],
   "source": [
    "rh.positions()"
   ]
  },
  {
   "cell_type": "code",
   "execution_count": null,
   "metadata": {
    "scrolled": true
   },
   "outputs": [],
   "source": [
    "rh.get_timeseries()"
   ]
  },
  {
   "cell_type": "code",
   "execution_count": null,
   "metadata": {},
   "outputs": [],
   "source": [
    "rh.data.plot(y=[column for column in rh.data.columns if column not in ['Total', 'Total_sh1', 'Total_sh1_ret', 'Total_sh1_sqerr']], \n",
    "               figsize=(12,12)\n",
    "            )\n",
    "#plt.ylim((0,2000))\n",
    "#plt.yscale('symlog')"
   ]
  },
  {
   "cell_type": "code",
   "execution_count": null,
   "metadata": {
    "scrolled": false
   },
   "outputs": [],
   "source": [
    "plot_composition(portfolio=rh)"
   ]
  },
  {
   "cell_type": "code",
   "execution_count": null,
   "metadata": {},
   "outputs": [],
   "source": [
    "rh.data_growth.plot(y=\"Growth\")"
   ]
  },
  {
   "cell_type": "code",
   "execution_count": null,
   "metadata": {},
   "outputs": [],
   "source": [
    "rh_alt.get_timeseries()"
   ]
  },
  {
   "cell_type": "code",
   "execution_count": null,
   "metadata": {},
   "outputs": [],
   "source": [
    "plt.plot(rh.data_growth.Growth[:], label='MyPortfolio')\n",
    "plt.plot(rh_alt.data_growth.Growth[:], label='SP500')\n",
    "plt.legend()"
   ]
  },
  {
   "cell_type": "code",
   "execution_count": null,
   "metadata": {},
   "outputs": [],
   "source": [
    "plt.plot(rh.data_growth.Growth-rh_alt.data_growth.Growth)\n",
    "plt.hlines(0, xmin=min(rh.data_growth.index), xmax=max(rh.data_growth.index), linestyle='-', linewidth=0.5)"
   ]
  },
  {
   "cell_type": "code",
   "execution_count": null,
   "metadata": {},
   "outputs": [],
   "source": [
    "rh_alt.get_performance()"
   ]
  },
  {
   "cell_type": "code",
   "execution_count": null,
   "metadata": {},
   "outputs": [],
   "source": [
    "rh.get_performance()"
   ]
  },
  {
   "cell_type": "code",
   "execution_count": null,
   "metadata": {
    "scrolled": true
   },
   "outputs": [],
   "source": [
    "# Volatility of portfolio\n",
    "df_volatility = standard_deviation_column(rh.data, column='Total', window=1, shift=1)"
   ]
  },
  {
   "cell_type": "code",
   "execution_count": null,
   "metadata": {
    "scrolled": true
   },
   "outputs": [],
   "source": [
    "rh.get_benchmark()"
   ]
  },
  {
   "cell_type": "code",
   "execution_count": null,
   "metadata": {},
   "outputs": [],
   "source": [
    "rh.get_returns()"
   ]
  },
  {
   "cell_type": "code",
   "execution_count": null,
   "metadata": {},
   "outputs": [],
   "source": [
    "total = et.TotalPortfolioValue(name=\"Total\", data=rh.data) # to-do: turn this into portfolio object"
   ]
  },
  {
   "cell_type": "code",
   "execution_count": null,
   "metadata": {
    "scrolled": true
   },
   "outputs": [],
   "source": [
    "df_volatility = standard_deviation_column(total.data, column='Total', window=1, shift=1)"
   ]
  },
  {
   "cell_type": "code",
   "execution_count": null,
   "metadata": {},
   "outputs": [],
   "source": [
    "total.get_returns()"
   ]
  },
  {
   "cell_type": "code",
   "execution_count": null,
   "metadata": {},
   "outputs": [],
   "source": [
    "total.get_benchmark()"
   ]
  },
  {
   "cell_type": "code",
   "execution_count": null,
   "metadata": {},
   "outputs": [],
   "source": [
    "total.benchmark.get_returns()"
   ]
  },
  {
   "cell_type": "code",
   "execution_count": null,
   "metadata": {
    "scrolled": false
   },
   "outputs": [],
   "source": [
    "rsq(total, total.benchmark, col1='Return', col2='Return')"
   ]
  },
  {
   "cell_type": "code",
   "execution_count": null,
   "metadata": {},
   "outputs": [],
   "source": [
    "beta(sec1=total, sec2=total.benchmark, col1='Return', col2='Return')"
   ]
  },
  {
   "cell_type": "code",
   "execution_count": null,
   "metadata": {},
   "outputs": [],
   "source": [
    "alpha(sec1=total, sec2=total.benchmark, col1='Return', col2='Return', risk_free_rate=.004484)"
   ]
  },
  {
   "cell_type": "code",
   "execution_count": null,
   "metadata": {},
   "outputs": [],
   "source": [
    "# show correlation of positions\n",
    "plot_cross_correlation_matrix(portfolio=rh)"
   ]
  },
  {
   "cell_type": "code",
   "execution_count": null,
   "metadata": {},
   "outputs": [],
   "source": []
  },
  {
   "cell_type": "code",
   "execution_count": null,
   "metadata": {},
   "outputs": [],
   "source": []
  },
  {
   "cell_type": "markdown",
   "metadata": {},
   "source": [
    "## Put in stop loss orders for Robinhood stocks"
   ]
  },
  {
   "cell_type": "code",
   "execution_count": null,
   "metadata": {},
   "outputs": [],
   "source": [
    "#from etfs.trader.orders import put_in_stop_loss_orders_all"
   ]
  },
  {
   "cell_type": "markdown",
   "metadata": {
    "scrolled": false
   },
   "source": [
    "put_in_stop_loss_orders_all(access_token=access_token, \n",
    "                            portfolio=rh, \n",
    "                            column=\"Close\", \n",
    "                            alpha=.5, \n",
    "                            sigmas=1)"
   ]
  },
  {
   "cell_type": "code",
   "execution_count": null,
   "metadata": {},
   "outputs": [],
   "source": []
  },
  {
   "cell_type": "markdown",
   "metadata": {},
   "source": [
    "## Vanguard"
   ]
  },
  {
   "cell_type": "code",
   "execution_count": null,
   "metadata": {
    "scrolled": true
   },
   "outputs": [],
   "source": [
    "vg = import_portfolio_vanguard(path=\"../data/portfolio_vanguard*.csv\", name=\"Vanguard\")"
   ]
  },
  {
   "cell_type": "code",
   "execution_count": null,
   "metadata": {
    "scrolled": false
   },
   "outputs": [],
   "source": [
    "vg.overview()     "
   ]
  },
  {
   "cell_type": "code",
   "execution_count": null,
   "metadata": {
    "scrolled": true
   },
   "outputs": [],
   "source": [
    "vg.overview_archive()"
   ]
  },
  {
   "cell_type": "code",
   "execution_count": null,
   "metadata": {},
   "outputs": [],
   "source": [
    "vg.positions()"
   ]
  },
  {
   "cell_type": "code",
   "execution_count": null,
   "metadata": {},
   "outputs": [],
   "source": [
    "vg.get_timeseries()"
   ]
  },
  {
   "cell_type": "code",
   "execution_count": null,
   "metadata": {
    "scrolled": false
   },
   "outputs": [],
   "source": [
    "ax = vg.data.plot(y=vg.data.columns,\n",
    "                  figsize=(8,6)\n",
    "                 )"
   ]
  },
  {
   "cell_type": "code",
   "execution_count": null,
   "metadata": {},
   "outputs": [],
   "source": [
    "plot_composition(portfolio=vg)"
   ]
  },
  {
   "cell_type": "code",
   "execution_count": null,
   "metadata": {},
   "outputs": [],
   "source": [
    "vg.data_growth.plot(y=\"Growth\")"
   ]
  },
  {
   "cell_type": "code",
   "execution_count": null,
   "metadata": {},
   "outputs": [],
   "source": [
    "vg.get_performance()"
   ]
  },
  {
   "cell_type": "code",
   "execution_count": null,
   "metadata": {},
   "outputs": [],
   "source": [
    "vg.get_benchmark()"
   ]
  },
  {
   "cell_type": "code",
   "execution_count": null,
   "metadata": {},
   "outputs": [],
   "source": [
    "# Volatility of portfolio\n",
    "df_volatility = standard_deviation_column(vg.data, column='Total', window=1, shift=1)"
   ]
  },
  {
   "cell_type": "code",
   "execution_count": null,
   "metadata": {
    "scrolled": true
   },
   "outputs": [],
   "source": [
    "df_volatility = standard_deviation_column(vg.benchmark.data, column='Close', window=1, shift=1)"
   ]
  },
  {
   "cell_type": "code",
   "execution_count": null,
   "metadata": {},
   "outputs": [],
   "source": [
    "total = et.TotalPortfolioValue(name=\"Total\", data=vg.data) # to-do: turn this into portfolio object"
   ]
  },
  {
   "cell_type": "code",
   "execution_count": null,
   "metadata": {},
   "outputs": [],
   "source": [
    "total.get_benchmark()"
   ]
  },
  {
   "cell_type": "code",
   "execution_count": null,
   "metadata": {},
   "outputs": [],
   "source": [
    "total.get_returns()"
   ]
  },
  {
   "cell_type": "code",
   "execution_count": null,
   "metadata": {},
   "outputs": [],
   "source": [
    "rsq(total, total.benchmark, col1='Return', col2='Return')"
   ]
  },
  {
   "cell_type": "code",
   "execution_count": null,
   "metadata": {},
   "outputs": [],
   "source": [
    "beta(sec1=total, sec2=total.benchmark, col1='Return', col2='Return')"
   ]
  },
  {
   "cell_type": "code",
   "execution_count": null,
   "metadata": {},
   "outputs": [],
   "source": [
    "alpha(sec1=total, sec2=total.benchmark, col1='Return', col2='Return', risk_free_rate=.004484)"
   ]
  },
  {
   "cell_type": "code",
   "execution_count": null,
   "metadata": {},
   "outputs": [],
   "source": [
    "# show correlation of positions\n",
    "plot_cross_correlation_matrix(portfolio=vg)"
   ]
  },
  {
   "cell_type": "code",
   "execution_count": null,
   "metadata": {},
   "outputs": [],
   "source": []
  },
  {
   "cell_type": "code",
   "execution_count": null,
   "metadata": {},
   "outputs": [],
   "source": []
  },
  {
   "cell_type": "markdown",
   "metadata": {},
   "source": [
    "## Add up portfolios"
   ]
  },
  {
   "cell_type": "code",
   "execution_count": null,
   "metadata": {},
   "outputs": [],
   "source": [
    "tot = et.Portfolio(name=\"tot\")"
   ]
  },
  {
   "cell_type": "code",
   "execution_count": null,
   "metadata": {
    "scrolled": true
   },
   "outputs": [],
   "source": [
    "tot = parse_portfolio([rh.transactions, vg.transactions], tot)"
   ]
  },
  {
   "cell_type": "code",
   "execution_count": null,
   "metadata": {},
   "outputs": [],
   "source": [
    "tot.get_timeseries()"
   ]
  },
  {
   "cell_type": "code",
   "execution_count": null,
   "metadata": {},
   "outputs": [],
   "source": [
    "tot.data_growth.plot(y=[\"Growth\"])"
   ]
  },
  {
   "cell_type": "code",
   "execution_count": null,
   "metadata": {},
   "outputs": [],
   "source": [
    "tot.get_performance()"
   ]
  },
  {
   "cell_type": "code",
   "execution_count": null,
   "metadata": {
    "scrolled": false
   },
   "outputs": [],
   "source": [
    "tot.overview()"
   ]
  },
  {
   "cell_type": "code",
   "execution_count": null,
   "metadata": {
    "scrolled": true
   },
   "outputs": [],
   "source": [
    "tot.positions()"
   ]
  },
  {
   "cell_type": "code",
   "execution_count": null,
   "metadata": {},
   "outputs": [],
   "source": [
    "tot.overview_df['Growth'] = tot.overview_df['Return']/tot.overview_df['CurrentValue']*100"
   ]
  },
  {
   "cell_type": "code",
   "execution_count": null,
   "metadata": {
    "scrolled": false
   },
   "outputs": [],
   "source": [
    "ax = tot.overview_df.sort_values(by='Growth', ascending=True).plot(x='Description', \n",
    "                                                                   y='Growth', \n",
    "                                                                   kind='barh', \n",
    "                                                                   legend=False, \n",
    "                                                                   title='Growth',\n",
    "                                                                   figsize=(10,8)\n",
    "                                                                  )"
   ]
  },
  {
   "cell_type": "code",
   "execution_count": null,
   "metadata": {},
   "outputs": [],
   "source": [
    "ax = tot.positions_df.reset_index().sort_values(by='PercentGrowth', ascending=True).plot(x='Ticker', \n",
    "                                                                                         y='PercentGrowth', \n",
    "                                                                                         kind='barh', \n",
    "                                                                                         legend=False, \n",
    "                                                                                         title='PercentGrowth',\n",
    "                                                                                         figsize=(10,10)\n",
    "                                                                                        )"
   ]
  },
  {
   "cell_type": "code",
   "execution_count": null,
   "metadata": {},
   "outputs": [],
   "source": [
    "tot.overview_df['PriceChange'] = 100-tot.overview_df['AvgPriceFiFo']/tot.overview_df['LastPrice']*100"
   ]
  },
  {
   "cell_type": "code",
   "execution_count": null,
   "metadata": {},
   "outputs": [],
   "source": [
    "ax = tot.overview_df.sort_values(by='PriceChange', ascending=True).plot(x='Description', \n",
    "                                                                        y='PriceChange', \n",
    "                                                                        kind='barh', \n",
    "                                                                        legend=False, \n",
    "                                                                        title='Price Change',\n",
    "                                                                        figsize=(10,8)\n",
    "                                                                       )"
   ]
  },
  {
   "cell_type": "code",
   "execution_count": null,
   "metadata": {
    "scrolled": false
   },
   "outputs": [],
   "source": [
    "tot.overview_archive()"
   ]
  },
  {
   "cell_type": "code",
   "execution_count": null,
   "metadata": {},
   "outputs": [],
   "source": [
    "ax = tot.overview_archive_df.sort_values(by='Return', ascending=True).plot(x='Description', \n",
    "                                                                   y='Return', \n",
    "                                                                   kind='barh', \n",
    "                                                                   legend=False, \n",
    "                                                                   title='Return',\n",
    "                                                                   figsize=(10,8)\n",
    "                                                                  )"
   ]
  },
  {
   "cell_type": "code",
   "execution_count": null,
   "metadata": {},
   "outputs": [],
   "source": [
    "ax = pd.concat([tot.overview_df, tot.overview_archive_df], axis=0, ignore_index=True, sort=False).sort_values(by='Return', ascending=True).plot(x='Description', \n",
    "                                                                   y='Return', \n",
    "                                                                   kind='barh', \n",
    "                                                                   legend=False, \n",
    "                                                                   title='Return',\n",
    "                                                                   figsize=(10,10)\n",
    "                                                                  )"
   ]
  },
  {
   "cell_type": "code",
   "execution_count": null,
   "metadata": {},
   "outputs": [],
   "source": [
    "plot_composition(portfolio=tot)"
   ]
  },
  {
   "cell_type": "code",
   "execution_count": null,
   "metadata": {},
   "outputs": [],
   "source": [
    "total = et.TotalPortfolioValue(name=\"Total\", data=tot.data) # to-do: turn this into portfolio object"
   ]
  },
  {
   "cell_type": "code",
   "execution_count": null,
   "metadata": {},
   "outputs": [],
   "source": [
    "total.get_returns()"
   ]
  },
  {
   "cell_type": "code",
   "execution_count": null,
   "metadata": {},
   "outputs": [],
   "source": [
    "total.get_benchmark()"
   ]
  },
  {
   "cell_type": "code",
   "execution_count": null,
   "metadata": {
    "scrolled": true
   },
   "outputs": [],
   "source": [
    "rsq(sec1=total, sec2=total.benchmark, col1='Return', col2='Return')"
   ]
  },
  {
   "cell_type": "code",
   "execution_count": null,
   "metadata": {
    "scrolled": true
   },
   "outputs": [],
   "source": [
    "beta(sec1=total, sec2=total.benchmark, col1='Return', col2='Return')"
   ]
  },
  {
   "cell_type": "code",
   "execution_count": null,
   "metadata": {},
   "outputs": [],
   "source": [
    "alpha(sec1=total, sec2=total.benchmark, col1='Return', col2='Return', risk_free_rate=.004484)"
   ]
  },
  {
   "cell_type": "code",
   "execution_count": null,
   "metadata": {},
   "outputs": [],
   "source": [
    "# show correlation of positions\n",
    "plot_cross_correlation_matrix(portfolio=tot)"
   ]
  },
  {
   "cell_type": "code",
   "execution_count": null,
   "metadata": {},
   "outputs": [],
   "source": []
  },
  {
   "cell_type": "code",
   "execution_count": null,
   "metadata": {},
   "outputs": [],
   "source": []
  },
  {
   "cell_type": "markdown",
   "metadata": {},
   "source": [
    "## Performance analysis of individual securities"
   ]
  },
  {
   "cell_type": "code",
   "execution_count": null,
   "metadata": {},
   "outputs": [],
   "source": [
    "from etfs.visualization.analysis import plot_security_performance"
   ]
  },
  {
   "cell_type": "code",
   "execution_count": null,
   "metadata": {
    "scrolled": false
   },
   "outputs": [],
   "source": [
    "plot_security_performance(portfolio=tot, ticker='OKTA')"
   ]
  },
  {
   "cell_type": "code",
   "execution_count": null,
   "metadata": {
    "scrolled": false
   },
   "outputs": [],
   "source": [
    "for ticker in tot.tickers:\n",
    "    plot_security_performance(portfolio=tot, ticker=ticker)"
   ]
  },
  {
   "cell_type": "code",
   "execution_count": null,
   "metadata": {},
   "outputs": [],
   "source": []
  },
  {
   "cell_type": "code",
   "execution_count": null,
   "metadata": {},
   "outputs": [],
   "source": []
  }
 ],
 "metadata": {
  "kernelspec": {
   "display_name": "Python 3",
   "language": "python",
   "name": "python3"
  },
  "language_info": {
   "codemirror_mode": {
    "name": "ipython",
    "version": 3
   },
   "file_extension": ".py",
   "mimetype": "text/x-python",
   "name": "python",
   "nbconvert_exporter": "python",
   "pygments_lexer": "ipython3",
   "version": "3.8.2"
  }
 },
 "nbformat": 4,
 "nbformat_minor": 2
}

{
 "cells": [
  {
   "cell_type": "markdown",
   "metadata": {},
   "source": [
    "# My portfolios"
   ]
  },
  {
   "cell_type": "code",
   "execution_count": 1,
   "metadata": {
    "scrolled": true
   },
   "outputs": [],
   "source": [
    "%load_ext autoreload\n",
    "%autoreload 2"
   ]
  },
  {
   "cell_type": "code",
   "execution_count": 2,
   "metadata": {},
   "outputs": [
    {
     "name": "stderr",
     "output_type": "stream",
     "text": [
      "/Users/akuepper/anaconda/envs/etfs_dev/lib/python3.6/importlib/_bootstrap.py:219: RuntimeWarning: numpy.dtype size changed, may indicate binary incompatibility. Expected 96, got 88\n",
      "  return f(*args, **kwds)\n",
      "/Users/akuepper/anaconda/envs/etfs_dev/lib/python3.6/importlib/_bootstrap.py:219: RuntimeWarning: numpy.dtype size changed, may indicate binary incompatibility. Expected 96, got 88\n",
      "  return f(*args, **kwds)\n",
      "/Users/akuepper/anaconda/envs/etfs_dev/lib/python3.6/importlib/_bootstrap.py:219: RuntimeWarning: numpy.dtype size changed, may indicate binary incompatibility. Expected 96, got 88\n",
      "  return f(*args, **kwds)\n"
     ]
    }
   ],
   "source": [
    "import pandas as pd\n",
    "import matplotlib.pyplot as plt\n",
    "import robin_stocks as r\n",
    "import etfs as et"
   ]
  },
  {
   "cell_type": "code",
   "execution_count": 3,
   "metadata": {},
   "outputs": [
    {
     "name": "stderr",
     "output_type": "stream",
     "text": [
      "/Users/akuepper/anaconda/envs/etfs_dev/lib/python3.6/importlib/_bootstrap.py:219: RuntimeWarning: numpy.dtype size changed, may indicate binary incompatibility. Expected 96, got 88\n",
      "  return f(*args, **kwds)\n"
     ]
    }
   ],
   "source": [
    "from etfs.portfolio.io import import_portfolio, import_portfolio_robinhood, import_portfolio_vanguard, \\\n",
    "                              parse_portfolio, parse_portfolio_vanguard\n",
    "from etfs.stats.basics import resample_df, runrate_column, shift_column, \\\n",
    "                              standard_deviation_column, difference, rsq, beta, alpha\n",
    "from etfs.utils.helpers import todays_date\n",
    "from etfs.visualization.trends import plot_composition\n",
    "from etfs.visualization.analysis import plot_cross_correlation_matrix"
   ]
  },
  {
   "cell_type": "code",
   "execution_count": null,
   "metadata": {},
   "outputs": [],
   "source": []
  },
  {
   "cell_type": "code",
   "execution_count": null,
   "metadata": {},
   "outputs": [],
   "source": []
  },
  {
   "cell_type": "markdown",
   "metadata": {},
   "source": [
    "## RobinHood"
   ]
  },
  {
   "cell_type": "code",
   "execution_count": 4,
   "metadata": {},
   "outputs": [],
   "source": [
    "# access password file\n",
    "f = open(\"../../../.etfs.txt\",\"r\")\n",
    "lines = f.readlines()\n",
    "username = lines[0].strip().split('\\n', 0)\n",
    "password = lines[1].strip().split('\\n', 0)\n",
    "f.close()"
   ]
  },
  {
   "cell_type": "code",
   "execution_count": 5,
   "metadata": {},
   "outputs": [
    {
     "name": "stdout",
     "output_type": "stream",
     "text": [
      "Please Type In The MFA Code: 648940\n"
     ]
    }
   ],
   "source": [
    "access_token = r.login(username, password)"
   ]
  },
  {
   "cell_type": "code",
   "execution_count": 8,
   "metadata": {
    "scrolled": true
   },
   "outputs": [
    {
     "name": "stdout",
     "output_type": "stream",
     "text": [
      "Found Additional pages.\n",
      "Loading page 2 ...\n",
      "Loading page 3 ...\n",
      "Loading page 4 ...\n",
      "Loading page 5 ...\n",
      "Loading page 6 ...\n",
      "Loading page 7 ...\n",
      "Loading page 8 ...\n",
      "Loading page 9 ...\n",
      "Loading page 10 ...\n",
      "Loading page 11 ...\n",
      "Loading page 12 ...\n",
      "Loading page 13 ...\n",
      "Parsing orders ...\n",
      "Parsing bank transfers ...\n",
      "Parsing dividends ...\n",
      "Adding promotional stock ...\n",
      "depositing 550.00 USD (new balance: 550.00 USD)\n",
      "Checking ../data/MSFT.csv\n",
      "Saving ../data/MSFT.csv\n",
      "Checking ../data/MSFT.csv\n",
      "Saving ../data/MSFT.csv\n",
      "buying 1.00 MSFT (new balance: 455.88 USD)\n",
      "buying 1.00 MSFT (new balance: 361.52 USD)\n",
      "Checking ../data/AAPL.csv\n",
      "Saving ../data/AAPL.csv\n",
      "Checking ../data/AAPL.csv\n",
      "Saving ../data/AAPL.csv\n",
      "buying 1.00 AAPL (new balance: 193.84 USD)\n",
      "Checking ../data/BABA.csv\n",
      "Saving ../data/BABA.csv\n",
      "Checking ../data/BABA.csv\n",
      "Saving ../data/BABA.csv\n",
      "buying 1.00 BABA (new balance: 0.50 USD)\n",
      "Checking ../data/CHK.csv\n",
      "Saving ../data/CHK.csv\n",
      "Checking ../data/CHK.csv\n",
      "Saving ../data/CHK.csv\n",
      "buying 1.00 CHK (new balance: 0.50 USD)\n",
      "dividend AAPL 0.63 USD (new balance: 1.13 USD)\n",
      "depositing 550.00 USD (new balance: 551.13 USD)\n",
      "Checking ../data/W.csv\n",
      "Saving ../data/W.csv\n",
      "Checking ../data/W.csv\n",
      "Saving ../data/W.csv\n",
      "buying 7.00 W (new balance: 23.26 USD)\n",
      "dividend MSFT 0.84 USD (new balance: 24.10 USD)\n",
      "Checking ../data/DB.csv\n",
      "Saving ../data/DB.csv\n",
      "Checking ../data/DB.csv\n",
      "Saving ../data/DB.csv\n",
      "buying 1.00 DB (new balance: 9.74 USD)\n",
      "buying 1.00 DB (new balance: -3.30 USD)\n",
      "selling 1.00 CHK (new balance: 0.40 USD)\n",
      "dividend AAPL 0.73 USD (new balance: 1.11 USD)\n",
      "dividend DB 0.25 USD (new balance: 1.36 USD)\n",
      "dividend MSFT 0.84 USD (new balance: 2.20 USD)\n",
      "depositing 550.00 USD (new balance: 552.20 USD)\n",
      "Checking ../data/AMD.csv\n",
      "Saving ../data/AMD.csv\n",
      "Checking ../data/AMD.csv\n",
      "Saving ../data/AMD.csv\n",
      "buying 14.00 AMD (new balance: 316.86 USD)\n",
      "buying 3.00 AMD (new balance: 266.18 USD)\n",
      "Checking ../data/IQ.csv\n",
      "Saving ../data/IQ.csv\n",
      "Checking ../data/IQ.csv\n",
      "Saving ../data/IQ.csv\n",
      "buying 6.00 IQ (new balance: 2.55 USD)\n",
      "Checking ../data/JD.csv\n",
      "Saving ../data/JD.csv\n",
      "Checking ../data/JD.csv\n",
      "Saving ../data/JD.csv\n",
      "buying 6.00 JD (new balance: -249.45 USD)\n",
      "selling 2.00 W (new balance: -21.53 USD)\n",
      "selling 2.00 DB (new balance: 0.73 USD)\n",
      "depositing 220.00 USD (new balance: 220.71 USD)\n",
      "buying 2.00 IQ (new balance: 147.58 USD)\n",
      "buying 2.00 IQ (new balance: 76.06 USD)\n",
      "buying 2.00 IQ (new balance: 5.55 USD)\n",
      "depositing 180.00 USD (new balance: 185.55 USD)\n",
      "buying 6.00 IQ (new balance: 5.01 USD)\n",
      "Checking ../data/TSM.csv\n",
      "Saving ../data/TSM.csv\n",
      "Checking ../data/TSM.csv\n",
      "Saving ../data/TSM.csv\n",
      "buying 3.00 TSM (new balance: -109.02 USD)\n",
      "selling 1.00 W (new balance: 15.89 USD)\n",
      "buying 1.00 DB (new balance: 3.88 USD)\n",
      "buying 4.00 JD (new balance: -138.08 USD)\n",
      "selling 1.00 DB (new balance: -126.02 USD)\n",
      "selling 1.00 W (new balance: 0.63 USD)\n",
      "depositing 360.00 USD (new balance: 360.61 USD)\n",
      "Checking ../data/FB.csv\n",
      "Saving ../data/FB.csv\n",
      "Checking ../data/FB.csv\n",
      "Saving ../data/FB.csv\n",
      "buying 2.00 FB (new balance: 12.16 USD)\n",
      "buying 3.00 JD (new balance: -94.49 USD)\n",
      "selling 3.00 TSM (new balance: 29.02 USD)\n",
      "selling 2.00 MSFT (new balance: 241.27 USD)\n",
      "selling 1.00 AAPL (new balance: 441.61 USD)\n",
      "selling 17.00 AMD (new balance: 756.69 USD)\n",
      "Checking ../data/SONO.csv\n",
      "Saving ../data/SONO.csv\n",
      "Checking ../data/SONO.csv\n",
      "Saving ../data/SONO.csv\n",
      "buying 16.00 SONO (new balance: 422.27 USD)\n",
      "buying 2.00 IQ (new balance: 361.57 USD)\n",
      "Checking ../data/BIDU.csv\n",
      "Saving ../data/BIDU.csv\n",
      "Checking ../data/BIDU.csv\n",
      "Saving ../data/BIDU.csv\n",
      "buying 3.00 BIDU (new balance: -328.85 USD)\n",
      "selling 3.00 W (new balance: 17.89 USD)\n",
      "depositing 550.00 USD (new balance: 567.87 USD)\n",
      "buying 19.00 IQ (new balance: 18.77 USD)\n",
      "depositing 300.00 USD (new balance: 318.77 USD)\n",
      "buying 18.00 SONO (new balance: 14.22 USD)\n",
      "buying 11.00 JD (new balance: -334.42 USD)\n",
      "selling 2.00 FB (new balance: 18.82 USD)\n",
      "buying 1.00 SONO (new balance: 1.11 USD)\n",
      "depositing 30.00 USD (new balance: 31.11 USD)\n",
      "Checking ../data/DIS.csv\n",
      "Saving ../data/DIS.csv\n",
      "Checking ../data/DIS.csv\n",
      "Saving ../data/DIS.csv\n",
      "buying 5.00 DIS (new balance: -528.96 USD)\n",
      "selling 19.00 IQ (new balance: 22.44 USD)\n",
      "depositing 350.00 USD (new balance: 372.42 USD)\n",
      "buying 2.00 BABA (new balance: 18.06 USD)\n",
      "depositing 600.00 USD (new balance: 618.06 USD)\n",
      "buying 21.00 JD (new balance: 5.29 USD)\n",
      "depositing 600.00 USD (new balance: 605.29 USD)\n",
      "buying 15.00 JD (new balance: 201.04 USD)\n",
      "buying 7.00 IQ (new balance: 14.84 USD)\n",
      "buying 3.00 SONO (new balance: -29.11 USD)\n",
      "Checking ../data/SQ.csv\n",
      "Saving ../data/SQ.csv\n",
      "Checking ../data/SQ.csv\n",
      "Saving ../data/SQ.csv\n",
      "buying 6.00 SQ (new balance: -537.43 USD)\n",
      "selling 1.00 DIS (new balance: -427.45 USD)\n",
      "selling 1.00 BIDU (new balance: -203.69 USD)\n",
      "selling 2.00 DIS (new balance: 16.25 USD)\n",
      "buying 16.00 SONO (new balance: -207.09 USD)\n",
      "selling 2.00 DIS (new balance: 15.69 USD)\n",
      "depositing 620.00 USD (new balance: 635.67 USD)\n",
      "Checking ../data/TCEHY.csv\n",
      "Saving ../data/TCEHY.csv\n",
      "Checking ../data/TCEHY.csv\n",
      "Saving ../data/TCEHY.csv\n",
      "buying 15.00 TCEHY (new balance: 13.77 USD)\n",
      "depositing 1000.00 USD (new balance: 1013.77 USD)\n",
      "buying 2.00 JD (new balance: 966.49 USD)\n",
      "buying 18.00 JD (new balance: 530.89 USD)\n",
      "buying 1.00 BIDU (new balance: 322.32 USD)\n",
      "buying 2.00 BABA (new balance: 10.04 USD)\n",
      "depositing 2000.00 USD (new balance: 2010.04 USD)\n",
      "buying 5.00 TCEHY (new balance: 1834.84 USD)\n",
      "buying 2.00 BABA (new balance: 1557.80 USD)\n",
      "buying 6.00 SQ (new balance: 1140.27 USD)\n",
      "buying 13.00 SONO (new balance: 969.04 USD)\n",
      "buying 2.00 IQ (new balance: 917.80 USD)\n",
      "buying 2.00 BIDU (new balance: 516.04 USD)\n",
      "buying 7.00 TCEHY (new balance: 260.68 USD)\n",
      "buying 10.00 IQ (new balance: 3.98 USD)\n",
      "depositing 1000.00 USD (new balance: 1003.98 USD)\n",
      "buying 46.00 IQ (new balance: 13.24 USD)\n",
      "depositing 1100.00 USD (new balance: 1113.24 USD)\n",
      "Checking ../data/GOOG.csv\n",
      "Saving ../data/GOOG.csv\n",
      "Checking ../data/GOOG.csv\n",
      "Saving ../data/GOOG.csv\n",
      "buying 1.00 GOOG (new balance: 43.27 USD)\n",
      "buying 6.00 FB (new balance: -864.23 USD)\n",
      "selling 1.00 SQ (new balance: -786.37 USD)\n",
      "selling 67.00 SONO (new balance: 114.09 USD)\n",
      "Checking ../data/NFLX.csv\n",
      "Saving ../data/NFLX.csv\n",
      "Checking ../data/NFLX.csv\n",
      "Saving ../data/NFLX.csv\n",
      "buying 3.00 NFLX (new balance: -806.78 USD)\n",
      "buying 10.00 W (new balance: -1745.26 USD)\n",
      "selling 1.00 IQ (new balance: -1724.34 USD)\n",
      "selling 42.00 IQ (new balance: -846.50 USD)\n",
      "selling 40.00 JD (new balance: 114.27 USD)\n",
      "buying 54.00 SONO (new balance: -831.62 USD)\n",
      "selling 6.00 FB (new balance: 10.96 USD)\n",
      "depositing 1000.00 USD (new balance: 1010.93 USD)\n",
      "buying 17.00 IQ (new balance: 679.29 USD)\n",
      "buying 30.00 SONO (new balance: 318.20 USD)\n",
      "buying 5.00 SQ (new balance: 4.30 USD)\n",
      "depositing 1000.00 USD (new balance: 1004.30 USD)\n",
      "Checking ../data/NIO.csv\n",
      "Saving ../data/NIO.csv\n",
      "Checking ../data/NIO.csv\n",
      "Saving ../data/NIO.csv\n",
      "buying 4.00 NIO (new balance: 974.03 USD)\n",
      "Checking ../data/ZTO.csv\n",
      "Saving ../data/ZTO.csv\n",
      "Checking ../data/ZTO.csv\n",
      "Saving ../data/ZTO.csv\n",
      "buying 2.00 ZTO (new balance: 941.61 USD)\n",
      "Checking ../data/UNH.csv\n",
      "Saving ../data/UNH.csv\n",
      "Checking ../data/UNH.csv\n",
      "Saving ../data/UNH.csv\n",
      "buying 1.00 UNH (new balance: 672.18 USD)\n",
      "buying 1.00 SQ (new balance: 610.49 USD)\n",
      "buying 1.00 NFLX (new balance: 339.16 USD)\n",
      "buying 7.00 JD (new balance: 181.10 USD)\n",
      "buying 1.00 BIDU (new balance: 2.96 USD)\n",
      "depositing 1000.00 USD (new balance: 1002.96 USD)\n",
      "buying 1.00 UNH (new balance: 758.46 USD)\n",
      "buying 15.00 NIO (new balance: 658.44 USD)\n",
      "buying 16.00 SONO (new balance: 491.00 USD)\n",
      "buying 9.00 IQ (new balance: 351.63 USD)\n",
      "buying 5.00 JD (new balance: 251.08 USD)\n",
      "buying 1.00 SQ (new balance: 192.55 USD)\n",
      "buying 2.00 W (new balance: 16.08 USD)\n",
      "depositing 1000.00 USD (new balance: 1016.08 USD)\n",
      "buying 8.00 ZTO (new balance: 887.44 USD)\n",
      "buying 1.00 UNH (new balance: 641.39 USD)\n",
      "buying 21.00 NIO (new balance: 506.86 USD)\n",
      "buying 1.00 BIDU (new balance: 344.39 USD)\n",
      "buying 1.00 SQ (new balance: 288.16 USD)\n",
      "buying 15.00 SONO (new balance: 141.01 USD)\n",
      "buying 1.00 BABA (new balance: 3.64 USD)\n",
      "buying 1.00 UNH (new balance: -239.50 USD)\n",
      "selling 1.00 JD (new balance: -215.74 USD)\n",
      "selling 1.00 BABA (new balance: -62.89 USD)\n",
      "selling 2.00 SONO (new balance: -40.87 USD)\n",
      "selling 1.00 SQ (new balance: 25.19 USD)\n",
      "selling 5.00 SONO (new balance: 79.25 USD)\n",
      "selling 1.00 JD (new balance: 102.85 USD)\n"
     ]
    },
    {
     "name": "stdout",
     "output_type": "stream",
     "text": [
      "Checking ../data/NTDOY.csv\n",
      "Saving ../data/NTDOY.csv\n",
      "Checking ../data/NTDOY.csv\n",
      "Saving ../data/NTDOY.csv\n",
      "buying 1.00 NTDOY (new balance: 67.93 USD)\n",
      "buying 5.00 NIO (new balance: 35.29 USD)\n",
      "Checking ../data/CVS.csv\n",
      "Saving ../data/CVS.csv\n",
      "Checking ../data/CVS.csv\n",
      "Saving ../data/CVS.csv\n",
      "buying 1.00 CVS (new balance: -30.73 USD)\n",
      "selling 2.00 IQ (new balance: 5.55 USD)\n",
      "buying 4.00 NIO (new balance: -20.71 USD)\n",
      "buying 9.00 NTDOY (new balance: -333.42 USD)\n",
      "selling 1.00 NFLX (new balance: 3.58 USD)\n",
      "buying 2.00 ZTO (new balance: -30.88 USD)\n",
      "selling 3.00 SONO (new balance: 2.90 USD)\n",
      "depositing 1000.00 USD (new balance: 1002.89 USD)\n",
      "buying 1.00 CVS (new balance: 939.36 USD)\n",
      "buying 5.00 CVS (new balance: 621.51 USD)\n",
      "buying 5.00 CVS (new balance: 301.46 USD)\n",
      "buying 1.00 UNH (new balance: 50.60 USD)\n",
      "buying 45.00 NIO (new balance: -253.07 USD)\n",
      "selling 1.00 UNH (new balance: 6.60 USD)\n",
      "selling 1.00 NTDOY (new balance: 44.88 USD)\n",
      "selling 1.00 SQ (new balance: 116.30 USD)\n",
      "Checking ../data/CRSP.csv\n",
      "Saving ../data/CRSP.csv\n",
      "Checking ../data/CRSP.csv\n",
      "Saving ../data/CRSP.csv\n",
      "buying 3.00 CRSP (new balance: 17.49 USD)\n",
      "Checking ../data/HUYA.csv\n",
      "Saving ../data/HUYA.csv\n",
      "Checking ../data/HUYA.csv\n",
      "Saving ../data/HUYA.csv\n",
      "buying 2.00 HUYA (new balance: -26.88 USD)\n",
      "Checking ../data/AYX.csv\n",
      "Saving ../data/AYX.csv\n",
      "Checking ../data/AYX.csv\n",
      "Saving ../data/AYX.csv\n",
      "buying 1.00 AYX (new balance: -97.31 USD)\n",
      "selling 1.00 IQ (new balance: -77.60 USD)\n",
      "selling 1.00 SQ (new balance: 0.30 USD)\n",
      "buying 2.00 HUYA (new balance: -39.70 USD)\n",
      "selling 1.00 IQ (new balance: -20.53 USD)\n",
      "selling 2.00 IQ (new balance: 17.79 USD)\n",
      "depositing 1000.00 USD (new balance: 1017.77 USD)\n",
      "Checking ../data/MDB.csv\n",
      "Saving ../data/MDB.csv\n",
      "Checking ../data/MDB.csv\n",
      "Saving ../data/MDB.csv\n",
      "buying 1.00 MDB (new balance: 927.12 USD)\n",
      "Checking ../data/OKTA.csv\n",
      "Saving ../data/OKTA.csv\n",
      "Checking ../data/OKTA.csv\n",
      "Saving ../data/OKTA.csv\n",
      "buying 1.00 OKTA (new balance: 845.37 USD)\n",
      "Checking ../data/WDAY.csv\n",
      "Saving ../data/WDAY.csv\n",
      "Checking ../data/WDAY.csv\n",
      "Saving ../data/WDAY.csv\n",
      "buying 1.00 WDAY (new balance: 662.81 USD)\n",
      "Checking ../data/FTNT.csv\n",
      "Saving ../data/FTNT.csv\n",
      "Checking ../data/FTNT.csv\n",
      "Saving ../data/FTNT.csv\n",
      "buying 1.00 FTNT (new balance: 586.00 USD)\n",
      "Checking ../data/EBAY.csv\n",
      "Saving ../data/EBAY.csv\n",
      "Checking ../data/EBAY.csv\n",
      "Saving ../data/EBAY.csv\n",
      "buying 3.00 EBAY (new balance: 486.16 USD)\n",
      "buying 6.00 HUYA (new balance: 362.58 USD)\n",
      "buying 3.00 EBAY (new balance: 261.84 USD)\n",
      "buying 2.00 CVS (new balance: 130.16 USD)\n",
      "buying 8.00 ZTO (new balance: -6.80 USD)\n",
      "buying 3.00 NTDOY (new balance: -117.50 USD)\n",
      "selling 1.00 SONO (new balance: -105.59 USD)\n",
      "selling 9.00 NIO (new balance: -34.78 USD)\n",
      "selling 1.00 JD (new balance: -9.75 USD)\n",
      "selling 1.00 IQ (new balance: 10.55 USD)\n",
      "dividend CVS 6.00 USD (new balance: 16.53 USD)\n",
      "buying 2.00 HUYA (new balance: -23.47 USD)\n",
      "Checking ../data/ZEN.csv\n",
      "Saving ../data/ZEN.csv\n",
      "Checking ../data/ZEN.csv\n",
      "Saving ../data/ZEN.csv\n",
      "buying 1.00 ZEN (new balance: -92.00 USD)\n",
      "selling 8.00 SONO (new balance: 16.44 USD)\n",
      "buying 19.00 SONO (new balance: -185.73 USD)\n",
      "selling 1.00 TCEHY (new balance: -141.66 USD)\n",
      "selling 1.00 JD (new balance: -117.07 USD)\n",
      "selling 1.00 IQ (new balance: -96.20 USD)\n",
      "selling 1.00 JD (new balance: -71.66 USD)\n",
      "selling 4.00 IQ (new balance: 11.85 USD)\n",
      "buying 3.00 HUYA (new balance: -46.85 USD)\n",
      "selling 3.00 ZTO (new balance: 11.02 USD)\n",
      "Checking ../data/NVDA.csv\n",
      "Saving ../data/NVDA.csv\n",
      "Checking ../data/NVDA.csv\n",
      "Saving ../data/NVDA.csv\n",
      "buying 1.00 NVDA (new balance: -143.80 USD)\n",
      "selling 2.00 IQ (new balance: -99.86 USD)\n",
      "selling 2.00 SONO (new balance: -77.34 USD)\n",
      "selling 8.00 SONO (new balance: 12.88 USD)\n",
      "buying 2.00 NTDOY (new balance: -54.02 USD)\n",
      "selling 1.00 EBAY (new balance: -17.43 USD)\n",
      "selling 1.00 EBAY (new balance: 19.15 USD)\n",
      "selling 1.00 ZTO (new balance: 38.08 USD)\n",
      "buying 2.00 NTDOY (new balance: -28.38 USD)\n",
      "buying 1.00 AYX (new balance: -100.11 USD)\n",
      "buying 1.00 AYX (new balance: -171.84 USD)\n",
      "buying 1.00 TCEHY (new balance: -214.74 USD)\n",
      "selling 1.00 CVS (new balance: -145.13 USD)\n",
      "selling 8.00 ZTO (new balance: 7.81 USD)\n",
      "buying 1.00 AYX (new balance: -64.43 USD)\n",
      "buying 1.00 CVS (new balance: -127.10 USD)\n",
      "selling 3.00 IQ (new balance: -59.00 USD)\n",
      "selling 7.00 NIO (new balance: -6.17 USD)\n",
      "selling 1.00 HUYA (new balance: 15.21 USD)\n",
      "buying 2.00 CVS (new balance: -108.48 USD)\n",
      "buying 1.00 BIDU (new balance: -275.77 USD)\n",
      "selling 1.00 NTDOY (new balance: -239.85 USD)\n",
      "selling 2.00 HUYA (new balance: -191.27 USD)\n",
      "selling 7.00 IQ (new balance: 2.23 USD)\n",
      "buying 1.00 CVS (new balance: -59.73 USD)\n",
      "selling 8.00 NIO (new balance: 11.07 USD)\n",
      "buying 2.00 SONO (new balance: -10.83 USD)\n",
      "buying 1.00 ZEN (new balance: -89.96 USD)\n",
      "buying 5.00 NTDOY (new balance: -262.71 USD)\n",
      "buying 1.00 CVS (new balance: -323.79 USD)\n",
      "buying 1.00 CVS (new balance: -385.03 USD)\n",
      "buying 1.00 OKTA (new balance: -469.72 USD)\n",
      "buying 1.00 WDAY (new balance: -666.30 USD)\n",
      "buying 1.00 HUYA (new balance: -690.93 USD)\n",
      "buying 1.00 UNH (new balance: -955.75 USD)\n",
      "selling 1.00 MDB (new balance: -854.07 USD)\n",
      "selling 6.00 NIO (new balance: -796.31 USD)\n",
      "selling 1.00 W (new balance: -632.69 USD)\n",
      "selling 1.00 W (new balance: -472.58 USD)\n",
      "selling 1.00 W (new balance: -312.67 USD)\n",
      "selling 1.00 W (new balance: -153.55 USD)\n",
      "selling 1.00 W (new balance: 4.86 USD)\n",
      "buying 1.00 ZTO (new balance: -14.69 USD)\n",
      "buying 1.00 CVS (new balance: -73.22 USD)\n",
      "selling 1.00 SQ (new balance: 6.14 USD)\n",
      "depositing 1000.00 USD (new balance: 1006.12 USD)\n",
      "buying 3.00 NTDOY (new balance: 903.25 USD)\n",
      "buying 1.00 AYX (new balance: 826.34 USD)\n",
      "buying 3.00 AYX (new balance: 600.20 USD)\n",
      "buying 1.00 FTNT (new balance: 512.32 USD)\n",
      "buying 1.00 NVDA (new balance: 357.12 USD)\n",
      "buying 6.00 AYX (new balance: -95.58 USD)\n",
      "buying 7.00 SONO (new balance: -168.36 USD)\n",
      "buying 2.00 AYX (new balance: -320.96 USD)\n",
      "selling 1.00 BABA (new balance: -138.30 USD)\n",
      "selling 1.00 IQ (new balance: -111.25 USD)\n",
      "selling 1.00 HUYA (new balance: -85.37 USD)\n",
      "selling 4.00 JD (new balance: 26.22 USD)\n",
      "buying 1.00 WDAY (new balance: -163.29 USD)\n",
      "selling 1.00 NVDA (new balance: -6.96 USD)\n",
      "selling 1.00 CRSP (new balance: 32.77 USD)\n",
      "buying 1.00 WDAY (new balance: -149.14 USD)\n",
      "selling 11.00 NIO (new balance: -36.83 USD)\n",
      "selling 4.00 NIO (new balance: 3.71 USD)\n",
      "buying 3.00 OKTA (new balance: -234.82 USD)\n",
      "buying 1.00 WDAY (new balance: -417.12 USD)\n",
      "buying 2.00 AYX (new balance: -551.78 USD)\n",
      "selling 1.00 NVDA (new balance: -394.44 USD)\n",
      "selling 2.00 TCEHY (new balance: -301.34 USD)\n",
      "selling 1.00 JD (new balance: -271.77 USD)\n",
      "selling 3.00 JD (new balance: -183.01 USD)\n",
      "selling 1.00 BIDU (new balance: -14.80 USD)\n",
      "selling 1.00 HUYA (new balance: 14.05 USD)\n",
      "buying 4.00 NIO (new balance: -18.61 USD)\n",
      "buying 4.00 NIO (new balance: -51.49 USD)\n",
      "selling 1.00 CRSP (new balance: -13.03 USD)\n",
      "selling 1.00 ZTO (new balance: 7.91 USD)\n",
      "buying 20.00 NIO (new balance: -138.07 USD)\n",
      "dividend TCEHY 0.08 USD (new balance: -137.99 USD)\n",
      "selling 2.00 AYX (new balance: 2.75 USD)\n",
      "depositing 1000.00 USD (new balance: 1002.73 USD)\n",
      "buying 12.00 ZTO (new balance: 778.33 USD)\n",
      "buying 39.00 NIO (new balance: 525.28 USD)\n",
      "buying 40.00 NIO (new balance: 271.29 USD)\n",
      "buying 13.00 ZTO (new balance: 27.67 USD)\n",
      "dividend UNH 4.50 USD (new balance: 32.17 USD)\n",
      "buying 18.00 NIO (new balance: -75.62 USD)\n",
      "dividend EBAY 0.56 USD (new balance: -75.06 USD)\n",
      "selling 1.00 AYX (new balance: 3.39 USD)\n",
      "buying 10.00 HUYA (new balance: -274.03 USD)\n",
      "Checking ../data/MELI.csv\n",
      "Saving ../data/MELI.csv\n",
      "Checking ../data/MELI.csv\n",
      "Saving ../data/MELI.csv\n",
      "buying 1.00 MELI (new balance: -774.61 USD)\n",
      "buying 14.00 NIO (new balance: -857.21 USD)\n",
      "selling 23.00 NTDOY (new balance: -71.76 USD)\n",
      "selling 1.00 AYX (new balance: 10.95 USD)\n",
      "dividend NVDA 0.16 USD (new balance: 11.09 USD)\n",
      "buying 1.00 NIO (new balance: 5.73 USD)\n",
      "depositing 1000.00 USD (new balance: 1005.73 USD)\n",
      "buying 1.00 EBAY (new balance: 968.70 USD)\n",
      "buying 2.00 EBAY (new balance: 894.66 USD)\n",
      "buying 3.00 FTNT (new balance: 643.63 USD)\n",
      "buying 3.00 ZEN (new balance: 389.82 USD)\n",
      "buying 29.00 ZTO (new balance: -133.63 USD)\n",
      "buying 1.00 WDAY (new balance: -326.24 USD)\n",
      "buying 31.00 CRSP (new balance: -1426.95 USD)\n",
      "buying 1.00 MELI (new balance: -1934.13 USD)\n",
      "buying 5.00 IQ (new balance: -2052.73 USD)\n",
      "buying 33.00 NIO (new balance: -2220.31 USD)\n",
      "selling 1.00 HUYA (new balance: -2191.99 USD)\n",
      "selling 7.00 BIDU (new balance: -1044.57 USD)\n",
      "selling 20.00 CVS (new balance: 26.60 USD)\n",
      "buying 1.00 FTNT (new balance: -57.73 USD)\n",
      "selling 2.00 JD (new balance: 4.85 USD)\n",
      "buying 2.00 FTNT (new balance: -164.53 USD)\n",
      "selling 2.00 CRSP (new balance: -87.97 USD)\n",
      "selling 12.00 NIO (new balance: -22.10 USD)\n"
     ]
    },
    {
     "name": "stdout",
     "output_type": "stream",
     "text": [
      "selling 10.00 SONO (new balance: 88.90 USD)\n",
      "Checking ../data/MOMO.csv\n",
      "Saving ../data/MOMO.csv\n",
      "Checking ../data/MOMO.csv\n",
      "Saving ../data/MOMO.csv\n",
      "buying 28.00 MOMO (new balance: -1044.00 USD)\n",
      "selling 6.00 BABA (new balance: 30.90 USD)\n",
      "buying 2.00 HUYA (new balance: -20.01 USD)\n",
      "buying 2.00 HUYA (new balance: -70.75 USD)\n",
      "selling 2.00 TCEHY (new balance: 25.41 USD)\n",
      "dividend ZTO 7.59 USD (new balance: 32.98 USD)\n",
      "buying 5.00 HUYA (new balance: -88.49 USD)\n",
      "selling 1.00 OKTA (new balance: 3.61 USD)\n",
      "buying 16.00 NIO (new balance: -76.38 USD)\n",
      "buying 4.00 HUYA (new balance: -168.33 USD)\n",
      "selling 7.00 SONO (new balance: -86.57 USD)\n",
      "selling 1.00 FTNT (new balance: 3.03 USD)\n",
      "buying 1.00 MOMO (new balance: -33.84 USD)\n",
      "selling 3.00 ZTO (new balance: 23.55 USD)\n",
      "buying 3.00 HUYA (new balance: -44.89 USD)\n",
      "buying 21.00 NIO (new balance: -139.81 USD)\n",
      "selling 2.00 CRSP (new balance: -61.33 USD)\n",
      "selling 1.00 AYX (new balance: 23.44 USD)\n",
      "buying 2.00 CRSP (new balance: -49.57 USD)\n",
      "buying 3.00 HUYA (new balance: -116.78 USD)\n",
      "buying 2.00 HUYA (new balance: -161.60 USD)\n",
      "selling 5.00 SONO (new balance: -102.20 USD)\n",
      "selling 1.00 TCEHY (new balance: -51.74 USD)\n",
      "selling 3.00 ZTO (new balance: 6.41 USD)\n",
      "buying 5.00 HUYA (new balance: -104.86 USD)\n",
      "selling 24.00 NIO (new balance: 11.82 USD)\n",
      "buying 17.00 NIO (new balance: -67.08 USD)\n",
      "selling 3.00 IQ (new balance: 5.20 USD)\n",
      "buying 9.00 SONO (new balance: -93.82 USD)\n",
      "selling 20.00 NIO (new balance: 6.78 USD)\n",
      "buying 3.00 IQ (new balance: -57.97 USD)\n",
      "selling 2.00 CRSP (new balance: 21.88 USD)\n",
      "buying 2.00 EBAY (new balance: -54.30 USD)\n",
      "buying 4.00 MOMO (new balance: -189.58 USD)\n",
      "selling 1.00 WDAY (new balance: 15.60 USD)\n",
      "dividend MOMO 16.80 USD (new balance: 32.38 USD)\n",
      "depositing 1000.00 USD (new balance: 1032.38 USD)\n",
      "buying 6.00 NIO (new balance: 1003.64 USD)\n",
      "buying 7.00 EBAY (new balance: 734.07 USD)\n",
      "buying 3.00 OKTA (new balance: 421.06 USD)\n",
      "buying 5.00 FTNT (new balance: -42.64 USD)\n",
      "buying 101.00 SONO (new balance: -1128.39 USD)\n",
      "buying 46.00 HUYA (new balance: -2192.83 USD)\n",
      "buying 220.00 NIO (new balance: -3235.63 USD)\n",
      "buying 13.00 AYX (new balance: -4365.65 USD)\n",
      "buying 28.00 CRSP (new balance: -5455.56 USD)\n",
      "buying 5.00 WDAY (new balance: -6467.79 USD)\n",
      "selling 220.00 NIO (new balance: -5424.99 USD)\n",
      "selling 5.00 WDAY (new balance: -4413.29 USD)\n",
      "selling 101.00 SONO (new balance: -3327.57 USD)\n",
      "selling 46.00 HUYA (new balance: -2246.61 USD)\n",
      "selling 28.00 CRSP (new balance: -1144.00 USD)\n",
      "selling 13.00 AYX (new balance: 1.27 USD)\n",
      "buying 1.00 ZEN (new balance: -82.01 USD)\n",
      "buying 1.00 SQ (new balance: -149.56 USD)\n",
      "selling 2.00 MOMO (new balance: -78.80 USD)\n",
      "selling 1.00 AYX (new balance: 15.51 USD)\n",
      "buying 7.00 NIO (new balance: -18.10 USD)\n",
      "buying 1.00 FTNT (new balance: -103.46 USD)\n",
      "selling 1.00 OKTA (new balance: 2.04 USD)\n",
      "buying 2.00 HUYA (new balance: -42.44 USD)\n",
      "buying 1.00 MOMO (new balance: -75.35 USD)\n",
      "buying 3.00 JD (new balance: -156.62 USD)\n",
      "selling 1.00 EBAY (new balance: -118.94 USD)\n",
      "selling 1.00 CRSP (new balance: -78.72 USD)\n",
      "selling 1.00 ZEN (new balance: 7.61 USD)\n",
      "buying 2.00 EBAY (new balance: -66.67 USD)\n",
      "buying 1.00 OKTA (new balance: -169.55 USD)\n",
      "buying 3.00 IQ (new balance: -231.35 USD)\n",
      "selling 1.00 UNH (new balance: 7.63 USD)\n",
      "Checking ../data/LYFT.csv\n",
      "Saving ../data/LYFT.csv\n",
      "Checking ../data/LYFT.csv\n",
      "Saving ../data/LYFT.csv\n",
      "buying 1.00 LYFT (new balance: -43.37 USD)\n",
      "buying 19.00 LYFT (new balance: -1017.85 USD)\n",
      "buying 1.00 EBAY (new balance: -1054.76 USD)\n",
      "buying 3.00 MOMO (new balance: -1145.21 USD)\n",
      "selling 1.00 JD (new balance: -1117.19 USD)\n",
      "selling 5.00 WDAY (new balance: -125.01 USD)\n",
      "selling 3.00 JD (new balance: -38.34 USD)\n",
      "selling 5.00 SONO (new balance: 16.99 USD)\n",
      "buying 1.00 TCEHY (new balance: -25.69 USD)\n",
      "buying 4.00 HUYA (new balance: -103.85 USD)\n",
      "buying 3.00 IQ (new balance: -158.66 USD)\n",
      "selling 1.00 OKTA (new balance: -49.98 USD)\n",
      "selling 1.00 LYFT (new balance: 4.56 USD)\n",
      "buying 1.00 SONO (new balance: -5.71 USD)\n",
      "buying 4.00 NIO (new balance: -21.50 USD)\n",
      "buying 1.00 ZEN (new balance: -107.72 USD)\n",
      "buying 2.00 OKTA (new balance: -321.79 USD)\n",
      "buying 3.00 EBAY (new balance: -428.95 USD)\n",
      "buying 1.00 ZEN (new balance: -515.35 USD)\n",
      "buying 1.00 ZEN (new balance: -601.80 USD)\n",
      "buying 5.00 EBAY (new balance: -780.80 USD)\n",
      "buying 15.00 NIO (new balance: -839.58 USD)\n",
      "selling 3.00 NIO (new balance: -827.76 USD)\n",
      "selling 1.00 JD (new balance: -801.42 USD)\n",
      "selling 1.00 IQ (new balance: -782.74 USD)\n",
      "selling 1.00 AYX (new balance: -698.45 USD)\n",
      "selling 1.00 FTNT (new balance: -621.51 USD)\n",
      "selling 1.00 CRSP (new balance: -585.26 USD)\n",
      "selling 1.00 SQ (new balance: -522.24 USD)\n",
      "selling 1.00 TCEHY (new balance: -480.89 USD)\n",
      "selling 2.00 LYFT (new balance: -365.95 USD)\n",
      "selling 3.00 ZTO (new balance: -312.15 USD)\n",
      "selling 3.00 IQ (new balance: -256.06 USD)\n",
      "selling 5.00 SONO (new balance: -204.73 USD)\n",
      "selling 6.00 HUYA (new balance: -83.37 USD)\n",
      "selling 9.00 NIO (new balance: -47.91 USD)\n",
      "selling 1.00 LYFT (new balance: 10.02 USD)\n",
      "buying 6.00 NIO (new balance: -13.03 USD)\n",
      "buying 4.00 NIO (new balance: -28.55 USD)\n",
      "selling 1.00 HUYA (new balance: -7.59 USD)\n",
      "selling 1.00 SONO (new balance: 2.89 USD)\n",
      "buying 1.00 ZEN (new balance: -86.25 USD)\n",
      "Checking ../data/TSLA.csv\n",
      "Saving ../data/TSLA.csv\n",
      "Checking ../data/TSLA.csv\n",
      "Saving ../data/TSLA.csv\n",
      "buying 5.00 TSLA (new balance: -1038.84 USD)\n",
      "buying 2.00 SONO (new balance: -1059.72 USD)\n",
      "selling 3.00 NFLX (new balance: 18.99 USD)\n",
      "selling 10.00 NIO (new balance: 59.57 USD)\n",
      "buying 1.00 ZEN (new balance: -27.52 USD)\n",
      "buying 1.00 LYFT (new balance: -83.43 USD)\n",
      "buying 11.00 NIO (new balance: -124.90 USD)\n",
      "selling 1.00 MOMO (new balance: -96.51 USD)\n",
      "selling 4.00 HUYA (new balance: -12.29 USD)\n",
      "selling 1.00 MOMO (new balance: 15.73 USD)\n",
      "selling 1.00 HUYA (new balance: 36.81 USD)\n",
      "buying 1.00 ZEN (new balance: -47.61 USD)\n",
      "buying 6.00 NIO (new balance: -67.16 USD)\n",
      "buying 32.00 NIO (new balance: -171.42 USD)\n",
      "selling 1.00 W (new balance: -26.82 USD)\n",
      "selling 1.00 SONO (new balance: -16.54 USD)\n",
      "selling 1.00 ZTO (new balance: 1.48 USD)\n",
      "selling 1.00 IQ (new balance: 20.67 USD)\n",
      "buying 1.00 HUYA (new balance: -1.01 USD)\n",
      "buying 15.00 NIO (new balance: -47.36 USD)\n",
      "selling 1.00 LYFT (new balance: 9.46 USD)\n",
      "depositing 1000.00 USD (new balance: 1009.44 USD)\n",
      "buying 1.00 EBAY (new balance: 973.56 USD)\n",
      "buying 1.00 IQ (new balance: 955.48 USD)\n",
      "buying 1.00 SONO (new balance: 945.27 USD)\n",
      "buying 1.00 ZTO (new balance: 927.28 USD)\n",
      "Checking ../data/BND.csv\n",
      "Saving ../data/BND.csv\n",
      "Checking ../data/BND.csv\n",
      "Saving ../data/BND.csv\n",
      "buying 12.00 BND (new balance: -57.32 USD)\n",
      "buying 1.00 MOMO (new balance: -85.47 USD)\n",
      "buying 1.00 ZEN (new balance: -166.14 USD)\n",
      "buying 3.00 IQ (new balance: -220.23 USD)\n",
      "buying 1.00 JD (new balance: -246.35 USD)\n",
      "buying 3.00 HUYA (new balance: -310.38 USD)\n",
      "buying 1.00 FTNT (new balance: -381.80 USD)\n",
      "selling 1.00 LYFT (new balance: -320.74 USD)\n",
      "selling 304.00 NIO (new balance: 521.87 USD)\n",
      "buying 1.00 LYFT (new balance: 462.83 USD)\n",
      "selling 2.00 MOMO (new balance: 521.94 USD)\n",
      "buying 1.00 ZTO (new balance: 504.45 USD)\n",
      "buying 3.00 SONO (new balance: 473.85 USD)\n",
      "buying 1.00 ZTO (new balance: 456.31 USD)\n",
      "buying 1.00 JD (new balance: 430.33 USD)\n",
      "buying 2.00 HUYA (new balance: 388.19 USD)\n",
      "buying 2.00 IQ (new balance: 353.41 USD)\n",
      "buying 1.00 TCEHY (new balance: 311.38 USD)\n",
      "buying 1.00 MOMO (new balance: 282.20 USD)\n",
      "buying 1.00 IQ (new balance: 264.41 USD)\n",
      "buying 1.00 ZTO (new balance: 246.68 USD)\n",
      "Checking ../data/SNAP.csv\n",
      "Saving ../data/SNAP.csv\n",
      "Checking ../data/SNAP.csv\n",
      "Saving ../data/SNAP.csv\n",
      "buying 70.00 SNAP (new balance: -738.92 USD)\n",
      "buying 10.00 SNAP (new balance: -879.32 USD)\n",
      "buying 1.00 CRSP (new balance: -916.17 USD)\n",
      "buying 1.00 HUYA (new balance: -937.26 USD)\n",
      "buying 1.00 JD (new balance: -963.18 USD)\n",
      "buying 1.00 ZTO (new balance: -980.40 USD)\n",
      "selling 12.00 BND (new balance: 5.40 USD)\n",
      "buying 1.00 IQ (new balance: -12.48 USD)\n",
      "buying 1.00 TCEHY (new balance: -55.36 USD)\n",
      "Checking ../data/BYND.csv\n",
      "Saving ../data/BYND.csv\n",
      "Checking ../data/BYND.csv\n",
      "Saving ../data/BYND.csv\n",
      "buying 1.00 BYND (new balance: -181.30 USD)\n",
      "buying 7.00 BYND (new balance: -1059.07 USD)\n",
      "selling 3.00 CRSP (new balance: -930.93 USD)\n",
      "selling 16.00 LYFT (new balance: 41.06 USD)\n",
      "buying 9.00 BIDU (new balance: -968.77 USD)\n",
      "buying 6.00 FB (new balance: -2021.05 USD)\n",
      "buying 1.00 EBAY (new balance: -2058.94 USD)\n",
      "buying 1.00 IQ (new balance: -2077.18 USD)\n",
      "buying 2.00 SONO (new balance: -2098.98 USD)\n",
      "buying 1.00 FTNT (new balance: -2173.90 USD)\n"
     ]
    },
    {
     "name": "stdout",
     "output_type": "stream",
     "text": [
      "buying 3.00 ZTO (new balance: -2226.79 USD)\n",
      "selling 1.00 ZEN (new balance: -2133.99 USD)\n",
      "selling 2.00 HUYA (new balance: -2087.27 USD)\n",
      "selling 11.00 AYX (new balance: -954.18 USD)\n",
      "selling 8.00 BYND (new balance: 255.95 USD)\n",
      "buying 1.00 ZEN (new balance: 168.30 USD)\n",
      "selling 4.00 SONO (new balance: 213.07 USD)\n",
      "selling 2.00 ZTO (new balance: 249.69 USD)\n",
      "buying 1.00 TCEHY (new balance: 206.93 USD)\n",
      "buying 1.00 JD (new balance: 179.86 USD)\n",
      "buying 1.00 HUYA (new balance: 157.22 USD)\n",
      "selling 1.00 SONO (new balance: 168.79 USD)\n",
      "selling 1.00 SONO (new balance: 180.13 USD)\n",
      "Checking ../data/JMIA.csv\n",
      "Saving ../data/JMIA.csv\n",
      "Checking ../data/JMIA.csv\n",
      "Saving ../data/JMIA.csv\n",
      "buying 1.00 JMIA (new balance: 156.72 USD)\n",
      "buying 3.00 JMIA (new balance: 85.07 USD)\n",
      "Checking ../data/ZM.csv\n",
      "Saving ../data/ZM.csv\n",
      "Checking ../data/ZM.csv\n",
      "Saving ../data/ZM.csv\n",
      "buying 11.00 ZM (new balance: -1009.22 USD)\n",
      "buying 42.00 JMIA (new balance: -2052.92 USD)\n",
      "selling 4.00 SNAP (new balance: -1995.96 USD)\n",
      "selling 58.00 ZTO (new balance: -939.79 USD)\n",
      "selling 39.00 JD (new balance: 131.55 USD)\n",
      "buying 2.00 MOMO (new balance: 69.58 USD)\n",
      "buying 3.00 IQ (new balance: 16.42 USD)\n",
      "selling 2.00 SONO (new balance: 40.13 USD)\n",
      "buying 6.00 FB (new balance: -1068.27 USD)\n",
      "buying 6.00 FB (new balance: -2181.15 USD)\n",
      "buying 11.00 FB (new balance: -4219.58 USD)\n",
      "dividend TCEHY 2.47 USD (new balance: -4217.11 USD)\n",
      "selling 15.00 SQ (new balance: -3135.91 USD)\n",
      "selling 28.00 EBAY (new balance: -2049.82 USD)\n",
      "selling 90.00 SONO (new balance: -1010.17 USD)\n",
      "selling 9.00 BIDU (new balance: 7.06 USD)\n",
      "buying 1.00 MDB (new balance: -162.62 USD)\n",
      "buying 6.00 MDB (new balance: -1180.89 USD)\n",
      "Checking ../data/TEAM.csv\n",
      "Saving ../data/TEAM.csv\n",
      "Checking ../data/TEAM.csv\n",
      "Saving ../data/TEAM.csv\n",
      "buying 9.00 TEAM (new balance: -2344.46 USD)\n",
      "buying 10.00 AYX (new balance: -3411.14 USD)\n",
      "buying 17.00 LYFT (new balance: -4505.77 USD)\n",
      "buying 1.00 JMIA (new balance: -4528.75 USD)\n",
      "selling 1.00 IQ (new balance: -4510.55 USD)\n",
      "selling 1.00 MOMO (new balance: -4477.83 USD)\n",
      "selling 6.00 FB (new balance: -3364.36 USD)\n",
      "selling 6.00 FB (new balance: -2252.65 USD)\n",
      "selling 6.00 FB (new balance: -1140.88 USD)\n",
      "selling 5.00 FB (new balance: -214.71 USD)\n",
      "selling 1.00 CRSP (new balance: -167.01 USD)\n",
      "selling 1.00 SNAP (new balance: -152.35 USD)\n",
      "selling 2.00 MOMO (new balance: -85.37 USD)\n",
      "selling 1.00 IQ (new balance: -66.88 USD)\n",
      "selling 3.00 HUYA (new balance: 10.68 USD)\n",
      "buying 1.00 CRSP (new balance: -33.56 USD)\n",
      "Checking ../data/WORK.csv\n",
      "Saving ../data/WORK.csv\n",
      "Checking ../data/WORK.csv\n",
      "Saving ../data/WORK.csv\n",
      "buying 2.00 WORK (new balance: -111.16 USD)\n",
      "buying 26.00 WORK (new balance: -1199.26 USD)\n",
      "dividend EBAY 3.64 USD (new balance: -1195.62 USD)\n",
      "selling 1.00 TEAM (new balance: -1060.53 USD)\n",
      "selling 5.00 TSLA (new balance: 41.35 USD)\n",
      "buying 2.00 WORK (new balance: -32.50 USD)\n",
      "buying 1.00 IQ (new balance: -50.74 USD)\n",
      "buying 1.00 WORK (new balance: -88.65 USD)\n",
      "selling 1.00 TCEHY (new balance: -43.22 USD)\n",
      "selling 3.00 JMIA (new balance: 32.48 USD)\n",
      "buying 1.00 OKTA (new balance: -92.60 USD)\n",
      "buying 1.00 ZM (new balance: -184.92 USD)\n",
      "selling 1.00 SNAP (new balance: -170.18 USD)\n",
      "selling 1.00 IQ (new balance: -151.70 USD)\n",
      "selling 1.00 JMIA (new balance: -126.13 USD)\n",
      "selling 1.00 HUYA (new balance: -100.51 USD)\n",
      "selling 1.00 IQ (new balance: -82.11 USD)\n",
      "selling 1.00 TCEHY (new balance: -36.80 USD)\n",
      "selling 1.00 JMIA (new balance: -11.56 USD)\n",
      "selling 1.00 SNAP (new balance: 3.17 USD)\n",
      "buying 1.00 HUYA (new balance: -20.22 USD)\n",
      "dividend UNH 4.32 USD (new balance: -15.90 USD)\n",
      "selling 1.00 JMIA (new balance: 9.60 USD)\n",
      "buying 1.00 IQ (new balance: -8.57 USD)\n",
      "buying 1.00 HUYA (new balance: -32.64 USD)\n",
      "buying 1.00 ZM (new balance: -118.35 USD)\n",
      "selling 1.00 WORK (new balance: -82.19 USD)\n",
      "selling 1.00 WORK (new balance: -46.14 USD)\n",
      "selling 1.00 MOMO (new balance: -11.75 USD)\n",
      "selling 1.00 SNAP (new balance: 2.95 USD)\n",
      "buying 1.00 TCEHY (new balance: -42.16 USD)\n",
      "buying 1.00 SNAP (new balance: -56.79 USD)\n",
      "selling 1.00 HUYA (new balance: -32.00 USD)\n",
      "selling 2.00 IQ (new balance: 8.32 USD)\n",
      "selling 1.00 IQ (new balance: 27.65 USD)\n",
      "selling 1.00 ZM (new balance: 118.97 USD)\n",
      "selling 1.00 MOMO (new balance: 155.07 USD)\n",
      "selling 2.00 IQ (new balance: 193.80 USD)\n",
      "selling 1.00 IQ (new balance: 212.46 USD)\n",
      "selling 2.00 JMIA (new balance: 268.06 USD)\n",
      "buying 2.00 SNAP (new balance: 239.58 USD)\n",
      "buying 1.00 SNAP (new balance: 225.18 USD)\n",
      "buying 5.00 JMIA (new balance: 100.28 USD)\n",
      "selling 1.00 CRSP (new balance: 145.99 USD)\n",
      "selling 1.00 IQ (new balance: 166.63 USD)\n",
      "depositing 1000.00 USD (new balance: 1166.61 USD)\n",
      "buying 1.00 WORK (new balance: 1130.47 USD)\n",
      "buying 2.00 JMIA (new balance: 1078.88 USD)\n",
      "Checking ../data/EVER.csv\n",
      "Saving ../data/EVER.csv\n",
      "Checking ../data/EVER.csv\n",
      "Saving ../data/EVER.csv\n",
      "buying 1.00 EVER (new balance: 1065.79 USD)\n",
      "buying 1.00 ZM (new balance: 980.83 USD)\n",
      "buying 2.00 EVER (new balance: 954.67 USD)\n",
      "buying 82.00 EVER (new balance: -120.31 USD)\n",
      "selling 1.00 CRSP (new balance: -72.67 USD)\n",
      "selling 3.00 EVER (new balance: -32.44 USD)\n",
      "selling 1.00 TCEHY (new balance: 13.76 USD)\n",
      "selling 1.00 MOMO (new balance: 51.09 USD)\n",
      "selling 2.00 SNAP (new balance: 80.44 USD)\n",
      "selling 2.00 HUYA (new balance: 132.37 USD)\n",
      "selling 3.00 IQ (new balance: 197.48 USD)\n",
      "selling 4.00 JMIA (new balance: 305.68 USD)\n",
      "buying 1.00 SNAP (new balance: 291.56 USD)\n",
      "buying 1.00 CRSP (new balance: 244.21 USD)\n",
      "buying 2.00 SNAP (new balance: 215.91 USD)\n",
      "buying 1.00 LYFT (new balance: 155.11 USD)\n",
      "buying 1.00 JMIA (new balance: 130.04 USD)\n",
      "buying 2.00 IQ (new balance: 87.86 USD)\n",
      "selling 1.00 EVER (new balance: 101.49 USD)\n",
      "buying 2.00 EVER (new balance: 74.34 USD)\n",
      "buying 1.00 HUYA (new balance: 48.46 USD)\n",
      "buying 2.00 IQ (new balance: 7.60 USD)\n",
      "selling 2.00 SNAP (new balance: 36.98 USD)\n",
      "buying 1.00 WORK (new balance: 1.27 USD)\n",
      "buying 1.00 TCEHY (new balance: -44.46 USD)\n",
      "buying 1.00 MOMO (new balance: -79.45 USD)\n",
      "buying 1.00 IQ (new balance: -99.46 USD)\n",
      "buying 1.00 MOMO (new balance: -134.02 USD)\n",
      "selling 1.00 ZM (new balance: -42.36 USD)\n",
      "selling 1.00 JMIA (new balance: -16.11 USD)\n",
      "selling 1.00 SNAP (new balance: -0.89 USD)\n",
      "selling 2.00 SNAP (new balance: 28.93 USD)\n",
      "buying 1.00 HUYA (new balance: 3.44 USD)\n",
      "buying 2.00 IQ (new balance: -35.40 USD)\n",
      "selling 1.00 EVER (new balance: -21.46 USD)\n",
      "selling 3.00 EVER (new balance: 19.58 USD)\n",
      "buying 2.00 EVER (new balance: -7.78 USD)\n",
      "buying 1.00 SNAP (new balance: -22.90 USD)\n",
      "buying 1.00 MOMO (new balance: -57.17 USD)\n",
      "Checking ../data/OSTK.csv\n",
      "Saving ../data/OSTK.csv\n",
      "Checking ../data/OSTK.csv\n",
      "Saving ../data/OSTK.csv\n",
      "buying 65.00 OSTK (new balance: -1167.35 USD)\n",
      "selling 1.00 JMIA (new balance: -1140.25 USD)\n",
      "selling 6.00 OSTK (new balance: -1026.50 USD)\n",
      "selling 56.00 IQ (new balance: 69.46 USD)\n",
      "buying 17.00 NIO (new balance: 5.34 USD)\n",
      "buying 3.00 JMIA (new balance: -69.93 USD)\n",
      "buying 2.00 HUYA (new balance: -117.64 USD)\n",
      "buying 8.00 OSTK (new balance: -258.91 USD)\n",
      "Checking ../data/SFTBY.csv\n",
      "Saving ../data/SFTBY.csv\n",
      "Checking ../data/SFTBY.csv\n",
      "Saving ../data/SFTBY.csv\n",
      "buying 5.00 SFTBY (new balance: -380.11 USD)\n",
      "buying 1.00 SFTBY (new balance: -404.36 USD)\n",
      "buying 2.00 SFTBY (new balance: -452.96 USD)\n",
      "selling 5.00 OSTK (new balance: -362.81 USD)\n",
      "selling 8.00 SFTBY (new balance: -169.47 USD)\n",
      "selling 2.00 SNAP (new balance: -137.83 USD)\n",
      "selling 2.00 EVER (new balance: -110.14 USD)\n",
      "selling 1.00 CRSP (new balance: -60.13 USD)\n",
      "selling 2.00 SNAP (new balance: -28.31 USD)\n",
      "selling 17.00 NIO (new balance: 28.15 USD)\n",
      "buying 1.00 HUYA (new balance: 4.04 USD)\n",
      "buying 1.00 WORK (new balance: -29.48 USD)\n",
      "buying 2.00 JMIA (new balance: -77.08 USD)\n",
      "buying 1.00 WORK (new balance: -111.09 USD)\n",
      "Checking ../data/SHOP.csv\n",
      "Saving ../data/SHOP.csv\n",
      "Checking ../data/SHOP.csv\n",
      "Saving ../data/SHOP.csv\n",
      "buying 3.00 SHOP (new balance: -1021.31 USD)\n",
      "buying 1.00 SNAP (new balance: -1037.02 USD)\n",
      "buying 1.00 JMIA (new balance: -1061.42 USD)\n",
      "selling 1.00 OSTK (new balance: -1042.40 USD)\n",
      "selling 2.00 OSTK (new balance: -1005.01 USD)\n",
      "selling 79.00 EVER (new balance: 94.89 USD)\n",
      "selling 1.00 OSTK (new balance: 113.07 USD)\n",
      "buying 1.00 SNAP (new balance: 97.47 USD)\n",
      "buying 1.00 OSTK (new balance: 79.45 USD)\n",
      "buying 3.00 OSTK (new balance: 25.36 USD)\n",
      "selling 1.00 WORK (new balance: 60.22 USD)\n",
      "buying 1.00 OSTK (new balance: 42.48 USD)\n"
     ]
    },
    {
     "name": "stdout",
     "output_type": "stream",
     "text": [
      "buying 1.00 HUYA (new balance: 18.64 USD)\n",
      "buying 2.00 JMIA (new balance: -26.83 USD)\n",
      "buying 1.00 WORK (new balance: -60.61 USD)\n",
      "buying 2.00 HUYA (new balance: -107.30 USD)\n",
      "buying 2.00 MOMO (new balance: -173.62 USD)\n",
      "buying 2.00 SNAP (new balance: -203.58 USD)\n",
      "selling 2.00 OSTK (new balance: -165.83 USD)\n",
      "selling 1.00 FTNT (new balance: -79.42 USD)\n",
      "selling 2.00 HUYA (new balance: -29.90 USD)\n",
      "selling 2.00 OSTK (new balance: 6.90 USD)\n",
      "buying 8.00 SONO (new balance: -81.68 USD)\n",
      "buying 1.00 WORK (new balance: -113.85 USD)\n",
      "buying 1.00 SNAP (new balance: -128.36 USD)\n",
      "buying 1.00 SNAP (new balance: -142.96 USD)\n",
      "buying 1.00 JMIA (new balance: -165.18 USD)\n",
      "buying 3.00 HUYA (new balance: -231.61 USD)\n",
      "selling 1.00 OKTA (new balance: -92.12 USD)\n",
      "selling 2.00 OSTK (new balance: -52.76 USD)\n",
      "selling 1.00 LYFT (new balance: 12.84 USD)\n",
      "buying 1.00 EVER (new balance: -1.71 USD)\n",
      "buying 1.00 SONO (new balance: -12.63 USD)\n",
      "buying 16.00 SONO (new balance: -187.39 USD)\n",
      "buying 10.00 SONO (new balance: -297.21 USD)\n",
      "buying 1.00 SNAP (new balance: -311.64 USD)\n",
      "buying 2.00 OSTK (new balance: -347.58 USD)\n",
      "buying 31.00 SONO (new balance: -689.82 USD)\n",
      "buying 4.00 SONO (new balance: -733.80 USD)\n",
      "buying 13.00 SONO (new balance: -876.40 USD)\n",
      "buying 73.00 EVER (new balance: -1922.50 USD)\n",
      "buying 15.00 SONO (new balance: -2087.07 USD)\n",
      "selling 1.00 FB (new balance: -1886.00 USD)\n",
      "selling 1.00 JMIA (new balance: -1863.71 USD)\n",
      "selling 1.00 TCEHY (new balance: -1817.64 USD)\n",
      "selling 1.00 FTNT (new balance: -1729.19 USD)\n",
      "selling 1.00 LYFT (new balance: -1662.56 USD)\n",
      "selling 1.00 MOMO (new balance: -1627.28 USD)\n",
      "selling 1.00 AYX (new balance: -1509.95 USD)\n",
      "selling 1.00 WORK (new balance: -1477.59 USD)\n",
      "selling 1.00 ZM (new balance: -1380.93 USD)\n",
      "selling 1.00 MOMO (new balance: -1345.68 USD)\n",
      "selling 1.00 GOOG (new balance: -196.15 USD)\n",
      "selling 2.00 HUYA (new balance: -151.60 USD)\n",
      "selling 2.00 JMIA (new balance: -107.18 USD)\n",
      "selling 2.00 MOMO (new balance: -36.80 USD)\n",
      "selling 3.00 SNAP (new balance: 6.80 USD)\n",
      "buying 3.00 EBAY (new balance: -115.11 USD)\n",
      "buying 1.00 HUYA (new balance: -136.50 USD)\n",
      "buying 2.00 OSTK (new balance: -170.90 USD)\n",
      "selling 1.00 WORK (new balance: -138.25 USD)\n",
      "selling 1.00 ZEN (new balance: -44.85 USD)\n",
      "selling 1.00 EVER (new balance: -30.40 USD)\n",
      "selling 1.00 CRSP (new balance: 19.11 USD)\n",
      "buying 4.00 EBAY (new balance: -144.11 USD)\n",
      "buying 1.00 EBAY (new balance: -184.91 USD)\n",
      "buying 5.00 EBAY (new balance: -388.96 USD)\n",
      "buying 7.00 EBAY (new balance: -674.77 USD)\n",
      "selling 1.00 ZM (new balance: -578.02 USD)\n",
      "selling 1.00 OSTK (new balance: -560.07 USD)\n",
      "selling 1.00 LYFT (new balance: -494.27 USD)\n",
      "selling 1.00 CRSP (new balance: -444.58 USD)\n",
      "selling 1.00 TCEHY (new balance: -398.67 USD)\n",
      "selling 2.00 SONO (new balance: -377.65 USD)\n",
      "selling 3.00 HUYA (new balance: -311.73 USD)\n",
      "selling 3.00 EVER (new balance: -268.27 USD)\n",
      "selling 2.00 MOMO (new balance: -197.45 USD)\n",
      "selling 4.00 OSTK (new balance: -127.10 USD)\n",
      "selling 3.00 WORK (new balance: -24.61 USD)\n",
      "selling 4.00 SNAP (new balance: 32.97 USD)\n",
      "buying 1.00 JMIA (new balance: 11.94 USD)\n",
      "buying 1.00 SONO (new balance: 1.45 USD)\n",
      "buying 1.00 WORK (new balance: -32.05 USD)\n",
      "buying 1.00 JMIA (new balance: -53.03 USD)\n",
      "buying 4.00 EBAY (new balance: -216.79 USD)\n",
      "selling 2.00 OSTK (new balance: -179.16 USD)\n",
      "selling 1.00 EVER (new balance: -164.38 USD)\n",
      "selling 10.00 SNAP (new balance: 8.40 USD)\n",
      "buying 1.00 JMIA (new balance: -12.17 USD)\n",
      "buying 1.00 EVER (new balance: -26.85 USD)\n",
      "buying 1.00 EBAY (new balance: -67.69 USD)\n",
      "selling 1.00 AYX (new balance: 54.45 USD)\n",
      "selling 2.00 SNAP (new balance: 90.37 USD)\n",
      "selling 2.00 OSTK (new balance: 129.79 USD)\n",
      "buying 1.00 JMIA (new balance: 109.55 USD)\n",
      "Checking ../data/CRWD.csv\n",
      "Saving ../data/CRWD.csv\n",
      "Checking ../data/CRWD.csv\n",
      "Saving ../data/CRWD.csv\n",
      "buying 4.00 CRWD (new balance: -267.26 USD)\n",
      "buying 1.00 MOMO (new balance: -302.26 USD)\n",
      "selling 2.00 EVER (new balance: -271.78 USD)\n",
      "selling 1.00 SONO (new balance: -261.11 USD)\n",
      "selling 1.00 EVER (new balance: -246.35 USD)\n",
      "selling 1.00 OKTA (new balance: -105.90 USD)\n",
      "selling 1.00 TEAM (new balance: 42.09 USD)\n",
      "buying 1.00 SNAP (new balance: 24.55 USD)\n",
      "buying 1.00 CRWD (new balance: -61.45 USD)\n",
      "buying 1.00 CRWD (new balance: -148.85 USD)\n",
      "buying 2.00 CRWD (new balance: -327.33 USD)\n",
      "buying 1.00 CRWD (new balance: -420.29 USD)\n",
      "buying 1.00 JMIA (new balance: -440.19 USD)\n",
      "selling 1.00 HUYA (new balance: -417.58 USD)\n",
      "selling 1.00 SONO (new balance: -406.81 USD)\n",
      "selling 1.00 OSTK (new balance: -385.03 USD)\n",
      "selling 1.00 SONO (new balance: -374.40 USD)\n",
      "selling 1.00 HUYA (new balance: -352.13 USD)\n",
      "selling 2.00 OSTK (new balance: -309.48 USD)\n",
      "selling 1.00 HUYA (new balance: -287.65 USD)\n",
      "selling 1.00 JMIA (new balance: -268.57 USD)\n",
      "selling 1.00 SNAP (new balance: -250.83 USD)\n",
      "selling 1.00 SONO (new balance: -240.35 USD)\n",
      "selling 1.00 WORK (new balance: -206.77 USD)\n",
      "selling 1.00 CRSP (new balance: -155.60 USD)\n",
      "selling 1.00 SNAP (new balance: -137.86 USD)\n",
      "selling 1.00 SONO (new balance: -127.34 USD)\n",
      "selling 1.00 SONO (new balance: -116.81 USD)\n",
      "selling 1.00 EBAY (new balance: -75.63 USD)\n",
      "selling 1.00 TCEHY (new balance: -28.20 USD)\n",
      "selling 1.00 OSTK (new balance: -7.88 USD)\n",
      "selling 1.00 OSTK (new balance: 12.94 USD)\n",
      "selling 1.00 EVER (new balance: 28.31 USD)\n",
      "selling 1.00 OSTK (new balance: 49.05 USD)\n",
      "selling 1.00 OSTK (new balance: 69.29 USD)\n",
      "buying 1.00 CRWD (new balance: -25.37 USD)\n",
      "buying 1.00 WORK (new balance: -57.69 USD)\n",
      "buying 1.00 SNAP (new balance: -74.73 USD)\n",
      "buying 4.00 JMIA (new balance: -146.33 USD)\n",
      "selling 1.00 EBAY (new balance: -104.99 USD)\n",
      "selling 1.00 SONO (new balance: -94.24 USD)\n",
      "selling 1.00 OSTK (new balance: -71.27 USD)\n",
      "selling 1.00 MOMO (new balance: -36.77 USD)\n",
      "selling 1.00 EVER (new balance: -21.83 USD)\n",
      "selling 2.00 OSTK (new balance: 23.82 USD)\n",
      "buying 5.00 BYND (new balance: -994.02 USD)\n",
      "selling 1.00 CRSP (new balance: -942.72 USD)\n",
      "selling 11.00 ZEN (new balance: -11.73 USD)\n",
      "selling 1.00 SNAP (new balance: 5.51 USD)\n",
      "selling 1.00 EVER (new balance: 20.25 USD)\n",
      "selling 1.00 AYX (new balance: 151.43 USD)\n",
      "buying 1.00 HUYA (new balance: 130.49 USD)\n",
      "buying 1.00 MOMO (new balance: 99.52 USD)\n",
      "buying 1.00 LYFT (new balance: 42.05 USD)\n",
      "buying 3.00 OSTK (new balance: -19.11 USD)\n",
      "buying 3.00 JMIA (new balance: -66.69 USD)\n",
      "buying 1.00 W (new balance: -190.61 USD)\n",
      "selling 1.00 SNAP (new balance: -173.88 USD)\n",
      "selling 1.00 FTNT (new balance: -85.39 USD)\n",
      "selling 1.00 FTNT (new balance: 3.47 USD)\n",
      "depositing 1000.00 USD (new balance: 1003.45 USD)\n",
      "buying 3.00 EVER (new balance: 962.73 USD)\n",
      "buying 3.00 SONO (new balance: 932.70 USD)\n",
      "buying 3.00 SONO (new balance: 902.73 USD)\n",
      "buying 1.00 WORK (new balance: 873.15 USD)\n",
      "buying 1.00 ZM (new balance: 782.65 USD)\n",
      "buying 1.00 TCEHY (new balance: 740.05 USD)\n",
      "buying 2.00 SNAP (new balance: 707.13 USD)\n",
      "buying 1.00 OKTA (new balance: 579.85 USD)\n",
      "buying 2.00 MOMO (new balance: 520.69 USD)\n",
      "buying 1.00 LYFT (new balance: 463.74 USD)\n",
      "buying 4.00 JMIA (new balance: 401.34 USD)\n",
      "buying 2.00 HUYA (new balance: 361.02 USD)\n",
      "buying 1.00 FTNT (new balance: 278.63 USD)\n",
      "buying 3.00 EVER (new balance: 237.84 USD)\n",
      "buying 1.00 EBAY (new balance: 197.94 USD)\n",
      "buying 1.00 CRWD (new balance: 113.51 USD)\n",
      "buying 1.00 CRSP (new balance: 65.26 USD)\n",
      "buying 1.00 AYX (new balance: -59.34 USD)\n",
      "selling 3.00 OSTK (new balance: 6.32 USD)\n",
      "buying 1.00 JMIA (new balance: -7.49 USD)\n",
      "buying 1.00 ZM (new balance: -95.95 USD)\n",
      "Checking ../data/JPM.csv\n",
      "Saving ../data/JPM.csv\n",
      "Checking ../data/JPM.csv\n",
      "Saving ../data/JPM.csv\n",
      "buying 5.00 JPM (new balance: -639.85 USD)\n",
      "buying 2.00 SONO (new balance: -659.83 USD)\n",
      "buying 1.00 SNAP (new balance: -676.28 USD)\n",
      "buying 1.00 OSTK (new balance: -697.47 USD)\n",
      "buying 1.00 FTNT (new balance: -778.49 USD)\n",
      "buying 1.00 HUYA (new balance: -798.55 USD)\n",
      "buying 1.00 JMIA (new balance: -812.70 USD)\n",
      "buying 1.00 W (new balance: -934.16 USD)\n",
      "buying 1.00 BYND (new balance: -1106.06 USD)\n",
      "buying 1.00 SONO (new balance: -1116.07 USD)\n",
      "buying 1.00 SNAP (new balance: -1132.55 USD)\n",
      "buying 1.00 OSTK (new balance: -1153.70 USD)\n",
      "buying 4.00 JMIA (new balance: -1210.38 USD)\n",
      "buying 1.00 HUYA (new balance: -1230.77 USD)\n",
      "buying 1.00 JMIA (new balance: -1245.81 USD)\n",
      "buying 1.00 CRSP (new balance: -1293.00 USD)\n",
      "buying 1.00 MOMO (new balance: -1322.46 USD)\n",
      "buying 2.00 OSTK (new balance: -1365.26 USD)\n",
      "selling 1.00 EVER (new balance: -1345.50 USD)\n",
      "selling 1.00 OSTK (new balance: -1323.97 USD)\n",
      "selling 1.00 EVER (new balance: -1304.24 USD)\n",
      "selling 1.00 EVER (new balance: -1285.00 USD)\n",
      "selling 5.00 FB (new balance: -367.12 USD)\n",
      "selling 3.00 EVER (new balance: -311.59 USD)\n",
      "selling 1.00 WORK (new balance: -279.65 USD)\n",
      "selling 2.00 SONO (new balance: -259.24 USD)\n",
      "selling 4.00 EVER (new balance: -187.26 USD)\n",
      "selling 5.00 EVER (new balance: -97.43 USD)\n",
      "selling 6.00 EVER (new balance: 3.91 USD)\n"
     ]
    },
    {
     "name": "stdout",
     "output_type": "stream",
     "text": [
      "buying 1.00 JPM (new balance: -102.79 USD)\n",
      "buying 1.00 WORK (new balance: -133.70 USD)\n",
      "Checking ../data/LULU.csv\n",
      "Saving ../data/LULU.csv\n",
      "Checking ../data/LULU.csv\n",
      "Saving ../data/LULU.csv\n",
      "buying 5.00 LULU (new balance: -1035.72 USD)\n",
      "buying 1.00 SONO (new balance: -1045.55 USD)\n",
      "buying 1.00 SNAP (new balance: -1061.31 USD)\n",
      "buying 8.00 JMIA (new balance: -1163.71 USD)\n",
      "selling 3.00 JMIA (new balance: -1123.36 USD)\n",
      "selling 1.00 LYFT (new balance: -1062.61 USD)\n",
      "selling 45.00 OSTK (new balance: -94.21 USD)\n",
      "selling 1.00 OKTA (new balance: 36.38 USD)\n",
      "buying 1.00 BYND (new balance: -126.43 USD)\n",
      "buying 1.00 JPM (new balance: -235.81 USD)\n",
      "buying 1.00 EVER (new balance: -255.10 USD)\n",
      "buying 1.00 JPM (new balance: -364.41 USD)\n",
      "buying 1.00 JPM (new balance: -473.56 USD)\n",
      "selling 1.00 SONO (new balance: -463.22 USD)\n",
      "selling 1.00 CRSP (new balance: -413.73 USD)\n",
      "selling 1.00 LYFT (new balance: -350.95 USD)\n",
      "selling 1.00 ZM (new balance: -255.86 USD)\n",
      "selling 1.00 MOMO (new balance: -224.78 USD)\n",
      "selling 1.00 SONO (new balance: -214.54 USD)\n",
      "selling 2.00 JMIA (new balance: -187.92 USD)\n",
      "selling 2.00 SONO (new balance: -167.52 USD)\n",
      "selling 1.00 MELI (new balance: 503.17 USD)\n",
      "selling 1.00 ZM (new balance: 597.34 USD)\n",
      "buying 1.00 NIO (new balance: 594.19 USD)\n",
      "buying 1.00 JD (new balance: 567.07 USD)\n",
      "buying 1.00 NIO (new balance: 563.90 USD)\n",
      "buying 7.00 NIO (new balance: 541.72 USD)\n",
      "buying 3.00 JD (new balance: 460.30 USD)\n",
      "buying 32.00 JD (new balance: -408.81 USD)\n",
      "buying 30.00 NIO (new balance: -503.01 USD)\n",
      "buying 31.00 NIO (new balance: -600.04 USD)\n",
      "buying 52.00 NIO (new balance: -763.32 USD)\n",
      "buying 186.00 NIO (new balance: -1348.81 USD)\n",
      "buying 6.00 JMIA (new balance: -1424.11 USD)\n",
      "selling 1.00 EVER (new balance: -1403.96 USD)\n",
      "selling 2.00 SONO (new balance: -1380.88 USD)\n",
      "selling 1.00 MOMO (new balance: -1349.15 USD)\n",
      "selling 1.00 SNAP (new balance: -1332.17 USD)\n",
      "selling 1.00 AYX (new balance: -1199.15 USD)\n",
      "selling 15.00 LYFT (new balance: -315.01 USD)\n",
      "selling 1.00 CRWD (new balance: -220.33 USD)\n",
      "selling 1.00 EVER (new balance: -200.63 USD)\n",
      "selling 1.00 HUYA (new balance: -179.94 USD)\n",
      "selling 2.00 SONO (new balance: -157.69 USD)\n",
      "selling 2.00 SNAP (new balance: -124.33 USD)\n",
      "selling 1.00 BYND (new balance: 38.79 USD)\n",
      "selling 6.00 SONO (new balance: 106.09 USD)\n",
      "Checking ../data/REAL.csv\n",
      "Saving ../data/REAL.csv\n",
      "Checking ../data/REAL.csv\n",
      "Saving ../data/REAL.csv\n",
      "buying 53.00 REAL (new balance: -890.32 USD)\n",
      "buying 7.00 OSTK (new balance: -1067.75 USD)\n",
      "buying 2.00 NIO (new balance: -1073.91 USD)\n",
      "selling 8.00 W (new balance: -83.21 USD)\n",
      "selling 1.00 JD (new balance: -56.20 USD)\n",
      "selling 1.00 SONO (new balance: -44.78 USD)\n",
      "selling 1.00 WORK (new balance: -13.22 USD)\n",
      "selling 1.00 HUYA (new balance: 7.35 USD)\n",
      "buying 1.00 REAL (new balance: -9.48 USD)\n",
      "buying 6.00 OSTK (new balance: -135.17 USD)\n",
      "buying 4.00 OSTK (new balance: -219.87 USD)\n",
      "buying 4.00 OSTK (new balance: -305.55 USD)\n",
      "buying 3.00 OSTK (new balance: -370.20 USD)\n",
      "buying 21.00 OSTK (new balance: -825.57 USD)\n",
      "selling 1.00 EVER (new balance: -804.34 USD)\n",
      "selling 1.00 CRWD (new balance: -704.51 USD)\n",
      "selling 1.00 HUYA (new balance: -683.26 USD)\n",
      "selling 1.00 JMIA (new balance: -669.86 USD)\n",
      "selling 4.00 JMIA (new balance: -616.15 USD)\n",
      "selling 1.00 TCEHY (new balance: -572.85 USD)\n",
      "selling 1.00 EVER (new balance: -552.01 USD)\n",
      "selling 2.00 JMIA (new balance: -526.79 USD)\n",
      "selling 2.00 JMIA (new balance: -502.00 USD)\n",
      "selling 15.00 NIO (new balance: -454.77 USD)\n",
      "selling 6.00 SONO (new balance: -382.95 USD)\n",
      "selling 3.00 SNAP (new balance: -331.88 USD)\n",
      "selling 1.00 MOMO (new balance: -299.90 USD)\n",
      "selling 4.00 JD (new balance: -183.00 USD)\n",
      "selling 1.00 HUYA (new balance: -162.18 USD)\n",
      "selling 1.00 FTNT (new balance: -78.81 USD)\n",
      "selling 2.00 EVER (new balance: -38.17 USD)\n",
      "selling 1.00 EBAY (new balance: 2.69 USD)\n",
      "buying 3.00 OSTK (new balance: -45.71 USD)\n",
      "buying 13.00 NIO (new balance: -83.80 USD)\n",
      "buying 2.00 OSTK (new balance: -120.76 USD)\n",
      "selling 1.00 EBAY (new balance: -80.78 USD)\n",
      "selling 1.00 SONO (new balance: -68.94 USD)\n",
      "selling 1.00 JD (new balance: -38.63 USD)\n",
      "selling 2.00 HUYA (new balance: 5.24 USD)\n",
      "buying 1.00 SONO (new balance: -6.33 USD)\n",
      "buying 2.00 JMIA (new balance: -31.57 USD)\n",
      "buying 2.00 REAL (new balance: -61.87 USD)\n",
      "buying 3.00 REAL (new balance: -107.38 USD)\n",
      "buying 8.00 NIO (new balance: -129.92 USD)\n",
      "selling 1.00 WORK (new balance: -99.29 USD)\n",
      "selling 1.00 MOMO (new balance: -67.59 USD)\n",
      "selling 1.00 JD (new balance: -37.01 USD)\n",
      "selling 2.00 HUYA (new balance: 7.22 USD)\n",
      "buying 1.00 SNAP (new balance: -8.83 USD)\n",
      "buying 1.00 WORK (new balance: -38.84 USD)\n",
      "buying 4.00 JMIA (new balance: -89.36 USD)\n",
      "buying 1.00 EVER (new balance: -109.36 USD)\n",
      "buying 2.00 SNAP (new balance: -141.40 USD)\n",
      "selling 2.00 HUYA (new balance: -92.84 USD)\n",
      "selling 1.00 REAL (new balance: -76.23 USD)\n",
      "selling 5.00 NIO (new balance: -61.55 USD)\n",
      "selling 2.00 REAL (new balance: -29.67 USD)\n",
      "selling 3.00 JMIA (new balance: 10.84 USD)\n",
      "buying 55.00 IQ (new balance: -991.22 USD)\n",
      "selling 8.00 JMIA (new balance: -872.82 USD)\n",
      "selling 7.00 SONO (new balance: -780.01 USD)\n",
      "selling 7.00 NIO (new balance: -758.68 USD)\n",
      "selling 3.00 EVER (new balance: -692.48 USD)\n",
      "selling 7.00 OKTA (new balance: 181.03 USD)\n",
      "selling 1.00 MELI (new balance: 780.11 USD)\n",
      "Checking ../data/GS.csv\n",
      "Saving ../data/GS.csv\n",
      "Checking ../data/GS.csv\n",
      "Saving ../data/GS.csv\n",
      "buying 5.00 GS (new balance: -229.01 USD)\n",
      "Checking ../data/RH.csv\n",
      "Saving ../data/RH.csv\n",
      "Checking ../data/RH.csv\n",
      "Saving ../data/RH.csv\n",
      "buying 7.00 RH (new balance: -1218.88 USD)\n",
      "selling 4.00 UNH (new balance: -247.76 USD)\n",
      "selling 7.00 MDB (new balance: 721.43 USD)\n",
      "selling 11.00 FTNT (new balance: 1596.34 USD)\n",
      "buying 15.00 JMIA (new balance: 1403.14 USD)\n",
      "buying 5.00 TSLA (new balance: 300.39 USD)\n",
      "Checking ../data/GSK.csv\n",
      "Saving ../data/GSK.csv\n",
      "Checking ../data/GSK.csv\n",
      "Saving ../data/GSK.csv\n",
      "buying 16.00 GSK (new balance: -355.45 USD)\n",
      "buying 2.00 OKTA (new balance: -622.33 USD)\n",
      "buying 5.00 OKTA (new balance: -1294.79 USD)\n",
      "buying 2.00 MELI (new balance: -2531.96 USD)\n",
      "selling 29.00 JD (new balance: -1664.86 USD)\n",
      "selling 38.00 HUYA (new balance: -808.75 USD)\n",
      "selling 9.00 CRWD (new balance: 38.57 USD)\n",
      "buying 3.00 EVER (new balance: -28.81 USD)\n",
      "buying 4.00 GSK (new balance: -194.17 USD)\n",
      "buying 1.00 MELI (new balance: -791.99 USD)\n",
      "buying 4.00 GSK (new balance: -957.47 USD)\n",
      "buying 1.00 BYND (new balance: -1104.39 USD)\n",
      "buying 1.00 GOOG (new balance: -2267.79 USD)\n",
      "buying 4.00 UNH (new balance: -3193.45 USD)\n",
      "buying 63.00 SNAP (new balance: -4181.26 USD)\n",
      "buying 11.00 CRWD (new balance: -5142.09 USD)\n",
      "buying 33.00 WORK (new balance: -6132.75 USD)\n",
      "buying 340.00 NIO (new balance: -7118.72 USD)\n",
      "buying 11.00 ZM (new balance: -8122.79 USD)\n",
      "buying 21.00 CRSP (new balance: -9134.20 USD)\n",
      "buying 64.00 REAL (new balance: -10130.04 USD)\n",
      "buying 9.00 JPM (new balance: -11086.92 USD)\n",
      "buying 5.00 TSLA (new balance: -12157.12 USD)\n",
      "buying 5.00 GS (new balance: -13147.27 USD)\n",
      "selling 10.00 ZM (new balance: -12232.87 USD)\n",
      "selling 30.00 WORK (new balance: -11327.20 USD)\n",
      "selling 5.00 TSLA (new balance: -10238.03 USD)\n",
      "selling 7.00 TEAM (new balance: -9249.45 USD)\n",
      "selling 21.00 TCEHY (new balance: -8372.73 USD)\n",
      "selling 57.00 SNAP (new balance: -7464.75 USD)\n",
      "selling 56.00 REAL (new balance: -6567.66 USD)\n",
      "selling 304.00 NIO (new balance: -5680.01 USD)\n",
      "selling 28.00 MOMO (new balance: -4779.87 USD)\n",
      "selling 2.00 MELI (new balance: -3569.84 USD)\n",
      "selling 9.00 JPM (new balance: -2610.29 USD)\n",
      "selling 5.00 GS (new balance: -1616.72 USD)\n",
      "selling 22.00 EBAY (new balance: -743.35 USD)\n",
      "selling 19.00 CRSP (new balance: 163.77 USD)\n"
     ]
    }
   ],
   "source": [
    "rh = import_portfolio_robinhood(access_token=access_token, \n",
    "                                username=username, \n",
    "                                password=password, \n",
    "                                name=\"Robinhood\", \n",
    "                                free_stock=True)"
   ]
  },
  {
   "cell_type": "code",
   "execution_count": null,
   "metadata": {},
   "outputs": [],
   "source": [
    "rh.overview()"
   ]
  },
  {
   "cell_type": "code",
   "execution_count": null,
   "metadata": {
    "scrolled": false
   },
   "outputs": [],
   "source": [
    "rh.overview_archive()"
   ]
  },
  {
   "cell_type": "code",
   "execution_count": null,
   "metadata": {
    "scrolled": true
   },
   "outputs": [],
   "source": [
    "# parse alternative (SP500) portfolio first\n",
    "rh_alt = import_portfolio(path=\"../data/portfolio_rh_alt.csv\", name=\"RobinHood\")"
   ]
  },
  {
   "cell_type": "code",
   "execution_count": null,
   "metadata": {},
   "outputs": [],
   "source": [
    "rh_alt.overview()"
   ]
  },
  {
   "cell_type": "code",
   "execution_count": null,
   "metadata": {
    "scrolled": false
   },
   "outputs": [],
   "source": [
    "rh.payments.sum()"
   ]
  },
  {
   "cell_type": "code",
   "execution_count": null,
   "metadata": {},
   "outputs": [],
   "source": [
    "rh_alt.payments.sum()"
   ]
  },
  {
   "cell_type": "code",
   "execution_count": null,
   "metadata": {
    "scrolled": true
   },
   "outputs": [],
   "source": [
    "rh.positions()"
   ]
  },
  {
   "cell_type": "code",
   "execution_count": null,
   "metadata": {
    "scrolled": true
   },
   "outputs": [],
   "source": [
    "rh.get_timeseries()"
   ]
  },
  {
   "cell_type": "code",
   "execution_count": null,
   "metadata": {},
   "outputs": [],
   "source": [
    "rh.data.plot(y=[column for column in rh.data.columns if column not in ['Total', 'Total_sh1', 'Total_sh1_ret', 'Total_sh1_sqerr']], \n",
    "               figsize=(12,12)\n",
    "            )\n",
    "#plt.ylim((0,2000))\n",
    "#plt.yscale('symlog')\n"
   ]
  },
  {
   "cell_type": "code",
   "execution_count": null,
   "metadata": {
    "scrolled": false
   },
   "outputs": [],
   "source": [
    "plot_composition(portfolio=rh)"
   ]
  },
  {
   "cell_type": "code",
   "execution_count": null,
   "metadata": {},
   "outputs": [],
   "source": [
    "rh.data_growth.plot(y=\"Growth\")"
   ]
  },
  {
   "cell_type": "code",
   "execution_count": null,
   "metadata": {},
   "outputs": [],
   "source": [
    "rh_alt.get_timeseries()"
   ]
  },
  {
   "cell_type": "code",
   "execution_count": null,
   "metadata": {},
   "outputs": [],
   "source": [
    "plt.plot(rh.data_growth.Growth[:], label='MyPortfolio')\n",
    "plt.plot(rh_alt.data_growth.Growth[:], label='SP500')\n",
    "plt.legend()"
   ]
  },
  {
   "cell_type": "code",
   "execution_count": null,
   "metadata": {},
   "outputs": [],
   "source": [
    "plt.plot(rh.data_growth.Growth-rh_alt.data_growth.Growth)\n",
    "plt.hlines(0, xmin=min(rh.data_growth.index), xmax=max(rh.data_growth.index), linestyle='-', linewidth=0.5)"
   ]
  },
  {
   "cell_type": "code",
   "execution_count": null,
   "metadata": {},
   "outputs": [],
   "source": [
    "rh_alt.get_performance()"
   ]
  },
  {
   "cell_type": "code",
   "execution_count": null,
   "metadata": {},
   "outputs": [],
   "source": [
    "rh.get_performance()"
   ]
  },
  {
   "cell_type": "code",
   "execution_count": null,
   "metadata": {
    "scrolled": true
   },
   "outputs": [],
   "source": [
    "# Volatility of portfolio\n",
    "df_volatility = standard_deviation_column(rh.data, column='Total', window=1, shift=1)"
   ]
  },
  {
   "cell_type": "code",
   "execution_count": null,
   "metadata": {
    "scrolled": true
   },
   "outputs": [],
   "source": [
    "rh.get_benchmark()"
   ]
  },
  {
   "cell_type": "code",
   "execution_count": null,
   "metadata": {},
   "outputs": [],
   "source": [
    "rh.get_returns()"
   ]
  },
  {
   "cell_type": "code",
   "execution_count": null,
   "metadata": {},
   "outputs": [],
   "source": [
    "total = et.TotalPortfolioValue(name=\"Total\", data=rh.data) # to-do: turn this into portfolio object"
   ]
  },
  {
   "cell_type": "code",
   "execution_count": null,
   "metadata": {
    "scrolled": true
   },
   "outputs": [],
   "source": [
    "df_volatility = standard_deviation_column(total.data, column='Total', window=1, shift=1)"
   ]
  },
  {
   "cell_type": "code",
   "execution_count": null,
   "metadata": {},
   "outputs": [],
   "source": [
    "total.get_returns()"
   ]
  },
  {
   "cell_type": "code",
   "execution_count": null,
   "metadata": {},
   "outputs": [],
   "source": [
    "total.get_benchmark()"
   ]
  },
  {
   "cell_type": "code",
   "execution_count": null,
   "metadata": {},
   "outputs": [],
   "source": [
    "total.benchmark.get_returns()"
   ]
  },
  {
   "cell_type": "code",
   "execution_count": null,
   "metadata": {
    "scrolled": false
   },
   "outputs": [],
   "source": [
    "rsq(total, total.benchmark, col1='Return', col2='Return')"
   ]
  },
  {
   "cell_type": "code",
   "execution_count": null,
   "metadata": {},
   "outputs": [],
   "source": [
    "beta(sec1=total, sec2=total.benchmark, col1='Return', col2='Return')"
   ]
  },
  {
   "cell_type": "code",
   "execution_count": null,
   "metadata": {},
   "outputs": [],
   "source": [
    "alpha(sec1=total, sec2=total.benchmark, col1='Return', col2='Return', risk_free_rate=.004484)"
   ]
  },
  {
   "cell_type": "code",
   "execution_count": null,
   "metadata": {},
   "outputs": [],
   "source": [
    "# show correlation of positions\n",
    "plot_cross_correlation_matrix(portfolio=rh)"
   ]
  },
  {
   "cell_type": "code",
   "execution_count": null,
   "metadata": {},
   "outputs": [],
   "source": []
  },
  {
   "cell_type": "code",
   "execution_count": null,
   "metadata": {},
   "outputs": [],
   "source": []
  },
  {
   "cell_type": "markdown",
   "metadata": {},
   "source": [
    "## Put in stop loss orders for Robinhood stocks"
   ]
  },
  {
   "cell_type": "code",
   "execution_count": 12,
   "metadata": {},
   "outputs": [],
   "source": [
    "from etfs.trader.orders import put_in_stop_loss_orders_all"
   ]
  },
  {
   "cell_type": "code",
   "execution_count": 13,
   "metadata": {
    "scrolled": false
   },
   "outputs": [
    {
     "name": "stdout",
     "output_type": "stream",
     "text": [
      "Found Additional pages.\n",
      "Loading page 2 ...\n",
      "Loading page 3 ...\n",
      "Loading page 4 ...\n",
      "Loading page 5 ...\n",
      "Loading page 6 ...\n",
      "Loading page 7 ...\n",
      "Loading page 8 ...\n",
      "Loading page 9 ...\n",
      "Loading page 10 ...\n",
      "Loading page 11 ...\n",
      "Loading page 12 ...\n",
      "Loading page 13 ...\n",
      "All Orders Cancelled\n",
      "CRSP 21.0 46.63 47.675180696770255 45.47 -2.205180696770256 -2.4876688826935527\n",
      "SNAP 63.0 15.43 15.826973048073263 15.26 -0.5669730480732635 -1.1017498379779647\n",
      "JMIA 79.0 12.98 13.05712904216767 11.66 -1.3971290421676699 -10.16949152542373\n",
      "ZM 11.0 91.02 92.41998933179266 90.4 -2.019989331792658 -0.6811689738518901\n",
      "AYX 7.0 138.56 139.68514603100937 134.28 -5.405146031009366 -3.0889145496535804\n",
      "WORK 33.0 29.7501 30.338172218991307 29.68 -0.6581722189913073 -0.23562946006904195\n",
      "SHOP 3.0 382.0 383.1369026312318 368.48 -14.656902631231787 -3.5392670157068014\n",
      "SONO 70.0 13.8 13.46702065337086 12.74 -0.7270206533708592 -7.681159420289859\n",
      "EVER 45.0 22.4 22.787656718686204 21.21 -1.5776567186862032 -5.31249999999999\n",
      "BYND 7.0 145.75 148.98329031820373 142.95 -6.03329031820374 -1.9210977701543817\n",
      "JPM 9.0 105.73 107.08491748520834 104.7 -2.3849174852083337 -0.9741795138560495\n",
      "LULU 5.0 180.03 181.27231002036905 177.21 -4.06231002036904 -1.5664055990668184\n",
      "NIO 340.0 2.9 2.9791427344096477 2.84 -0.13914273440964786 -2.0689655172413812\n",
      "REAL 64.0 15.56 16.129603365402364 14.45 -1.6796033654023645 -7.133676092544994\n",
      "OSTK 50.0 19.81 20.022627648901597 18.45 -1.572627648901598 -6.86521958606764\n",
      "IQ 55.0 17.55 17.921923808230353 17.14 -0.7819238082303528 -2.336182336182337\n",
      "GS 5.0 196.2 198.81734365715837 193.24 -5.577343657158366 -1.5086646279306726\n",
      "RH 7.0 140.0 143.31323283840177 138.8 -4.513232838401763 -0.857142857142849\n",
      "TSLA 5.0 210.0 216.93736988930948 205.39 -11.547369889309493 -2.1952380952381016\n",
      "GSK 24.0 41.19 40.957454588377175 40.32 -0.6374545883771745 -2.11216314639475\n",
      "OKTA 7.0 132.3 133.00914635947586 128.59 -4.41914635947586 -2.80423280423281\n",
      "MELI 1.0 598.18 609.270694175473 584.58 -24.690694175472913 -2.2735631415292907\n",
      "GOOG 1.0 1150.01 1170.0171292001155 1131.79 -38.22712920011554 -1.5843340492691391\n",
      "UNH 4.0 230.6701 233.92951618093667 224.79 -9.139516180936681 -2.549138358200737\n",
      "CRWD 11.0 87.6 91.80819880828885 84.18 -7.628198808288843 -3.9041095890410817\n"
     ]
    }
   ],
   "source": [
    "put_in_stop_loss_orders_all(access_token=access_token, \n",
    "                            username=username, \n",
    "                            password=password, \n",
    "                            portfolio=rh, \n",
    "                            column=\"Close\", \n",
    "                            alpha=.5, \n",
    "                            sigmas=2)"
   ]
  },
  {
   "cell_type": "code",
   "execution_count": null,
   "metadata": {},
   "outputs": [],
   "source": []
  },
  {
   "cell_type": "code",
   "execution_count": null,
   "metadata": {},
   "outputs": [],
   "source": []
  },
  {
   "cell_type": "markdown",
   "metadata": {},
   "source": [
    "## Vanguard"
   ]
  },
  {
   "cell_type": "code",
   "execution_count": null,
   "metadata": {
    "scrolled": true
   },
   "outputs": [],
   "source": [
    "vg = import_portfolio_vanguard(path=\"../data/portfolio_vanguard*.csv\", name=\"Vanguard\")"
   ]
  },
  {
   "cell_type": "code",
   "execution_count": null,
   "metadata": {
    "scrolled": false
   },
   "outputs": [],
   "source": [
    "vg.overview()     "
   ]
  },
  {
   "cell_type": "code",
   "execution_count": null,
   "metadata": {},
   "outputs": [],
   "source": [
    "vg.overview_archive()"
   ]
  },
  {
   "cell_type": "code",
   "execution_count": null,
   "metadata": {},
   "outputs": [],
   "source": [
    "vg.positions()"
   ]
  },
  {
   "cell_type": "code",
   "execution_count": null,
   "metadata": {},
   "outputs": [],
   "source": [
    "vg.get_timeseries()"
   ]
  },
  {
   "cell_type": "code",
   "execution_count": null,
   "metadata": {
    "scrolled": false
   },
   "outputs": [],
   "source": [
    "ax = vg.data.plot(y=vg.data.columns,\n",
    "                  figsize=(8,6)\n",
    "                 )"
   ]
  },
  {
   "cell_type": "code",
   "execution_count": null,
   "metadata": {},
   "outputs": [],
   "source": [
    "plot_composition(portfolio=vg)"
   ]
  },
  {
   "cell_type": "code",
   "execution_count": null,
   "metadata": {},
   "outputs": [],
   "source": [
    "vg.data_growth.plot(y=\"Growth\")"
   ]
  },
  {
   "cell_type": "code",
   "execution_count": null,
   "metadata": {},
   "outputs": [],
   "source": [
    "vg.get_performance()"
   ]
  },
  {
   "cell_type": "code",
   "execution_count": null,
   "metadata": {},
   "outputs": [],
   "source": [
    "vg.get_benchmark()"
   ]
  },
  {
   "cell_type": "code",
   "execution_count": null,
   "metadata": {},
   "outputs": [],
   "source": [
    "# Volatility of portfolio\n",
    "df_volatility = standard_deviation_column(vg.data, column='Total', window=1, shift=1)"
   ]
  },
  {
   "cell_type": "code",
   "execution_count": null,
   "metadata": {
    "scrolled": true
   },
   "outputs": [],
   "source": [
    "df_volatility = standard_deviation_column(vg.benchmark.data, column='Close', window=1, shift=1)"
   ]
  },
  {
   "cell_type": "code",
   "execution_count": null,
   "metadata": {},
   "outputs": [],
   "source": [
    "total = et.TotalPortfolioValue(name=\"Total\", data=vg.data) # to-do: turn this into portfolio object"
   ]
  },
  {
   "cell_type": "code",
   "execution_count": null,
   "metadata": {},
   "outputs": [],
   "source": [
    "total.get_benchmark()"
   ]
  },
  {
   "cell_type": "code",
   "execution_count": null,
   "metadata": {},
   "outputs": [],
   "source": [
    "total.get_returns()"
   ]
  },
  {
   "cell_type": "code",
   "execution_count": null,
   "metadata": {},
   "outputs": [],
   "source": [
    "rsq(total, total.benchmark, col1='Return', col2='Return')"
   ]
  },
  {
   "cell_type": "code",
   "execution_count": null,
   "metadata": {},
   "outputs": [],
   "source": [
    "beta(sec1=total, sec2=total.benchmark, col1='Return', col2='Return')"
   ]
  },
  {
   "cell_type": "code",
   "execution_count": null,
   "metadata": {},
   "outputs": [],
   "source": [
    "alpha(sec1=total, sec2=total.benchmark, col1='Return', col2='Return', risk_free_rate=.004484)"
   ]
  },
  {
   "cell_type": "code",
   "execution_count": null,
   "metadata": {},
   "outputs": [],
   "source": [
    "# show correlation of positions\n",
    "plot_cross_correlation_matrix(portfolio=vg)"
   ]
  },
  {
   "cell_type": "code",
   "execution_count": null,
   "metadata": {},
   "outputs": [],
   "source": []
  },
  {
   "cell_type": "code",
   "execution_count": null,
   "metadata": {},
   "outputs": [],
   "source": []
  },
  {
   "cell_type": "markdown",
   "metadata": {},
   "source": [
    "## Calculate stop loss prices for Vanguard stocks"
   ]
  },
  {
   "cell_type": "code",
   "execution_count": null,
   "metadata": {},
   "outputs": [],
   "source": [
    "from etfs.trader.orders import get_stop_loss_price\n",
    "from etfs.stats.basics import ewm_column"
   ]
  },
  {
   "cell_type": "code",
   "execution_count": null,
   "metadata": {
    "scrolled": true
   },
   "outputs": [],
   "source": [
    "for security in vg.securities:\n",
    "    last_price = vg.securities[security].get_last_price()\n",
    "    stop_loss_price = get_stop_loss_price(security=vg.securities[security], column=\"Close\", alpha=.5, sigmas=3)\n",
    "    print(vg.securities[security].ticker, \n",
    "          vg.securities[security].last_price_ewm, \n",
    "          stop_loss_price,\n",
    "          100*(last_price-stop_loss_price)/last_price, \n",
    "         )\n",
    "\n",
    "    df, _ = ewm_column(vg.securities[security].data, column='Close', alpha=0.5, func='mean')\n",
    "    df, _ = ewm_column(df, column='Close', alpha=0.5, func='std')\n",
    "\n",
    "    plt.figure(figsize=(20,8))\n",
    "    plt.plot(df[\"Close_ewm0.5_mean\"])\n",
    "    plt.plot(df[\"Close_ewm0.5_mean\"]-3*df[\"Close_ewm0.5_std\"])\n",
    "    plt.show()"
   ]
  },
  {
   "cell_type": "code",
   "execution_count": null,
   "metadata": {},
   "outputs": [],
   "source": []
  },
  {
   "cell_type": "code",
   "execution_count": null,
   "metadata": {},
   "outputs": [],
   "source": []
  },
  {
   "cell_type": "markdown",
   "metadata": {
    "collapsed": true
   },
   "source": [
    "## Add up portfolios"
   ]
  },
  {
   "cell_type": "code",
   "execution_count": null,
   "metadata": {},
   "outputs": [],
   "source": [
    "tot = et.Portfolio(name=\"tot\")"
   ]
  },
  {
   "cell_type": "code",
   "execution_count": null,
   "metadata": {
    "scrolled": true
   },
   "outputs": [],
   "source": [
    "tot = parse_portfolio([rh.transactions, vg.transactions], tot)"
   ]
  },
  {
   "cell_type": "code",
   "execution_count": null,
   "metadata": {},
   "outputs": [],
   "source": [
    "tot.get_timeseries()"
   ]
  },
  {
   "cell_type": "code",
   "execution_count": null,
   "metadata": {},
   "outputs": [],
   "source": [
    "tot.data_growth.plot(y=[\"Growth\"])"
   ]
  },
  {
   "cell_type": "code",
   "execution_count": null,
   "metadata": {},
   "outputs": [],
   "source": [
    "tot.get_performance()"
   ]
  },
  {
   "cell_type": "code",
   "execution_count": null,
   "metadata": {
    "scrolled": false
   },
   "outputs": [],
   "source": [
    "tot.overview()"
   ]
  },
  {
   "cell_type": "code",
   "execution_count": null,
   "metadata": {
    "scrolled": true
   },
   "outputs": [],
   "source": [
    "tot.positions()"
   ]
  },
  {
   "cell_type": "code",
   "execution_count": null,
   "metadata": {},
   "outputs": [],
   "source": [
    "tot.overview_df['Growth'] = tot.overview_df['Return']/tot.overview_df['CurrentValue']*100"
   ]
  },
  {
   "cell_type": "code",
   "execution_count": null,
   "metadata": {
    "scrolled": false
   },
   "outputs": [],
   "source": [
    "ax = tot.overview_df.sort_values(by='Growth', ascending=True).plot(x='Description', \n",
    "                                                                   y='Growth', \n",
    "                                                                   kind='barh', \n",
    "                                                                   legend=False, \n",
    "                                                                   title='Growth',\n",
    "                                                                   figsize=(10,8)\n",
    "                                                                  )"
   ]
  },
  {
   "cell_type": "code",
   "execution_count": null,
   "metadata": {},
   "outputs": [],
   "source": [
    "ax = tot.positions_df.reset_index().sort_values(by='PercentGrowth', ascending=True).plot(x='Ticker', \n",
    "                                                                                         y='PercentGrowth', \n",
    "                                                                                         kind='barh', \n",
    "                                                                                         legend=False, \n",
    "                                                                                         title='PercentGrowth',\n",
    "                                                                                         figsize=(10,10)\n",
    "                                                                                        )"
   ]
  },
  {
   "cell_type": "code",
   "execution_count": null,
   "metadata": {},
   "outputs": [],
   "source": [
    "tot.overview_df['PriceChange'] = 100-tot.overview_df['AvgPriceFiFo']/tot.overview_df['LastPrice']*100"
   ]
  },
  {
   "cell_type": "code",
   "execution_count": null,
   "metadata": {},
   "outputs": [],
   "source": [
    "ax = tot.overview_df.sort_values(by='PriceChange', ascending=True).plot(x='Description', \n",
    "                                                                        y='PriceChange', \n",
    "                                                                        kind='barh', \n",
    "                                                                        legend=False, \n",
    "                                                                        title='Price Change',\n",
    "                                                                        figsize=(10,8)\n",
    "                                                                       )"
   ]
  },
  {
   "cell_type": "code",
   "execution_count": null,
   "metadata": {
    "scrolled": false
   },
   "outputs": [],
   "source": [
    "tot.overview_archive()"
   ]
  },
  {
   "cell_type": "code",
   "execution_count": null,
   "metadata": {},
   "outputs": [],
   "source": [
    "ax = tot.overview_archive_df.sort_values(by='Return', ascending=True).plot(x='Description', \n",
    "                                                                   y='Return', \n",
    "                                                                   kind='barh', \n",
    "                                                                   legend=False, \n",
    "                                                                   title='Return',\n",
    "                                                                   figsize=(10,8)\n",
    "                                                                  )"
   ]
  },
  {
   "cell_type": "code",
   "execution_count": null,
   "metadata": {},
   "outputs": [],
   "source": [
    "ax = pd.concat([tot.overview_df, tot.overview_archive_df], axis=0, ignore_index=True, sort=False).sort_values(by='Return', ascending=True).plot(x='Description', \n",
    "                                                                   y='Return', \n",
    "                                                                   kind='barh', \n",
    "                                                                   legend=False, \n",
    "                                                                   title='Return',\n",
    "                                                                   figsize=(10,10)\n",
    "                                                                  )"
   ]
  },
  {
   "cell_type": "code",
   "execution_count": null,
   "metadata": {},
   "outputs": [],
   "source": [
    "plot_composition(portfolio=tot)"
   ]
  },
  {
   "cell_type": "code",
   "execution_count": null,
   "metadata": {},
   "outputs": [],
   "source": [
    "total = et.TotalPortfolioValue(name=\"Total\", data=tot.data) # to-do: turn this into portfolio object"
   ]
  },
  {
   "cell_type": "code",
   "execution_count": null,
   "metadata": {},
   "outputs": [],
   "source": [
    "total.get_returns()"
   ]
  },
  {
   "cell_type": "code",
   "execution_count": null,
   "metadata": {},
   "outputs": [],
   "source": [
    "total.get_benchmark()"
   ]
  },
  {
   "cell_type": "code",
   "execution_count": null,
   "metadata": {
    "scrolled": true
   },
   "outputs": [],
   "source": [
    "rsq(sec1=total, sec2=total.benchmark, col1='Return', col2='Return')"
   ]
  },
  {
   "cell_type": "code",
   "execution_count": null,
   "metadata": {
    "scrolled": true
   },
   "outputs": [],
   "source": [
    "beta(sec1=total, sec2=total.benchmark, col1='Return', col2='Return')"
   ]
  },
  {
   "cell_type": "code",
   "execution_count": null,
   "metadata": {},
   "outputs": [],
   "source": [
    "alpha(sec1=total, sec2=total.benchmark, col1='Return', col2='Return', risk_free_rate=.004484)"
   ]
  },
  {
   "cell_type": "code",
   "execution_count": null,
   "metadata": {},
   "outputs": [],
   "source": [
    "# show correlation of positions\n",
    "plot_cross_correlation_matrix(portfolio=tot)"
   ]
  },
  {
   "cell_type": "code",
   "execution_count": null,
   "metadata": {},
   "outputs": [],
   "source": []
  },
  {
   "cell_type": "code",
   "execution_count": null,
   "metadata": {},
   "outputs": [],
   "source": []
  },
  {
   "cell_type": "markdown",
   "metadata": {},
   "source": [
    "## Performance analysis of individual securities"
   ]
  },
  {
   "cell_type": "code",
   "execution_count": null,
   "metadata": {},
   "outputs": [],
   "source": [
    "from etfs.visualization.analysis import plot_security_performance"
   ]
  },
  {
   "cell_type": "code",
   "execution_count": null,
   "metadata": {
    "scrolled": false
   },
   "outputs": [],
   "source": [
    "plot_security_performance(portfolio=tot, ticker='OKTA')"
   ]
  },
  {
   "cell_type": "code",
   "execution_count": null,
   "metadata": {
    "scrolled": false
   },
   "outputs": [],
   "source": [
    "for ticker in tot.tickers:\n",
    "    plot_security_performance(portfolio=tot, ticker=ticker)"
   ]
  },
  {
   "cell_type": "code",
   "execution_count": null,
   "metadata": {},
   "outputs": [],
   "source": []
  },
  {
   "cell_type": "code",
   "execution_count": null,
   "metadata": {},
   "outputs": [],
   "source": []
  }
 ],
 "metadata": {
  "kernelspec": {
   "display_name": "Python 3",
   "language": "python",
   "name": "python3"
  },
  "language_info": {
   "codemirror_mode": {
    "name": "ipython",
    "version": 3
   },
   "file_extension": ".py",
   "mimetype": "text/x-python",
   "name": "python",
   "nbconvert_exporter": "python",
   "pygments_lexer": "ipython3",
   "version": "3.6.5"
  }
 },
 "nbformat": 4,
 "nbformat_minor": 2
}

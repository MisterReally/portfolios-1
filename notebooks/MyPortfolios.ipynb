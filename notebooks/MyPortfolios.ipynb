{
 "cells": [
  {
   "cell_type": "markdown",
   "metadata": {},
   "source": [
    "# My portfolios"
   ]
  },
  {
   "cell_type": "code",
   "execution_count": 39,
   "metadata": {
    "scrolled": false
   },
   "outputs": [
    {
     "name": "stdout",
     "output_type": "stream",
     "text": [
      "The autoreload extension is already loaded. To reload it, use:\n",
      "  %reload_ext autoreload\n"
     ]
    }
   ],
   "source": [
    "%load_ext autoreload\n",
    "%autoreload 2"
   ]
  },
  {
   "cell_type": "code",
   "execution_count": 40,
   "metadata": {
    "collapsed": true
   },
   "outputs": [],
   "source": [
    "import pandas as pd\n",
    "import matplotlib.pyplot as plt"
   ]
  },
  {
   "cell_type": "code",
   "execution_count": 41,
   "metadata": {
    "collapsed": true
   },
   "outputs": [],
   "source": [
    "from etfs.portfolio import portfolio\n",
    "from etfs.portfolio.io import import_portfolio, import_vanguard_portfolio\n",
    "from etfs.stats.basics import resample_df, runrate_column, shift_column, return_column, difference, rsq"
   ]
  },
  {
   "cell_type": "markdown",
   "metadata": {},
   "source": [
    "## RobinHood"
   ]
  },
  {
   "cell_type": "code",
   "execution_count": 42,
   "metadata": {
    "scrolled": true
   },
   "outputs": [
    {
     "name": "stdout",
     "output_type": "stream",
     "text": [
      "adding CHK\n",
      "Cash balance: 550.00 USD\n",
      "adding BABA\n",
      "adding AAPL\n",
      "adding MSFT\n",
      "Cash balance: 1.13 USD\n",
      "Cash balance: 551.13 USD\n",
      "adding W\n",
      "Cash balance: 24.10 USD\n",
      "adding DB\n",
      "removing CHK\n",
      "Cash balance: 1.13 USD\n",
      "Cash balance: 1.38 USD\n",
      "Cash balance: 2.22 USD\n",
      "Cash balance: 552.22 USD\n",
      "adding JD\n",
      "removing DB\n",
      "adding IQ\n",
      "adding AMD\n",
      "Cash balance: 220.74 USD\n",
      "Cash balance: 185.56 USD\n"
     ]
    }
   ],
   "source": [
    "rh = import_portfolio(path=\"../data/portfolio_rh.csv\", name=\"RobinHood\")"
   ]
  },
  {
   "cell_type": "code",
   "execution_count": 43,
   "metadata": {
    "scrolled": false
   },
   "outputs": [
    {
     "name": "stdout",
     "output_type": "stream",
     "text": [
      "        Quantity    AvgPrice   LastPrice  TradeValue  CurrentValue  Dividends  \\\n",
      "Ticker                                                                          \n",
      "AAPL         1.0  167.680000  191.330002      167.68    191.330002        0.0   \n",
      "AMD         17.0   16.825882   16.270000      286.04    276.590008        0.0   \n",
      "BABA         1.0  193.340000  190.039993      193.34    190.039993        0.0   \n",
      "IQ          18.0   36.631111   33.950001      659.36    611.100014        0.0   \n",
      "JD           6.0   42.000000   38.270000      252.00    229.620003        0.0   \n",
      "MSFT         2.0   94.240000  105.430000      188.48    210.860001        0.0   \n",
      "W            5.0   59.990000  119.169998      299.95    595.849991        0.0   \n",
      "\n",
      "            Return  \n",
      "Ticker              \n",
      "AAPL     23.650002  \n",
      "AMD      -9.449992  \n",
      "BABA     -3.300007  \n",
      "IQ      -48.259986  \n",
      "JD      -22.379997  \n",
      "MSFT     22.380001  \n",
      "W       295.899991  \n",
      "\n",
      "Total portfolio value:\t 2310.41 USD\n",
      "Total security value:\t 2305.39 USD\n",
      "Cash in wallet:\t\t    5.02 USD\n",
      "Total return:\t\t  260.41 USD\t(11.27%)\n"
     ]
    }
   ],
   "source": [
    "rh.overview()"
   ]
  },
  {
   "cell_type": "code",
   "execution_count": 44,
   "metadata": {},
   "outputs": [
    {
     "name": "stdout",
     "output_type": "stream",
     "text": [
      "        Quantity  Bought  Sold  CurrentValue  Invested  Devested  Dividends  \\\n",
      "Ticker                                                                        \n",
      "IQ          18.0    18.0   0.0    611.100014    659.36      0.00        0.0   \n",
      "W            5.0     7.0   2.0    595.849991    527.87    227.92        0.0   \n",
      "AMD         17.0    17.0   0.0    276.590008    286.04      0.00        0.0   \n",
      "JD           6.0     6.0   0.0    229.620003    252.00      0.00        0.0   \n",
      "MSFT         2.0     2.0   0.0    210.860001    188.48      0.00        0.0   \n",
      "AAPL         1.0     1.0   0.0    191.330002    167.68      0.00        0.0   \n",
      "BABA         1.0     1.0   0.0    190.039993    193.34      0.00        0.0   \n",
      "DB           0.0     2.0   2.0      0.000000     27.40     22.28        0.0   \n",
      "CHK          0.0     1.0   1.0      0.000000      0.00      3.70        0.0   \n",
      "\n",
      "            Return  PercentGrowth  \n",
      "Ticker                             \n",
      "IQ      -48.259986      -7.319217  \n",
      "W       295.899991      56.055466  \n",
      "AMD      -9.449992      -3.303731  \n",
      "JD      -22.379997      -8.880951  \n",
      "MSFT     22.380001      11.873939  \n",
      "AAPL     23.650002      14.104247  \n",
      "BABA     -3.300007      -1.706841  \n",
      "DB       -5.120000     -18.686131  \n",
      "CHK       3.700000            NaN  \n"
     ]
    }
   ],
   "source": [
    "rh.positions()"
   ]
  },
  {
   "cell_type": "code",
   "execution_count": 45,
   "metadata": {},
   "outputs": [],
   "source": [
    "rh.get_timeseries()"
   ]
  },
  {
   "cell_type": "code",
   "execution_count": 46,
   "metadata": {
    "scrolled": true
   },
   "outputs": [
    {
     "data": {
      "text/plain": [
       "<matplotlib.axes._subplots.AxesSubplot at 0x1a11f39668>"
      ]
     },
     "execution_count": 46,
     "metadata": {},
     "output_type": "execute_result"
    },
    {
     "data": {
      "image/png": "[encoded data removed]",
      "text/plain": [
       "<matplotlib.figure.Figure at 0x1a11f6cf60>"
      ]
     },
     "metadata": {},
     "output_type": "display_data"
    }
   ],
   "source": [
    "rh.timeseries.plot(x=rh.timeseries.index, y=rh.timeseries.columns)"
   ]
  },
  {
   "cell_type": "code",
   "execution_count": 47,
   "metadata": {
    "scrolled": true
   },
   "outputs": [
    {
     "name": "stdout",
     "output_type": "stream",
     "text": [
      "Average volatility of 'Total' is 0.04868617712323294\n"
     ]
    }
   ],
   "source": [
    "# Volatility of portfolio\n",
    "df_volatility = return_column(rh.timeseries, column='Total', window=1, shift=1)"
   ]
  },
  {
   "cell_type": "code",
   "execution_count": 48,
   "metadata": {
    "scrolled": true
   },
   "outputs": [],
   "source": [
    "rh.get_benchmark()"
   ]
  },
  {
   "cell_type": "code",
   "execution_count": 49,
   "metadata": {},
   "outputs": [
    {
     "name": "stdout",
     "output_type": "stream",
     "text": [
      "Average volatility of 'Close' is 0.010854917298914286\n"
     ]
    }
   ],
   "source": [
    "df_volatility = return_column(rh.benchmark.data, column='Close', window=1, shift=1)"
   ]
  },
  {
   "cell_type": "code",
   "execution_count": 50,
   "metadata": {},
   "outputs": [],
   "source": [
    "total = portfolio.total(name=\"Total\", data=rh.timeseries) # to-do: turn this into portfolio object"
   ]
  },
  {
   "cell_type": "code",
   "execution_count": 51,
   "metadata": {},
   "outputs": [
    {
     "data": {
      "text/plain": [
       "0.21497174606297595"
      ]
     },
     "execution_count": 51,
     "metadata": {},
     "output_type": "execute_result"
    }
   ],
   "source": [
    "rsq(total, rh.benchmark, col1='Total', col2='Close')"
   ]
  },
  {
   "cell_type": "code",
   "execution_count": null,
   "metadata": {
    "collapsed": true
   },
   "outputs": [],
   "source": []
  },
  {
   "cell_type": "code",
   "execution_count": null,
   "metadata": {
    "collapsed": true
   },
   "outputs": [],
   "source": []
  },
  {
   "cell_type": "markdown",
   "metadata": {},
   "source": [
    "## Vanguard"
   ]
  },
  {
   "cell_type": "code",
   "execution_count": 52,
   "metadata": {
    "scrolled": true
   },
   "outputs": [
    {
     "name": "stdout",
     "output_type": "stream",
     "text": [
      "Cash balance: 5500.00 USD\n",
      "Cash balance: 5502.23 USD\n",
      "Cash balance: 5507.58 USD\n",
      "adding VOO\n",
      "adding VO\n",
      "adding VGK\n",
      "adding VB\n",
      "Cash balance: 38.88 USD\n",
      "Cash balance: 5538.88 USD\n",
      "Cash balance: 38.60 USD\n",
      "Cash balance: 38.59 USD\n",
      "Cash balance: 38.55 USD\n",
      "Cash balance: 38.60 USD\n",
      "Cash balance: 38.71 USD\n",
      "Cash balance: 38.69 USD\n",
      "Cash balance: 38.74 USD\n",
      "Cash balance: 38.79 USD\n",
      "Cash balance: 3038.79 USD\n",
      "Cash balance: 3042.24 USD\n",
      "Cash balance: 3043.93 USD\n",
      "Cash balance: 3090.76 USD\n",
      "Cash balance: 3038.79 USD\n",
      "Cash balance: 3039.54 USD\n"
     ]
    }
   ],
   "source": [
    "vg = import_vanguard_portfolio(path=\"../data/portfolio_vanguard.csv\", name=\"Vanguard\")"
   ]
  },
  {
   "cell_type": "code",
   "execution_count": 53,
   "metadata": {},
   "outputs": [
    {
     "name": "stdout",
     "output_type": "stream",
     "text": [
      "        Quantity    AvgPrice   LastPrice   TradeValue  CurrentValue  \\\n",
      "Ticker                                                                \n",
      "VB         9.050  150.410014  159.880005  1361.210628   1446.914044   \n",
      "VGK       43.036   60.723416   57.080002  2613.292911   2456.494959   \n",
      "VO         3.021  158.275511  161.889999   478.150320    489.069688   \n",
      "VOO       26.117  253.483379  256.790009  6620.225417   6706.584653   \n",
      "\n",
      "        Dividends      Return  \n",
      "Ticker                         \n",
      "VB           7.55   93.253416  \n",
      "VGK         58.51  -98.287952  \n",
      "VO           3.23   14.149369  \n",
      "VOO         28.18  114.539236  \n",
      "\n",
      "Total portfolio value:\t14138.60 USD\n",
      "Total security value:\t11099.06 USD\n",
      "Cash in wallet:\t\t 3039.54 USD\n",
      "Total return:\t\t  138.60 USD\t(0.98%)\n"
     ]
    }
   ],
   "source": [
    "vg.overview()     "
   ]
  },
  {
   "cell_type": "code",
   "execution_count": 54,
   "metadata": {},
   "outputs": [
    {
     "name": "stdout",
     "output_type": "stream",
     "text": [
      "        Quantity  Bought  Sold  CurrentValue     Invested  Devested  \\\n",
      "Ticker                                                                \n",
      "VOO       26.117  26.117   0.0   6706.584653  6620.225417       0.0   \n",
      "VGK       43.036  43.036   0.0   2456.494959  2613.292911       0.0   \n",
      "VB         9.050   9.050   0.0   1446.914044  1361.210628       0.0   \n",
      "VO         3.021   3.021   0.0    489.069688   478.150320       0.0   \n",
      "\n",
      "        Dividends      Return  PercentGrowth  \n",
      "Ticker                                        \n",
      "VOO         28.18  114.539236       1.730141  \n",
      "VGK         58.51  -98.287952      -3.761077  \n",
      "VB           7.55   93.253416       6.850770  \n",
      "VO           3.23   14.149369       2.959188  \n"
     ]
    }
   ],
   "source": [
    "vg.positions()"
   ]
  },
  {
   "cell_type": "code",
   "execution_count": 55,
   "metadata": {
    "collapsed": true
   },
   "outputs": [],
   "source": [
    "vg.get_timeseries()"
   ]
  },
  {
   "cell_type": "code",
   "execution_count": 59,
   "metadata": {},
   "outputs": [
    {
     "data": {
      "text/plain": [
       "<matplotlib.axes._subplots.AxesSubplot at 0x1a11f6c908>"
      ]
     },
     "execution_count": 59,
     "metadata": {},
     "output_type": "execute_result"
    },
    {
     "data": {
      "image/png": "[encoded data removed]",
      "text/plain": [
       "<matplotlib.figure.Figure at 0x1a127826a0>"
      ]
     },
     "metadata": {},
     "output_type": "display_data"
    }
   ],
   "source": [
    "vg.timeseries.plot(x=vg.timeseries.index, y=vg.timeseries.columns)"
   ]
  },
  {
   "cell_type": "code",
   "execution_count": 60,
   "metadata": {
    "collapsed": true
   },
   "outputs": [],
   "source": [
    "vg.get_benchmark()"
   ]
  },
  {
   "cell_type": "code",
   "execution_count": 74,
   "metadata": {},
   "outputs": [
    {
     "name": "stdout",
     "output_type": "stream",
     "text": [
      "Average volatility of 'Total' is 0.038693222094081645\n"
     ]
    }
   ],
   "source": [
    "# Volatility of portfolio\n",
    "df_volatility = return_column(vg.timeseries, column='Total', window=1, shift=1)"
   ]
  },
  {
   "cell_type": "code",
   "execution_count": 61,
   "metadata": {
    "scrolled": true
   },
   "outputs": [
    {
     "name": "stdout",
     "output_type": "stream",
     "text": [
      "Average volatility of 'Close' is 0.010503431051184146\n"
     ]
    }
   ],
   "source": [
    "df_volatility = return_column(vg.benchmark.data, column='Close', window=1, shift=1)"
   ]
  },
  {
   "cell_type": "code",
   "execution_count": 62,
   "metadata": {
    "collapsed": true
   },
   "outputs": [],
   "source": [
    "total = portfolio.total(name=\"Total\", data=vg.timeseries) # to-do: turn this into portfolio object"
   ]
  },
  {
   "cell_type": "code",
   "execution_count": 63,
   "metadata": {},
   "outputs": [
    {
     "data": {
      "text/plain": [
       "0.048961611937420893"
      ]
     },
     "execution_count": 63,
     "metadata": {},
     "output_type": "execute_result"
    }
   ],
   "source": [
    "rsq(total, vg.benchmark, col1='Total', col2='Close')  #hm, doesn't look right"
   ]
  },
  {
   "cell_type": "code",
   "execution_count": null,
   "metadata": {
    "collapsed": true
   },
   "outputs": [],
   "source": []
  },
  {
   "cell_type": "markdown",
   "metadata": {},
   "source": [
    "## Another Vanguard"
   ]
  },
  {
   "cell_type": "code",
   "execution_count": 64,
   "metadata": {
    "scrolled": false
   },
   "outputs": [
    {
     "name": "stdout",
     "output_type": "stream",
     "text": [
      "Cash balance: 5500.00 USD\n",
      "Cash balance: 5501.12 USD\n",
      "Cash balance: 5506.47 USD\n",
      "adding BNDX\n",
      "adding VAW\n",
      "adding VCLT\n",
      "adding VDC\n",
      "adding VGK\n",
      "adding VNQI\n",
      "adding VPL\n",
      "adding VWO\n",
      "adding VNQ\n",
      "Cash balance: 22.53 USD\n",
      "Cash balance: 22.53 USD\n",
      "Cash balance: 22.51 USD\n",
      "Cash balance: 5522.51 USD\n",
      "Cash balance: 22.75 USD\n",
      "Cash balance: 22.74 USD\n",
      "Cash balance: 22.74 USD\n",
      "Cash balance: 22.69 USD\n",
      "Cash balance: 25.62 USD\n",
      "Cash balance: 25.22 USD\n",
      "Cash balance: 13.47 USD\n",
      "Cash balance: 22.73 USD\n",
      "Cash balance: 22.23 USD\n",
      "Cash balance: 19.43 USD\n",
      "Cash balance: 22.74 USD\n",
      "Cash balance: 22.78 USD\n",
      "Cash balance: 22.78 USD\n",
      "Cash balance: 22.81 USD\n",
      "Cash balance: 23.66 USD\n",
      "Cash balance: 23.70 USD\n",
      "Cash balance: 22.85 USD\n",
      "Cash balance: 22.86 USD\n",
      "Cash balance: 22.87 USD\n",
      "Cash balance: 33.95 USD\n",
      "Cash balance: 22.85 USD\n",
      "Cash balance: 22.83 USD\n",
      "Cash balance: 22.82 USD\n",
      "Cash balance: 22.85 USD\n"
     ]
    }
   ],
   "source": [
    "vg_2 = import_vanguard_portfolio(path=\"../data/portfolio_vanguard_2.csv\", name=\"Vanguard\")"
   ]
  },
  {
   "cell_type": "code",
   "execution_count": 65,
   "metadata": {},
   "outputs": [
    {
     "name": "stdout",
     "output_type": "stream",
     "text": [
      "        Quantity    AvgPrice   LastPrice   TradeValue  CurrentValue  \\\n",
      "Ticker                                                                \n",
      "BNDX      20.077   54.120880   54.910000  1086.584915   1102.428067   \n",
      "VAW        8.022  139.434494  133.029999  1118.543512   1067.166650   \n",
      "VCLT      12.196   93.212889   89.430000  1136.824396   1090.688284   \n",
      "VDC        8.032  142.940162  137.139999  1148.095382   1101.508475   \n",
      "VGK        9.222   60.594282   57.080002   558.800471    526.391777   \n",
      "VNQ       15.279   76.612456   82.260002  1170.561714   1256.850573   \n",
      "VNQI      18.022   61.763579   58.310001  1113.103220   1050.862845   \n",
      "VPL       29.263   74.873573   69.570000  2191.025366   2035.826901   \n",
      "VWO       32.271   48.381265   42.799999  1561.311792   1381.198775   \n",
      "\n",
      "        Dividends      Return  \n",
      "Ticker                         \n",
      "BNDX         4.18   20.023152  \n",
      "VAW          2.93  -48.446861  \n",
      "VCLT        17.58  -28.556112  \n",
      "VDC          4.29  -42.296907  \n",
      "VGK         12.53  -19.878695  \n",
      "VNQ         21.67  107.958858  \n",
      "VNQI         1.36  -60.880375  \n",
      "VPL         18.54 -136.658465  \n",
      "VWO         11.64 -168.473017  \n",
      "\n",
      "Total portfolio value:\t10635.77 USD\n",
      "Total security value:\t10612.92 USD\n",
      "Cash in wallet:\t\t   22.85 USD\n",
      "Total return:\t\t -364.23 USD\t(-3.42%)\n"
     ]
    }
   ],
   "source": [
    "vg_2.overview()"
   ]
  },
  {
   "cell_type": "code",
   "execution_count": 66,
   "metadata": {},
   "outputs": [
    {
     "name": "stdout",
     "output_type": "stream",
     "text": [
      "        Quantity  Bought  Sold  CurrentValue     Invested  Devested  \\\n",
      "Ticker                                                                \n",
      "VPL       29.263  29.263   0.0   2035.826901  2191.025366       0.0   \n",
      "VWO       32.271  32.271   0.0   1381.198775  1561.311792       0.0   \n",
      "VNQ       15.279  15.279   0.0   1256.850573  1170.561714       0.0   \n",
      "BNDX      20.077  20.077   0.0   1102.428067  1086.584915       0.0   \n",
      "VDC        8.032   8.032   0.0   1101.508475  1148.095382       0.0   \n",
      "VCLT      12.196  12.196   0.0   1090.688284  1136.824396       0.0   \n",
      "VAW        8.022   8.022   0.0   1067.166650  1118.543512       0.0   \n",
      "VNQI      18.022  18.022   0.0   1050.862845  1113.103220       0.0   \n",
      "VGK        9.222   9.222   0.0    526.391777   558.800471       0.0   \n",
      "\n",
      "        Dividends      Return  PercentGrowth  \n",
      "Ticker                                        \n",
      "VPL         18.54 -136.658465      -6.237192  \n",
      "VWO         11.64 -168.473017     -10.790479  \n",
      "VNQ         21.67  107.958858       9.222825  \n",
      "BNDX         4.18   20.023152       1.842760  \n",
      "VDC          4.29  -42.296907      -3.684093  \n",
      "VCLT        17.58  -28.556112      -2.511919  \n",
      "VAW          2.93  -48.446861      -4.331245  \n",
      "VNQI         1.36  -60.880375      -5.469428  \n",
      "VGK         12.53  -19.878695      -3.557387  \n"
     ]
    }
   ],
   "source": [
    "vg_2.positions()"
   ]
  },
  {
   "cell_type": "code",
   "execution_count": 67,
   "metadata": {},
   "outputs": [],
   "source": [
    "vg_2.get_timeseries()"
   ]
  },
  {
   "cell_type": "code",
   "execution_count": 70,
   "metadata": {},
   "outputs": [
    {
     "data": {
      "text/plain": [
       "<matplotlib.axes._subplots.AxesSubplot at 0x1a13001278>"
      ]
     },
     "execution_count": 70,
     "metadata": {},
     "output_type": "execute_result"
    },
    {
     "data": {
      "image/png": "[encoded data removed]",
      "text/plain": [
       "<matplotlib.figure.Figure at 0x1a12ffb898>"
      ]
     },
     "metadata": {},
     "output_type": "display_data"
    }
   ],
   "source": [
    "vg_2.timeseries.plot(x=vg_2.timeseries.index, y=vg_2.timeseries.columns)"
   ]
  },
  {
   "cell_type": "code",
   "execution_count": 71,
   "metadata": {
    "collapsed": true
   },
   "outputs": [],
   "source": [
    "vg_2.get_benchmark()"
   ]
  },
  {
   "cell_type": "code",
   "execution_count": 75,
   "metadata": {},
   "outputs": [
    {
     "name": "stdout",
     "output_type": "stream",
     "text": [
      "Average volatility of 'Total' is 0.038296832137186\n"
     ]
    }
   ],
   "source": [
    "# Volatility of portfolio\n",
    "df_volatility = return_column(vg_2.timeseries, column='Total', window=1, shift=1)"
   ]
  },
  {
   "cell_type": "code",
   "execution_count": 73,
   "metadata": {},
   "outputs": [
    {
     "name": "stdout",
     "output_type": "stream",
     "text": [
      "Average volatility of 'Close' is 0.010503431051184146\n"
     ]
    }
   ],
   "source": [
    "df_volatility = return_column(vg_2.benchmark.data, column='Close', window=1, shift=1)"
   ]
  },
  {
   "cell_type": "code",
   "execution_count": 76,
   "metadata": {
    "collapsed": true
   },
   "outputs": [],
   "source": [
    "total = portfolio.total(name=\"Total\", data=vg_2.timeseries) # to-do: turn this into portfolio object"
   ]
  },
  {
   "cell_type": "code",
   "execution_count": 77,
   "metadata": {},
   "outputs": [
    {
     "data": {
      "text/plain": [
       "0.071984070442556516"
      ]
     },
     "execution_count": 77,
     "metadata": {},
     "output_type": "execute_result"
    }
   ],
   "source": [
    "rsq(total, vg_2.benchmark, col1='Total', col2='Close')  #hm, doesn't look right"
   ]
  },
  {
   "cell_type": "code",
   "execution_count": null,
   "metadata": {
    "collapsed": true
   },
   "outputs": [],
   "source": [
    "#rsq(vg, vg_2, col1='Total', col2='Close')"
   ]
  }
 ],
 "metadata": {
  "kernelspec": {
   "display_name": "Python 3",
   "language": "python",
   "name": "python3"
  },
  "language_info": {
   "codemirror_mode": {
    "name": "ipython",
    "version": 3
   },
   "file_extension": ".py",
   "mimetype": "text/x-python",
   "name": "python",
   "nbconvert_exporter": "python",
   "pygments_lexer": "ipython3",
   "version": "3.5.4"
  }
 },
 "nbformat": 4,
 "nbformat_minor": 2
}
